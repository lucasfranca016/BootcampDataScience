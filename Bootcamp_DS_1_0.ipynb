{
  "nbformat": 4,
  "nbformat_minor": 0,
  "metadata": {
    "kernelspec": {
      "display_name": "Python 3",
      "language": "python",
      "name": "python3"
    },
    "language_info": {
      "codemirror_mode": {
        "name": "ipython",
        "version": 3
      },
      "file_extension": ".py",
      "mimetype": "text/x-python",
      "name": "python",
      "nbconvert_exporter": "python",
      "pygments_lexer": "ipython3",
      "version": "3.8.5"
    },
    "colab": {
      "name": "Bootcamp_DS_1.0.ipynb",
      "provenance": [],
      "include_colab_link": true
    }
  },
  "cells": [
    {
      "cell_type": "markdown",
      "metadata": {
        "id": "view-in-github",
        "colab_type": "text"
      },
      "source": [
        "<a href=\"https://colab.research.google.com/github/lucasfranca016/BootcampDataScience/blob/main/Bootcamp_DS_1_0.ipynb\" target=\"_parent\"><img src=\"https://colab.research.google.com/assets/colab-badge.svg\" alt=\"Open In Colab\"/></a>"
      ]
    },
    {
      "cell_type": "code",
      "metadata": {
        "id": "luqmx1JdBTlW",
        "outputId": "dcb22314-688c-4f58-e513-a79e50f67f97"
      },
      "source": [
        "import pandas as pd\n",
        "\n",
        "df = pd.read_csv('A152642189_28_143_208.csv', encoding='ISO-8859-1', skiprows = 3, sep = ';', skipfooter=12,\n",
        "                thousands='.', decimal=',')\n",
        "\n",
        "df.head()"
      ],
      "execution_count": null,
      "outputs": [
        {
          "output_type": "stream",
          "text": [
            "<ipython-input-12-3a8df492e554>:3: ParserWarning: Falling back to the 'python' engine because the 'c' engine does not support skipfooter; you can avoid this warning by specifying engine='python'.\n",
            "  df = pd.read_csv('A152642189_28_143_208.csv', encoding='ISO-8859-1', skiprows = 3, sep = ';', skipfooter=12,\n"
          ],
          "name": "stderr"
        },
        {
          "output_type": "execute_result",
          "data": {
            "text/html": [
              "<div>\n",
              "<style scoped>\n",
              "    .dataframe tbody tr th:only-of-type {\n",
              "        vertical-align: middle;\n",
              "    }\n",
              "\n",
              "    .dataframe tbody tr th {\n",
              "        vertical-align: top;\n",
              "    }\n",
              "\n",
              "    .dataframe thead th {\n",
              "        text-align: right;\n",
              "    }\n",
              "</style>\n",
              "<table border=\"1\" class=\"dataframe\">\n",
              "  <thead>\n",
              "    <tr style=\"text-align: right;\">\n",
              "      <th></th>\n",
              "      <th>Unidade da Federação</th>\n",
              "      <th>2008/Jan</th>\n",
              "      <th>2008/Fev</th>\n",
              "      <th>2008/Mar</th>\n",
              "      <th>2008/Abr</th>\n",
              "      <th>2008/Mai</th>\n",
              "      <th>2008/Jun</th>\n",
              "      <th>2008/Jul</th>\n",
              "      <th>2008/Ago</th>\n",
              "      <th>2008/Set</th>\n",
              "      <th>...</th>\n",
              "      <th>2020/Jul</th>\n",
              "      <th>2020/Ago</th>\n",
              "      <th>2020/Set</th>\n",
              "      <th>2020/Out</th>\n",
              "      <th>2020/Nov</th>\n",
              "      <th>2020/Dez</th>\n",
              "      <th>2021/Jan</th>\n",
              "      <th>2021/Fev</th>\n",
              "      <th>2021/Mar</th>\n",
              "      <th>Total</th>\n",
              "    </tr>\n",
              "  </thead>\n",
              "  <tbody>\n",
              "    <tr>\n",
              "      <th>0</th>\n",
              "      <td>11 Rondônia</td>\n",
              "      <td>1388528.39</td>\n",
              "      <td>2931283.42</td>\n",
              "      <td>1541682.52</td>\n",
              "      <td>1525314.96</td>\n",
              "      <td>1645953.84</td>\n",
              "      <td>1406150.68</td>\n",
              "      <td>3065279.01</td>\n",
              "      <td>3231494.61</td>\n",
              "      <td>3117178.63</td>\n",
              "      <td>...</td>\n",
              "      <td>11824687.13</td>\n",
              "      <td>11733307.76</td>\n",
              "      <td>10201985.14</td>\n",
              "      <td>7955139.45</td>\n",
              "      <td>9357946.29</td>\n",
              "      <td>8880836.55</td>\n",
              "      <td>9266014.59</td>\n",
              "      <td>7730597.04</td>\n",
              "      <td>11023309.47</td>\n",
              "      <td>9.964113e+08</td>\n",
              "    </tr>\n",
              "    <tr>\n",
              "      <th>1</th>\n",
              "      <td>12 Acre</td>\n",
              "      <td>902416.00</td>\n",
              "      <td>1497206.26</td>\n",
              "      <td>1794028.48</td>\n",
              "      <td>1730469.42</td>\n",
              "      <td>1819443.92</td>\n",
              "      <td>1828496.00</td>\n",
              "      <td>2511754.59</td>\n",
              "      <td>2089107.14</td>\n",
              "      <td>2275708.53</td>\n",
              "      <td>...</td>\n",
              "      <td>3915193.20</td>\n",
              "      <td>3640142.82</td>\n",
              "      <td>3391242.21</td>\n",
              "      <td>4044321.44</td>\n",
              "      <td>3276590.10</td>\n",
              "      <td>3696997.31</td>\n",
              "      <td>3715723.12</td>\n",
              "      <td>3538427.92</td>\n",
              "      <td>4077045.92</td>\n",
              "      <td>4.500485e+08</td>\n",
              "    </tr>\n",
              "    <tr>\n",
              "      <th>2</th>\n",
              "      <td>13 Amazonas</td>\n",
              "      <td>4735529.42</td>\n",
              "      <td>7118990.57</td>\n",
              "      <td>8196635.49</td>\n",
              "      <td>8259378.42</td>\n",
              "      <td>7831399.90</td>\n",
              "      <td>8477273.62</td>\n",
              "      <td>9368858.72</td>\n",
              "      <td>9352532.70</td>\n",
              "      <td>9363099.35</td>\n",
              "      <td>...</td>\n",
              "      <td>19769460.14</td>\n",
              "      <td>18059931.43</td>\n",
              "      <td>17841015.63</td>\n",
              "      <td>16408315.10</td>\n",
              "      <td>19895617.91</td>\n",
              "      <td>17765167.69</td>\n",
              "      <td>21430289.17</td>\n",
              "      <td>25917134.55</td>\n",
              "      <td>22032176.22</td>\n",
              "      <td>1.917248e+09</td>\n",
              "    </tr>\n",
              "    <tr>\n",
              "      <th>3</th>\n",
              "      <td>14 Roraima</td>\n",
              "      <td>657889.53</td>\n",
              "      <td>777939.31</td>\n",
              "      <td>718688.03</td>\n",
              "      <td>839994.39</td>\n",
              "      <td>862347.96</td>\n",
              "      <td>832440.66</td>\n",
              "      <td>996693.09</td>\n",
              "      <td>894271.18</td>\n",
              "      <td>910424.17</td>\n",
              "      <td>...</td>\n",
              "      <td>3015488.30</td>\n",
              "      <td>2826486.18</td>\n",
              "      <td>2928043.91</td>\n",
              "      <td>3090313.73</td>\n",
              "      <td>3621031.05</td>\n",
              "      <td>3454460.94</td>\n",
              "      <td>3266928.47</td>\n",
              "      <td>3519773.73</td>\n",
              "      <td>3985530.08</td>\n",
              "      <td>3.288770e+08</td>\n",
              "    </tr>\n",
              "    <tr>\n",
              "      <th>4</th>\n",
              "      <td>15 Pará</td>\n",
              "      <td>18864744.11</td>\n",
              "      <td>19553758.20</td>\n",
              "      <td>21937342.70</td>\n",
              "      <td>20842829.69</td>\n",
              "      <td>23249952.88</td>\n",
              "      <td>23240687.56</td>\n",
              "      <td>24002223.56</td>\n",
              "      <td>23341218.03</td>\n",
              "      <td>25172261.32</td>\n",
              "      <td>...</td>\n",
              "      <td>40804126.43</td>\n",
              "      <td>44385715.88</td>\n",
              "      <td>36820249.47</td>\n",
              "      <td>36965931.34</td>\n",
              "      <td>39004315.80</td>\n",
              "      <td>38015145.79</td>\n",
              "      <td>38354682.46</td>\n",
              "      <td>37688314.23</td>\n",
              "      <td>33276392.89</td>\n",
              "      <td>4.705309e+09</td>\n",
              "    </tr>\n",
              "  </tbody>\n",
              "</table>\n",
              "<p>5 rows × 161 columns</p>\n",
              "</div>"
            ],
            "text/plain": [
              "  Unidade da Federação     2008/Jan     2008/Fev     2008/Mar     2008/Abr  \\\n",
              "0          11 Rondônia   1388528.39   2931283.42   1541682.52   1525314.96   \n",
              "1              12 Acre    902416.00   1497206.26   1794028.48   1730469.42   \n",
              "2          13 Amazonas   4735529.42   7118990.57   8196635.49   8259378.42   \n",
              "3           14 Roraima    657889.53    777939.31    718688.03    839994.39   \n",
              "4              15 Pará  18864744.11  19553758.20  21937342.70  20842829.69   \n",
              "\n",
              "      2008/Mai     2008/Jun     2008/Jul     2008/Ago     2008/Set  ...  \\\n",
              "0   1645953.84   1406150.68   3065279.01   3231494.61   3117178.63  ...   \n",
              "1   1819443.92   1828496.00   2511754.59   2089107.14   2275708.53  ...   \n",
              "2   7831399.90   8477273.62   9368858.72   9352532.70   9363099.35  ...   \n",
              "3    862347.96    832440.66    996693.09    894271.18    910424.17  ...   \n",
              "4  23249952.88  23240687.56  24002223.56  23341218.03  25172261.32  ...   \n",
              "\n",
              "      2020/Jul     2020/Ago     2020/Set     2020/Out     2020/Nov  \\\n",
              "0  11824687.13  11733307.76  10201985.14   7955139.45   9357946.29   \n",
              "1   3915193.20   3640142.82   3391242.21   4044321.44   3276590.10   \n",
              "2  19769460.14  18059931.43  17841015.63  16408315.10  19895617.91   \n",
              "3   3015488.30   2826486.18   2928043.91   3090313.73   3621031.05   \n",
              "4  40804126.43  44385715.88  36820249.47  36965931.34  39004315.80   \n",
              "\n",
              "      2020/Dez     2021/Jan     2021/Fev     2021/Mar         Total  \n",
              "0   8880836.55   9266014.59   7730597.04  11023309.47  9.964113e+08  \n",
              "1   3696997.31   3715723.12   3538427.92   4077045.92  4.500485e+08  \n",
              "2  17765167.69  21430289.17  25917134.55  22032176.22  1.917248e+09  \n",
              "3   3454460.94   3266928.47   3519773.73   3985530.08  3.288770e+08  \n",
              "4  38015145.79  38354682.46  37688314.23  33276392.89  4.705309e+09  \n",
              "\n",
              "[5 rows x 161 columns]"
            ]
          },
          "metadata": {
            "tags": []
          },
          "execution_count": 12
        }
      ]
    },
    {
      "cell_type": "markdown",
      "metadata": {
        "id": "bx7zmu-SBTli"
      },
      "source": [
        "Ao tentar abrir o arquivo csv pela primeira vez obtemos o erro por conta do arquivo não estar no formato utf-8, então temos que passar um parâmetro falando pro python que o arquivo ta no formato de digitação pt-br.\n",
        "\n",
        "Ele da outro erro por conta do arquivo não estar separado por vírgulas corretamente, então, vamos passar dois parâmetros, um para pular as 3 primeiras linhas que não nos servem de nada e outro para falar que a separação na verdade é por \";\" e n por \",\". Essas conclusões foram obtidar abrindo o csv no bloco de notas. \n",
        "\n",
        "Também pularemos as últimas 12 linhas que são um rodapé inútil para nós."
      ]
    },
    {
      "cell_type": "code",
      "metadata": {
        "id": "RTWn7N2wBTlk",
        "outputId": "246a0012-c890-4682-921f-3308586dc9c2"
      },
      "source": [
        "df.tail()"
      ],
      "execution_count": null,
      "outputs": [
        {
          "output_type": "execute_result",
          "data": {
            "text/html": [
              "<div>\n",
              "<style scoped>\n",
              "    .dataframe tbody tr th:only-of-type {\n",
              "        vertical-align: middle;\n",
              "    }\n",
              "\n",
              "    .dataframe tbody tr th {\n",
              "        vertical-align: top;\n",
              "    }\n",
              "\n",
              "    .dataframe thead th {\n",
              "        text-align: right;\n",
              "    }\n",
              "</style>\n",
              "<table border=\"1\" class=\"dataframe\">\n",
              "  <thead>\n",
              "    <tr style=\"text-align: right;\">\n",
              "      <th></th>\n",
              "      <th>Unidade da Federação</th>\n",
              "      <th>2008/Jan</th>\n",
              "      <th>2008/Fev</th>\n",
              "      <th>2008/Mar</th>\n",
              "      <th>2008/Abr</th>\n",
              "      <th>2008/Mai</th>\n",
              "      <th>2008/Jun</th>\n",
              "      <th>2008/Jul</th>\n",
              "      <th>2008/Ago</th>\n",
              "      <th>2008/Set</th>\n",
              "      <th>...</th>\n",
              "      <th>2020/Jul</th>\n",
              "      <th>2020/Ago</th>\n",
              "      <th>2020/Set</th>\n",
              "      <th>2020/Out</th>\n",
              "      <th>2020/Nov</th>\n",
              "      <th>2020/Dez</th>\n",
              "      <th>2021/Jan</th>\n",
              "      <th>2021/Fev</th>\n",
              "      <th>2021/Mar</th>\n",
              "      <th>Total</th>\n",
              "    </tr>\n",
              "  </thead>\n",
              "  <tbody>\n",
              "    <tr>\n",
              "      <th>22</th>\n",
              "      <td>43 Rio Grande do Sul</td>\n",
              "      <td>30931325.46</td>\n",
              "      <td>57363420.01</td>\n",
              "      <td>51547794.07</td>\n",
              "      <td>56673338.49</td>\n",
              "      <td>48397733.07</td>\n",
              "      <td>52413429.62</td>\n",
              "      <td>56636376.98</td>\n",
              "      <td>56113054.70</td>\n",
              "      <td>55356224.30</td>\n",
              "      <td>...</td>\n",
              "      <td>1.005793e+08</td>\n",
              "      <td>1.026100e+08</td>\n",
              "      <td>1.044010e+08</td>\n",
              "      <td>1.174583e+08</td>\n",
              "      <td>1.088539e+08</td>\n",
              "      <td>1.117605e+08</td>\n",
              "      <td>1.199924e+08</td>\n",
              "      <td>1.117974e+08</td>\n",
              "      <td>1.301552e+08</td>\n",
              "      <td>1.276439e+10</td>\n",
              "    </tr>\n",
              "    <tr>\n",
              "      <th>23</th>\n",
              "      <td>50 Mato Grosso do Sul</td>\n",
              "      <td>5377392.11</td>\n",
              "      <td>7002472.61</td>\n",
              "      <td>8423933.19</td>\n",
              "      <td>8797487.68</td>\n",
              "      <td>9770421.80</td>\n",
              "      <td>10905392.18</td>\n",
              "      <td>10249299.82</td>\n",
              "      <td>9671553.45</td>\n",
              "      <td>10218511.05</td>\n",
              "      <td>...</td>\n",
              "      <td>1.885884e+07</td>\n",
              "      <td>1.987708e+07</td>\n",
              "      <td>1.924789e+07</td>\n",
              "      <td>1.949721e+07</td>\n",
              "      <td>2.202313e+07</td>\n",
              "      <td>1.962959e+07</td>\n",
              "      <td>2.169331e+07</td>\n",
              "      <td>2.433730e+07</td>\n",
              "      <td>2.516820e+07</td>\n",
              "      <td>2.324525e+09</td>\n",
              "    </tr>\n",
              "    <tr>\n",
              "      <th>24</th>\n",
              "      <td>51 Mato Grosso</td>\n",
              "      <td>4795299.01</td>\n",
              "      <td>8684882.23</td>\n",
              "      <td>7886243.14</td>\n",
              "      <td>8794109.79</td>\n",
              "      <td>9231645.40</td>\n",
              "      <td>10221763.77</td>\n",
              "      <td>9163314.28</td>\n",
              "      <td>9243148.81</td>\n",
              "      <td>9052354.89</td>\n",
              "      <td>...</td>\n",
              "      <td>1.683465e+07</td>\n",
              "      <td>1.970492e+07</td>\n",
              "      <td>2.074623e+07</td>\n",
              "      <td>2.272741e+07</td>\n",
              "      <td>2.050604e+07</td>\n",
              "      <td>1.958380e+07</td>\n",
              "      <td>1.912014e+07</td>\n",
              "      <td>1.834938e+07</td>\n",
              "      <td>1.961103e+07</td>\n",
              "      <td>2.180120e+09</td>\n",
              "    </tr>\n",
              "    <tr>\n",
              "      <th>25</th>\n",
              "      <td>52 Goiás</td>\n",
              "      <td>15310637.29</td>\n",
              "      <td>22258668.68</td>\n",
              "      <td>21442515.75</td>\n",
              "      <td>20921212.45</td>\n",
              "      <td>21615970.67</td>\n",
              "      <td>18270043.87</td>\n",
              "      <td>20540517.13</td>\n",
              "      <td>20650730.67</td>\n",
              "      <td>20868443.56</td>\n",
              "      <td>...</td>\n",
              "      <td>4.060622e+07</td>\n",
              "      <td>4.622936e+07</td>\n",
              "      <td>4.488959e+07</td>\n",
              "      <td>4.552950e+07</td>\n",
              "      <td>4.303760e+07</td>\n",
              "      <td>4.414735e+07</td>\n",
              "      <td>4.612776e+07</td>\n",
              "      <td>4.274277e+07</td>\n",
              "      <td>4.559269e+07</td>\n",
              "      <td>4.973574e+09</td>\n",
              "    </tr>\n",
              "    <tr>\n",
              "      <th>26</th>\n",
              "      <td>53 Distrito Federal</td>\n",
              "      <td>4745919.19</td>\n",
              "      <td>7632480.67</td>\n",
              "      <td>9647203.26</td>\n",
              "      <td>11098732.99</td>\n",
              "      <td>12891719.72</td>\n",
              "      <td>12850125.67</td>\n",
              "      <td>12565646.74</td>\n",
              "      <td>13710857.89</td>\n",
              "      <td>13165106.20</td>\n",
              "      <td>...</td>\n",
              "      <td>2.526977e+07</td>\n",
              "      <td>2.652620e+07</td>\n",
              "      <td>2.005659e+07</td>\n",
              "      <td>2.085625e+07</td>\n",
              "      <td>2.045933e+07</td>\n",
              "      <td>2.299157e+07</td>\n",
              "      <td>2.352705e+07</td>\n",
              "      <td>2.276695e+07</td>\n",
              "      <td>3.183192e+07</td>\n",
              "      <td>2.592423e+09</td>\n",
              "    </tr>\n",
              "  </tbody>\n",
              "</table>\n",
              "<p>5 rows × 161 columns</p>\n",
              "</div>"
            ],
            "text/plain": [
              "     Unidade da Federação     2008/Jan     2008/Fev     2008/Mar     2008/Abr  \\\n",
              "22   43 Rio Grande do Sul  30931325.46  57363420.01  51547794.07  56673338.49   \n",
              "23  50 Mato Grosso do Sul   5377392.11   7002472.61   8423933.19   8797487.68   \n",
              "24         51 Mato Grosso   4795299.01   8684882.23   7886243.14   8794109.79   \n",
              "25               52 Goiás  15310637.29  22258668.68  21442515.75  20921212.45   \n",
              "26    53 Distrito Federal   4745919.19   7632480.67   9647203.26  11098732.99   \n",
              "\n",
              "       2008/Mai     2008/Jun     2008/Jul     2008/Ago     2008/Set  ...  \\\n",
              "22  48397733.07  52413429.62  56636376.98  56113054.70  55356224.30  ...   \n",
              "23   9770421.80  10905392.18  10249299.82   9671553.45  10218511.05  ...   \n",
              "24   9231645.40  10221763.77   9163314.28   9243148.81   9052354.89  ...   \n",
              "25  21615970.67  18270043.87  20540517.13  20650730.67  20868443.56  ...   \n",
              "26  12891719.72  12850125.67  12565646.74  13710857.89  13165106.20  ...   \n",
              "\n",
              "        2020/Jul      2020/Ago      2020/Set      2020/Out      2020/Nov  \\\n",
              "22  1.005793e+08  1.026100e+08  1.044010e+08  1.174583e+08  1.088539e+08   \n",
              "23  1.885884e+07  1.987708e+07  1.924789e+07  1.949721e+07  2.202313e+07   \n",
              "24  1.683465e+07  1.970492e+07  2.074623e+07  2.272741e+07  2.050604e+07   \n",
              "25  4.060622e+07  4.622936e+07  4.488959e+07  4.552950e+07  4.303760e+07   \n",
              "26  2.526977e+07  2.652620e+07  2.005659e+07  2.085625e+07  2.045933e+07   \n",
              "\n",
              "        2020/Dez      2021/Jan      2021/Fev      2021/Mar         Total  \n",
              "22  1.117605e+08  1.199924e+08  1.117974e+08  1.301552e+08  1.276439e+10  \n",
              "23  1.962959e+07  2.169331e+07  2.433730e+07  2.516820e+07  2.324525e+09  \n",
              "24  1.958380e+07  1.912014e+07  1.834938e+07  1.961103e+07  2.180120e+09  \n",
              "25  4.414735e+07  4.612776e+07  4.274277e+07  4.559269e+07  4.973574e+09  \n",
              "26  2.299157e+07  2.352705e+07  2.276695e+07  3.183192e+07  2.592423e+09  \n",
              "\n",
              "[5 rows x 161 columns]"
            ]
          },
          "metadata": {
            "tags": []
          },
          "execution_count": 13
        }
      ]
    },
    {
      "cell_type": "markdown",
      "metadata": {
        "id": "BQGsnzDUBTlm"
      },
      "source": [
        "Por conta de no Brasil separarmos os números por vírgula, ele leu esses números na tabela como strings. Então, passamos os parâmetros decimal e thousands para ele identificar de maneira certa a divisão decimal."
      ]
    },
    {
      "cell_type": "code",
      "metadata": {
        "id": "ySUTA1TOBTlm",
        "outputId": "ab32c68d-8d98-44c2-d812-cbc553d347cc"
      },
      "source": [
        "df.mean()"
      ],
      "execution_count": null,
      "outputs": [
        {
          "output_type": "execute_result",
          "data": {
            "text/plain": [
              "2008/Jan    1.512685e+07\n",
              "2008/Fev    2.271016e+07\n",
              "2008/Mar    2.459419e+07\n",
              "2008/Abr    2.543196e+07\n",
              "2008/Mai    2.651125e+07\n",
              "                ...     \n",
              "2020/Dez    5.337776e+07\n",
              "2021/Jan    5.607375e+07\n",
              "2021/Fev    5.557823e+07\n",
              "2021/Mar    6.250230e+07\n",
              "Total       6.388213e+09\n",
              "Length: 159, dtype: float64"
            ]
          },
          "metadata": {
            "tags": []
          },
          "execution_count": 14
        }
      ]
    },
    {
      "cell_type": "code",
      "metadata": {
        "id": "9M4-bhFDBTlo"
      },
      "source": [
        "#Vamos mudar para não aparecer em notação científica:\n",
        "pd.options.display.float_format='{:.2f}'.format"
      ],
      "execution_count": null,
      "outputs": []
    },
    {
      "cell_type": "code",
      "metadata": {
        "id": "oSVZwJ-DBTlq",
        "outputId": "31f61a14-49df-4cd3-bc69-e3b3ccb663c6"
      },
      "source": [
        "df.mean()"
      ],
      "execution_count": null,
      "outputs": [
        {
          "output_type": "execute_result",
          "data": {
            "text/plain": [
              "2008/Jan     15126846.64\n",
              "2008/Fev     22710158.12\n",
              "2008/Mar     24594187.35\n",
              "2008/Abr     25431957.83\n",
              "2008/Mai     26511245.91\n",
              "                ...     \n",
              "2020/Dez     53377763.15\n",
              "2021/Jan     56073748.02\n",
              "2021/Fev     55578233.31\n",
              "2021/Mar     62502301.42\n",
              "Total      6388213338.48\n",
              "Length: 159, dtype: float64"
            ]
          },
          "metadata": {
            "tags": []
          },
          "execution_count": 17
        }
      ]
    },
    {
      "cell_type": "markdown",
      "metadata": {
        "id": "WzvZ47xbBTlr"
      },
      "source": [
        "Desafio : Selecionar os valores da coluna 2008/Jan"
      ]
    },
    {
      "cell_type": "code",
      "metadata": {
        "id": "O7lxfqc7BTls",
        "outputId": "45a3426f-0266-4ac0-9e8c-8d97296ab217"
      },
      "source": [
        "df['2008/Jan']"
      ],
      "execution_count": null,
      "outputs": [
        {
          "output_type": "execute_result",
          "data": {
            "text/plain": [
              "0     1388528.39\n",
              "1      902416.00\n",
              "2     4735529.42\n",
              "3      657889.53\n",
              "4    18864744.11\n",
              "5     1120973.34\n",
              "6     3441592.69\n",
              "7    10723506.39\n",
              "8     7985142.43\n",
              "9    15539821.90\n",
              "10    5947814.08\n",
              "11   10723002.45\n",
              "12   14393949.89\n",
              "13    6243726.32\n",
              "14    2780750.11\n",
              "15   21211522.47\n",
              "16   45671659.76\n",
              "17    5456723.98\n",
              "18   23025258.52\n",
              "19   91678473.48\n",
              "20   38266347.46\n",
              "21   16504913.45\n",
              "22   30931325.46\n",
              "23    5377392.11\n",
              "24    4795299.01\n",
              "25   15310637.29\n",
              "26    4745919.19\n",
              "Name: 2008/Jan, dtype: float64"
            ]
          },
          "metadata": {
            "tags": []
          },
          "execution_count": 18
        }
      ]
    },
    {
      "cell_type": "code",
      "metadata": {
        "id": "G8gANk6oBTls",
        "outputId": "379159c2-1149-4f53-e99a-a24735790ad3"
      },
      "source": [
        "df['2008/Jan'].mean()"
      ],
      "execution_count": null,
      "outputs": [
        {
          "output_type": "execute_result",
          "data": {
            "text/plain": [
              "15126846.638148146"
            ]
          },
          "metadata": {
            "tags": []
          },
          "execution_count": 19
        }
      ]
    },
    {
      "cell_type": "code",
      "metadata": {
        "id": "r7VGFiyBBTlu",
        "outputId": "ef282966-576c-4d68-9377-0635d94d7ed9"
      },
      "source": [
        "df.plot(x='Unidade da Federação', y='2008/Ago')"
      ],
      "execution_count": null,
      "outputs": [
        {
          "output_type": "execute_result",
          "data": {
            "text/plain": [
              "<AxesSubplot:xlabel='Unidade da Federação'>"
            ]
          },
          "metadata": {
            "tags": []
          },
          "execution_count": 21
        },
        {
          "output_type": "display_data",
          "data": {
            "image/png": "[encoded data removed]",
            "text/plain": [
              "<Figure size 432x288 with 1 Axes>"
            ]
          },
          "metadata": {
            "tags": [],
            "needs_background": "light"
          }
        }
      ]
    },
    {
      "cell_type": "markdown",
      "metadata": {
        "id": "1VOGpS-rBTlw"
      },
      "source": [
        "Contudo, o gráfico de linhas não é muito útil para este plot pois valores intermediários entre os valores de x(os estados) não fazem muito sentido."
      ]
    },
    {
      "cell_type": "code",
      "metadata": {
        "id": "jtqoUKovBTlx",
        "outputId": "d197bb0b-897e-41fe-a544-cebe672476da"
      },
      "source": [
        "import matplotlib.pyplot as plt\n",
        "import matplotlib.ticker as ticker\n",
        "\n",
        "ax = df.plot(x='Unidade da Federação', y='2008/Ago', kind='bar', figsize=(10,7))\n",
        "\n",
        "ax.yaxis.set_major_formatter(ticker.StrMethodFormatter('{x:,.2f}'))\n",
        "\n",
        "plt.title('Quanto cada estado gastou no mês de Agosto do ano de 2008 em R$')\n",
        "\n",
        "plt.show()"
      ],
      "execution_count": null,
      "outputs": [
        {
          "output_type": "display_data",
          "data": {
            "image/png": "[encoded data removed]",
            "text/plain": [
              "<Figure size 720x504 with 1 Axes>"
            ]
          },
          "metadata": {
            "tags": [],
            "needs_background": "light"
          }
        }
      ]
    },
    {
      "cell_type": "markdown",
      "metadata": {
        "id": "aD2HPie2BTly"
      },
      "source": [
        "Adicionamos ao .plot o parâmetro kind para fazer um histograma, o figsize para mudar o tamanho e aplicamos ao plot um método para mudar a formatação dos valores, mudando os valores do eixo y de forma a transmitir melhor a informação para o interlocutor do gráfico.\n",
        "\n",
        "Desafio 2: Escolher um título mais descritivo\n",
        "\n",
        "Desafio 3: Fazer essa análise apara o mês mais recente"
      ]
    },
    {
      "cell_type": "code",
      "metadata": {
        "id": "p1zCI7EfBTlz",
        "outputId": "fdb027a9-0c48-4da0-c35f-e186268d2ade"
      },
      "source": [
        "#Desafio 3:\n",
        "\n",
        "ax = df.plot(x='Unidade da Federação', y='2021/Mar', kind='bar', figsize=(10,7))\n",
        "\n",
        "ax.yaxis.set_major_formatter(ticker.StrMethodFormatter('{x:,.2f}'))\n",
        "\n",
        "plt.title('Quanto cada estado gastou no mês de Março do ano de 2021 em R$')\n",
        "\n",
        "plt.show()"
      ],
      "execution_count": null,
      "outputs": [
        {
          "output_type": "display_data",
          "data": {
            "image/png": "[encoded data removed]",
            "text/plain": [
              "<Figure size 720x504 with 1 Axes>"
            ]
          },
          "metadata": {
            "tags": [],
            "needs_background": "light"
          }
        }
      ]
    },
    {
      "cell_type": "markdown",
      "metadata": {
        "id": "jIWrfpf_BTlz"
      },
      "source": [
        "Observando rapidamente conseguimos obter a conclusão de que proporcionalmente os gastos estão semelhantes, contudo, os valores são maiores, com São Paulo gastando um pouco mais que o dobro atualmente, se comparado ao mês de Janeiro de 2008."
      ]
    },
    {
      "cell_type": "code",
      "metadata": {
        "id": "KAJy2bpKBTl1"
      },
      "source": [
        ""
      ],
      "execution_count": null,
      "outputs": []
    }
  ]
}