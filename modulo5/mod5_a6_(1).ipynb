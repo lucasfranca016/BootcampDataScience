{
  "nbformat": 4,
  "nbformat_minor": 0,
  "metadata": {
    "kernelspec": {
      "display_name": "Python 3",
      "language": "python",
      "name": "python3"
    },
    "language_info": {
      "codemirror_mode": {
        "name": "ipython",
        "version": 3
      },
      "file_extension": ".py",
      "mimetype": "text/x-python",
      "name": "python",
      "nbconvert_exporter": "python",
      "pygments_lexer": "ipython3",
      "version": "3.8.5"
    },
    "colab": {
      "name": "mod5_a6 (1).ipynb",
      "provenance": [],
      "include_colab_link": true
    }
  },
  "cells": [
    {
      "cell_type": "markdown",
      "metadata": {
        "id": "view-in-github",
        "colab_type": "text"
      },
      "source": [
        "<a href=\"https://colab.research.google.com/github/lucasfranca016/BootcampDataScience/blob/main/modulo5/mod5_a6_(1).ipynb\" target=\"_parent\"><img src=\"https://colab.research.google.com/assets/colab-badge.svg\" alt=\"Open In Colab\"/></a>"
      ]
    },
    {
      "cell_type": "code",
      "metadata": {
        "id": "Fks9v0_t7RqA",
        "outputId": "de6e1502-3f7c-4da3-a89c-506488b3618f"
      },
      "source": [
        "import pandas as pd\n",
        "import numpy as np\n",
        "from sklearn.preprocessing import LabelEncoder\n",
        "\n",
        "dados = pd.read_excel(\"https://github.com/alura-cursos/covid-19-clinical/blob/main/Kaggle_Sirio_Libanes_ICU_Prediction.xlsx?raw=true\")\n",
        "dados"
      ],
      "execution_count": null,
      "outputs": [
        {
          "output_type": "execute_result",
          "data": {
            "text/html": [
              "<div>\n",
              "<style scoped>\n",
              "    .dataframe tbody tr th:only-of-type {\n",
              "        vertical-align: middle;\n",
              "    }\n",
              "\n",
              "    .dataframe tbody tr th {\n",
              "        vertical-align: top;\n",
              "    }\n",
              "\n",
              "    .dataframe thead th {\n",
              "        text-align: right;\n",
              "    }\n",
              "</style>\n",
              "<table border=\"1\" class=\"dataframe\">\n",
              "  <thead>\n",
              "    <tr style=\"text-align: right;\">\n",
              "      <th></th>\n",
              "      <th>PATIENT_VISIT_IDENTIFIER</th>\n",
              "      <th>AGE_ABOVE65</th>\n",
              "      <th>AGE_PERCENTIL</th>\n",
              "      <th>GENDER</th>\n",
              "      <th>DISEASE GROUPING 1</th>\n",
              "      <th>DISEASE GROUPING 2</th>\n",
              "      <th>DISEASE GROUPING 3</th>\n",
              "      <th>DISEASE GROUPING 4</th>\n",
              "      <th>DISEASE GROUPING 5</th>\n",
              "      <th>DISEASE GROUPING 6</th>\n",
              "      <th>...</th>\n",
              "      <th>TEMPERATURE_DIFF</th>\n",
              "      <th>OXYGEN_SATURATION_DIFF</th>\n",
              "      <th>BLOODPRESSURE_DIASTOLIC_DIFF_REL</th>\n",
              "      <th>BLOODPRESSURE_SISTOLIC_DIFF_REL</th>\n",
              "      <th>HEART_RATE_DIFF_REL</th>\n",
              "      <th>RESPIRATORY_RATE_DIFF_REL</th>\n",
              "      <th>TEMPERATURE_DIFF_REL</th>\n",
              "      <th>OXYGEN_SATURATION_DIFF_REL</th>\n",
              "      <th>WINDOW</th>\n",
              "      <th>ICU</th>\n",
              "    </tr>\n",
              "  </thead>\n",
              "  <tbody>\n",
              "    <tr>\n",
              "      <th>0</th>\n",
              "      <td>0</td>\n",
              "      <td>1</td>\n",
              "      <td>60th</td>\n",
              "      <td>0</td>\n",
              "      <td>0.0</td>\n",
              "      <td>0.0</td>\n",
              "      <td>0.0</td>\n",
              "      <td>0.0</td>\n",
              "      <td>1.0</td>\n",
              "      <td>1.0</td>\n",
              "      <td>...</td>\n",
              "      <td>-1.000000</td>\n",
              "      <td>-1.000000</td>\n",
              "      <td>-1.000000</td>\n",
              "      <td>-1.000000</td>\n",
              "      <td>-1.000000</td>\n",
              "      <td>-1.000000</td>\n",
              "      <td>-1.000000</td>\n",
              "      <td>-1.000000</td>\n",
              "      <td>0-2</td>\n",
              "      <td>0</td>\n",
              "    </tr>\n",
              "    <tr>\n",
              "      <th>1</th>\n",
              "      <td>0</td>\n",
              "      <td>1</td>\n",
              "      <td>60th</td>\n",
              "      <td>0</td>\n",
              "      <td>0.0</td>\n",
              "      <td>0.0</td>\n",
              "      <td>0.0</td>\n",
              "      <td>0.0</td>\n",
              "      <td>1.0</td>\n",
              "      <td>1.0</td>\n",
              "      <td>...</td>\n",
              "      <td>-1.000000</td>\n",
              "      <td>-1.000000</td>\n",
              "      <td>-1.000000</td>\n",
              "      <td>-1.000000</td>\n",
              "      <td>-1.000000</td>\n",
              "      <td>-1.000000</td>\n",
              "      <td>-1.000000</td>\n",
              "      <td>-1.000000</td>\n",
              "      <td>2-4</td>\n",
              "      <td>0</td>\n",
              "    </tr>\n",
              "    <tr>\n",
              "      <th>2</th>\n",
              "      <td>0</td>\n",
              "      <td>1</td>\n",
              "      <td>60th</td>\n",
              "      <td>0</td>\n",
              "      <td>0.0</td>\n",
              "      <td>0.0</td>\n",
              "      <td>0.0</td>\n",
              "      <td>0.0</td>\n",
              "      <td>1.0</td>\n",
              "      <td>1.0</td>\n",
              "      <td>...</td>\n",
              "      <td>NaN</td>\n",
              "      <td>NaN</td>\n",
              "      <td>NaN</td>\n",
              "      <td>NaN</td>\n",
              "      <td>NaN</td>\n",
              "      <td>NaN</td>\n",
              "      <td>NaN</td>\n",
              "      <td>NaN</td>\n",
              "      <td>4-6</td>\n",
              "      <td>0</td>\n",
              "    </tr>\n",
              "    <tr>\n",
              "      <th>3</th>\n",
              "      <td>0</td>\n",
              "      <td>1</td>\n",
              "      <td>60th</td>\n",
              "      <td>0</td>\n",
              "      <td>0.0</td>\n",
              "      <td>0.0</td>\n",
              "      <td>0.0</td>\n",
              "      <td>0.0</td>\n",
              "      <td>1.0</td>\n",
              "      <td>1.0</td>\n",
              "      <td>...</td>\n",
              "      <td>-1.000000</td>\n",
              "      <td>-1.000000</td>\n",
              "      <td>NaN</td>\n",
              "      <td>NaN</td>\n",
              "      <td>NaN</td>\n",
              "      <td>NaN</td>\n",
              "      <td>-1.000000</td>\n",
              "      <td>-1.000000</td>\n",
              "      <td>6-12</td>\n",
              "      <td>0</td>\n",
              "    </tr>\n",
              "    <tr>\n",
              "      <th>4</th>\n",
              "      <td>0</td>\n",
              "      <td>1</td>\n",
              "      <td>60th</td>\n",
              "      <td>0</td>\n",
              "      <td>0.0</td>\n",
              "      <td>0.0</td>\n",
              "      <td>0.0</td>\n",
              "      <td>0.0</td>\n",
              "      <td>1.0</td>\n",
              "      <td>1.0</td>\n",
              "      <td>...</td>\n",
              "      <td>-0.238095</td>\n",
              "      <td>-0.818182</td>\n",
              "      <td>-0.389967</td>\n",
              "      <td>0.407558</td>\n",
              "      <td>-0.230462</td>\n",
              "      <td>0.096774</td>\n",
              "      <td>-0.242282</td>\n",
              "      <td>-0.814433</td>\n",
              "      <td>ABOVE_12</td>\n",
              "      <td>1</td>\n",
              "    </tr>\n",
              "    <tr>\n",
              "      <th>...</th>\n",
              "      <td>...</td>\n",
              "      <td>...</td>\n",
              "      <td>...</td>\n",
              "      <td>...</td>\n",
              "      <td>...</td>\n",
              "      <td>...</td>\n",
              "      <td>...</td>\n",
              "      <td>...</td>\n",
              "      <td>...</td>\n",
              "      <td>...</td>\n",
              "      <td>...</td>\n",
              "      <td>...</td>\n",
              "      <td>...</td>\n",
              "      <td>...</td>\n",
              "      <td>...</td>\n",
              "      <td>...</td>\n",
              "      <td>...</td>\n",
              "      <td>...</td>\n",
              "      <td>...</td>\n",
              "      <td>...</td>\n",
              "      <td>...</td>\n",
              "    </tr>\n",
              "    <tr>\n",
              "      <th>1920</th>\n",
              "      <td>384</td>\n",
              "      <td>0</td>\n",
              "      <td>50th</td>\n",
              "      <td>1</td>\n",
              "      <td>0.0</td>\n",
              "      <td>0.0</td>\n",
              "      <td>0.0</td>\n",
              "      <td>0.0</td>\n",
              "      <td>0.0</td>\n",
              "      <td>0.0</td>\n",
              "      <td>...</td>\n",
              "      <td>-1.000000</td>\n",
              "      <td>-1.000000</td>\n",
              "      <td>-1.000000</td>\n",
              "      <td>-1.000000</td>\n",
              "      <td>-1.000000</td>\n",
              "      <td>-1.000000</td>\n",
              "      <td>-1.000000</td>\n",
              "      <td>-1.000000</td>\n",
              "      <td>0-2</td>\n",
              "      <td>0</td>\n",
              "    </tr>\n",
              "    <tr>\n",
              "      <th>1921</th>\n",
              "      <td>384</td>\n",
              "      <td>0</td>\n",
              "      <td>50th</td>\n",
              "      <td>1</td>\n",
              "      <td>0.0</td>\n",
              "      <td>0.0</td>\n",
              "      <td>0.0</td>\n",
              "      <td>0.0</td>\n",
              "      <td>0.0</td>\n",
              "      <td>0.0</td>\n",
              "      <td>...</td>\n",
              "      <td>-1.000000</td>\n",
              "      <td>-1.000000</td>\n",
              "      <td>-1.000000</td>\n",
              "      <td>-1.000000</td>\n",
              "      <td>-1.000000</td>\n",
              "      <td>-1.000000</td>\n",
              "      <td>-1.000000</td>\n",
              "      <td>-1.000000</td>\n",
              "      <td>2-4</td>\n",
              "      <td>0</td>\n",
              "    </tr>\n",
              "    <tr>\n",
              "      <th>1922</th>\n",
              "      <td>384</td>\n",
              "      <td>0</td>\n",
              "      <td>50th</td>\n",
              "      <td>1</td>\n",
              "      <td>0.0</td>\n",
              "      <td>0.0</td>\n",
              "      <td>0.0</td>\n",
              "      <td>0.0</td>\n",
              "      <td>0.0</td>\n",
              "      <td>0.0</td>\n",
              "      <td>...</td>\n",
              "      <td>-1.000000</td>\n",
              "      <td>-1.000000</td>\n",
              "      <td>-1.000000</td>\n",
              "      <td>-1.000000</td>\n",
              "      <td>-1.000000</td>\n",
              "      <td>-1.000000</td>\n",
              "      <td>-1.000000</td>\n",
              "      <td>-1.000000</td>\n",
              "      <td>4-6</td>\n",
              "      <td>0</td>\n",
              "    </tr>\n",
              "    <tr>\n",
              "      <th>1923</th>\n",
              "      <td>384</td>\n",
              "      <td>0</td>\n",
              "      <td>50th</td>\n",
              "      <td>1</td>\n",
              "      <td>0.0</td>\n",
              "      <td>0.0</td>\n",
              "      <td>0.0</td>\n",
              "      <td>0.0</td>\n",
              "      <td>0.0</td>\n",
              "      <td>0.0</td>\n",
              "      <td>...</td>\n",
              "      <td>-1.000000</td>\n",
              "      <td>-1.000000</td>\n",
              "      <td>-1.000000</td>\n",
              "      <td>-1.000000</td>\n",
              "      <td>-1.000000</td>\n",
              "      <td>-1.000000</td>\n",
              "      <td>-1.000000</td>\n",
              "      <td>-1.000000</td>\n",
              "      <td>6-12</td>\n",
              "      <td>0</td>\n",
              "    </tr>\n",
              "    <tr>\n",
              "      <th>1924</th>\n",
              "      <td>384</td>\n",
              "      <td>0</td>\n",
              "      <td>50th</td>\n",
              "      <td>1</td>\n",
              "      <td>0.0</td>\n",
              "      <td>0.0</td>\n",
              "      <td>1.0</td>\n",
              "      <td>0.0</td>\n",
              "      <td>0.0</td>\n",
              "      <td>0.0</td>\n",
              "      <td>...</td>\n",
              "      <td>-0.547619</td>\n",
              "      <td>-0.838384</td>\n",
              "      <td>-0.701863</td>\n",
              "      <td>-0.585967</td>\n",
              "      <td>-0.763868</td>\n",
              "      <td>-0.612903</td>\n",
              "      <td>-0.551337</td>\n",
              "      <td>-0.835052</td>\n",
              "      <td>ABOVE_12</td>\n",
              "      <td>0</td>\n",
              "    </tr>\n",
              "  </tbody>\n",
              "</table>\n",
              "<p>1925 rows × 231 columns</p>\n",
              "</div>"
            ],
            "text/plain": [
              "      PATIENT_VISIT_IDENTIFIER  AGE_ABOVE65 AGE_PERCENTIL  GENDER  \\\n",
              "0                            0            1          60th       0   \n",
              "1                            0            1          60th       0   \n",
              "2                            0            1          60th       0   \n",
              "3                            0            1          60th       0   \n",
              "4                            0            1          60th       0   \n",
              "...                        ...          ...           ...     ...   \n",
              "1920                       384            0          50th       1   \n",
              "1921                       384            0          50th       1   \n",
              "1922                       384            0          50th       1   \n",
              "1923                       384            0          50th       1   \n",
              "1924                       384            0          50th       1   \n",
              "\n",
              "      DISEASE GROUPING 1  DISEASE GROUPING 2  DISEASE GROUPING 3  \\\n",
              "0                    0.0                 0.0                 0.0   \n",
              "1                    0.0                 0.0                 0.0   \n",
              "2                    0.0                 0.0                 0.0   \n",
              "3                    0.0                 0.0                 0.0   \n",
              "4                    0.0                 0.0                 0.0   \n",
              "...                  ...                 ...                 ...   \n",
              "1920                 0.0                 0.0                 0.0   \n",
              "1921                 0.0                 0.0                 0.0   \n",
              "1922                 0.0                 0.0                 0.0   \n",
              "1923                 0.0                 0.0                 0.0   \n",
              "1924                 0.0                 0.0                 1.0   \n",
              "\n",
              "      DISEASE GROUPING 4  DISEASE GROUPING 5  DISEASE GROUPING 6  ...  \\\n",
              "0                    0.0                 1.0                 1.0  ...   \n",
              "1                    0.0                 1.0                 1.0  ...   \n",
              "2                    0.0                 1.0                 1.0  ...   \n",
              "3                    0.0                 1.0                 1.0  ...   \n",
              "4                    0.0                 1.0                 1.0  ...   \n",
              "...                  ...                 ...                 ...  ...   \n",
              "1920                 0.0                 0.0                 0.0  ...   \n",
              "1921                 0.0                 0.0                 0.0  ...   \n",
              "1922                 0.0                 0.0                 0.0  ...   \n",
              "1923                 0.0                 0.0                 0.0  ...   \n",
              "1924                 0.0                 0.0                 0.0  ...   \n",
              "\n",
              "      TEMPERATURE_DIFF  OXYGEN_SATURATION_DIFF  \\\n",
              "0            -1.000000               -1.000000   \n",
              "1            -1.000000               -1.000000   \n",
              "2                  NaN                     NaN   \n",
              "3            -1.000000               -1.000000   \n",
              "4            -0.238095               -0.818182   \n",
              "...                ...                     ...   \n",
              "1920         -1.000000               -1.000000   \n",
              "1921         -1.000000               -1.000000   \n",
              "1922         -1.000000               -1.000000   \n",
              "1923         -1.000000               -1.000000   \n",
              "1924         -0.547619               -0.838384   \n",
              "\n",
              "      BLOODPRESSURE_DIASTOLIC_DIFF_REL  BLOODPRESSURE_SISTOLIC_DIFF_REL  \\\n",
              "0                            -1.000000                        -1.000000   \n",
              "1                            -1.000000                        -1.000000   \n",
              "2                                  NaN                              NaN   \n",
              "3                                  NaN                              NaN   \n",
              "4                            -0.389967                         0.407558   \n",
              "...                                ...                              ...   \n",
              "1920                         -1.000000                        -1.000000   \n",
              "1921                         -1.000000                        -1.000000   \n",
              "1922                         -1.000000                        -1.000000   \n",
              "1923                         -1.000000                        -1.000000   \n",
              "1924                         -0.701863                        -0.585967   \n",
              "\n",
              "      HEART_RATE_DIFF_REL  RESPIRATORY_RATE_DIFF_REL  TEMPERATURE_DIFF_REL  \\\n",
              "0               -1.000000                  -1.000000             -1.000000   \n",
              "1               -1.000000                  -1.000000             -1.000000   \n",
              "2                     NaN                        NaN                   NaN   \n",
              "3                     NaN                        NaN             -1.000000   \n",
              "4               -0.230462                   0.096774             -0.242282   \n",
              "...                   ...                        ...                   ...   \n",
              "1920            -1.000000                  -1.000000             -1.000000   \n",
              "1921            -1.000000                  -1.000000             -1.000000   \n",
              "1922            -1.000000                  -1.000000             -1.000000   \n",
              "1923            -1.000000                  -1.000000             -1.000000   \n",
              "1924            -0.763868                  -0.612903             -0.551337   \n",
              "\n",
              "      OXYGEN_SATURATION_DIFF_REL    WINDOW  ICU  \n",
              "0                      -1.000000       0-2    0  \n",
              "1                      -1.000000       2-4    0  \n",
              "2                            NaN       4-6    0  \n",
              "3                      -1.000000      6-12    0  \n",
              "4                      -0.814433  ABOVE_12    1  \n",
              "...                          ...       ...  ...  \n",
              "1920                   -1.000000       0-2    0  \n",
              "1921                   -1.000000       2-4    0  \n",
              "1922                   -1.000000       4-6    0  \n",
              "1923                   -1.000000      6-12    0  \n",
              "1924                   -0.835052  ABOVE_12    0  \n",
              "\n",
              "[1925 rows x 231 columns]"
            ]
          },
          "metadata": {
            "tags": []
          },
          "execution_count": 1
        }
      ]
    },
    {
      "cell_type": "code",
      "metadata": {
        "id": "NCyM62cr7RqG"
      },
      "source": [
        "def preencher(dados):\n",
        "    feat_cont_col = dados.iloc[:, 13:-2].columns\n",
        "    feat_cont = dados.groupby(\"PATIENT_VISIT_IDENTIFIER\", as_index = False)[feat_cont_col].fillna(method='bfill').fillna(method='ffill')\n",
        "    feat_cat = dados.iloc[:, :13]\n",
        "    saida = dados.iloc[:, -2:]\n",
        "    dados_finais = pd.concat([feat_cat, feat_cont, saida], ignore_index=True, axis=1)\n",
        "    dados_finais.columns = dados.columns\n",
        "    return dados_finais"
      ],
      "execution_count": null,
      "outputs": []
    },
    {
      "cell_type": "code",
      "metadata": {
        "id": "sbrWfyRQ7RqI",
        "outputId": "92083c79-8d8e-400b-d778-82b65bce77b2"
      },
      "source": [
        "dados_limpos = preencher(dados)\n",
        "remover = dados_limpos.query(\"WINDOW=='0-2' and ICU==1\")['PATIENT_VISIT_IDENTIFIER'].values\n",
        "dados_limpos = dados_limpos.query(\"PATIENT_VISIT_IDENTIFIER not in @remover\")\n",
        "dados_limpos = dados_limpos.dropna()\n",
        "dados_limpos.describe()"
      ],
      "execution_count": null,
      "outputs": [
        {
          "output_type": "execute_result",
          "data": {
            "text/html": [
              "<div>\n",
              "<style scoped>\n",
              "    .dataframe tbody tr th:only-of-type {\n",
              "        vertical-align: middle;\n",
              "    }\n",
              "\n",
              "    .dataframe tbody tr th {\n",
              "        vertical-align: top;\n",
              "    }\n",
              "\n",
              "    .dataframe thead th {\n",
              "        text-align: right;\n",
              "    }\n",
              "</style>\n",
              "<table border=\"1\" class=\"dataframe\">\n",
              "  <thead>\n",
              "    <tr style=\"text-align: right;\">\n",
              "      <th></th>\n",
              "      <th>PATIENT_VISIT_IDENTIFIER</th>\n",
              "      <th>AGE_ABOVE65</th>\n",
              "      <th>GENDER</th>\n",
              "      <th>DISEASE GROUPING 1</th>\n",
              "      <th>DISEASE GROUPING 2</th>\n",
              "      <th>DISEASE GROUPING 3</th>\n",
              "      <th>DISEASE GROUPING 4</th>\n",
              "      <th>DISEASE GROUPING 5</th>\n",
              "      <th>DISEASE GROUPING 6</th>\n",
              "      <th>HTN</th>\n",
              "      <th>...</th>\n",
              "      <th>RESPIRATORY_RATE_DIFF</th>\n",
              "      <th>TEMPERATURE_DIFF</th>\n",
              "      <th>OXYGEN_SATURATION_DIFF</th>\n",
              "      <th>BLOODPRESSURE_DIASTOLIC_DIFF_REL</th>\n",
              "      <th>BLOODPRESSURE_SISTOLIC_DIFF_REL</th>\n",
              "      <th>HEART_RATE_DIFF_REL</th>\n",
              "      <th>RESPIRATORY_RATE_DIFF_REL</th>\n",
              "      <th>TEMPERATURE_DIFF_REL</th>\n",
              "      <th>OXYGEN_SATURATION_DIFF_REL</th>\n",
              "      <th>ICU</th>\n",
              "    </tr>\n",
              "  </thead>\n",
              "  <tbody>\n",
              "    <tr>\n",
              "      <th>count</th>\n",
              "      <td>1760.000000</td>\n",
              "      <td>1760.000000</td>\n",
              "      <td>1760.000000</td>\n",
              "      <td>1760.00000</td>\n",
              "      <td>1760.000000</td>\n",
              "      <td>1760.000000</td>\n",
              "      <td>1760.000000</td>\n",
              "      <td>1760.000000</td>\n",
              "      <td>1760.000000</td>\n",
              "      <td>1760.000000</td>\n",
              "      <td>...</td>\n",
              "      <td>1760.000000</td>\n",
              "      <td>1760.000000</td>\n",
              "      <td>1760.000000</td>\n",
              "      <td>1760.000000</td>\n",
              "      <td>1760.000000</td>\n",
              "      <td>1760.000000</td>\n",
              "      <td>1760.000000</td>\n",
              "      <td>1760.000000</td>\n",
              "      <td>1760.000000</td>\n",
              "      <td>1760.000000</td>\n",
              "    </tr>\n",
              "    <tr>\n",
              "      <th>mean</th>\n",
              "      <td>192.818182</td>\n",
              "      <td>0.457386</td>\n",
              "      <td>0.380682</td>\n",
              "      <td>0.11250</td>\n",
              "      <td>0.026136</td>\n",
              "      <td>0.101705</td>\n",
              "      <td>0.021591</td>\n",
              "      <td>0.132955</td>\n",
              "      <td>0.049432</td>\n",
              "      <td>0.212500</td>\n",
              "      <td>...</td>\n",
              "      <td>-0.778209</td>\n",
              "      <td>-0.823458</td>\n",
              "      <td>-0.915593</td>\n",
              "      <td>-0.828593</td>\n",
              "      <td>-0.774857</td>\n",
              "      <td>-0.854690</td>\n",
              "      <td>-0.788155</td>\n",
              "      <td>-0.824412</td>\n",
              "      <td>-0.915552</td>\n",
              "      <td>0.201705</td>\n",
              "    </tr>\n",
              "    <tr>\n",
              "      <th>std</th>\n",
              "      <td>110.637724</td>\n",
              "      <td>0.498322</td>\n",
              "      <td>0.485692</td>\n",
              "      <td>0.31607</td>\n",
              "      <td>0.159586</td>\n",
              "      <td>0.302345</td>\n",
              "      <td>0.145385</td>\n",
              "      <td>0.339622</td>\n",
              "      <td>0.216829</td>\n",
              "      <td>0.409193</td>\n",
              "      <td>...</td>\n",
              "      <td>0.411909</td>\n",
              "      <td>0.276279</td>\n",
              "      <td>0.247695</td>\n",
              "      <td>0.287696</td>\n",
              "      <td>0.368311</td>\n",
              "      <td>0.240338</td>\n",
              "      <td>0.384405</td>\n",
              "      <td>0.274953</td>\n",
              "      <td>0.248093</td>\n",
              "      <td>0.401387</td>\n",
              "    </tr>\n",
              "    <tr>\n",
              "      <th>min</th>\n",
              "      <td>0.000000</td>\n",
              "      <td>0.000000</td>\n",
              "      <td>0.000000</td>\n",
              "      <td>0.00000</td>\n",
              "      <td>0.000000</td>\n",
              "      <td>0.000000</td>\n",
              "      <td>0.000000</td>\n",
              "      <td>0.000000</td>\n",
              "      <td>0.000000</td>\n",
              "      <td>0.000000</td>\n",
              "      <td>...</td>\n",
              "      <td>-1.000000</td>\n",
              "      <td>-1.000000</td>\n",
              "      <td>-1.000000</td>\n",
              "      <td>-1.000000</td>\n",
              "      <td>-1.000000</td>\n",
              "      <td>-1.000000</td>\n",
              "      <td>-1.000000</td>\n",
              "      <td>-1.000000</td>\n",
              "      <td>-1.000000</td>\n",
              "      <td>0.000000</td>\n",
              "    </tr>\n",
              "    <tr>\n",
              "      <th>25%</th>\n",
              "      <td>97.750000</td>\n",
              "      <td>0.000000</td>\n",
              "      <td>0.000000</td>\n",
              "      <td>0.00000</td>\n",
              "      <td>0.000000</td>\n",
              "      <td>0.000000</td>\n",
              "      <td>0.000000</td>\n",
              "      <td>0.000000</td>\n",
              "      <td>0.000000</td>\n",
              "      <td>0.000000</td>\n",
              "      <td>...</td>\n",
              "      <td>-1.000000</td>\n",
              "      <td>-1.000000</td>\n",
              "      <td>-1.000000</td>\n",
              "      <td>-1.000000</td>\n",
              "      <td>-1.000000</td>\n",
              "      <td>-1.000000</td>\n",
              "      <td>-1.000000</td>\n",
              "      <td>-1.000000</td>\n",
              "      <td>-1.000000</td>\n",
              "      <td>0.000000</td>\n",
              "    </tr>\n",
              "    <tr>\n",
              "      <th>50%</th>\n",
              "      <td>191.500000</td>\n",
              "      <td>0.000000</td>\n",
              "      <td>0.000000</td>\n",
              "      <td>0.00000</td>\n",
              "      <td>0.000000</td>\n",
              "      <td>0.000000</td>\n",
              "      <td>0.000000</td>\n",
              "      <td>0.000000</td>\n",
              "      <td>0.000000</td>\n",
              "      <td>0.000000</td>\n",
              "      <td>...</td>\n",
              "      <td>-1.000000</td>\n",
              "      <td>-1.000000</td>\n",
              "      <td>-1.000000</td>\n",
              "      <td>-1.000000</td>\n",
              "      <td>-1.000000</td>\n",
              "      <td>-1.000000</td>\n",
              "      <td>-1.000000</td>\n",
              "      <td>-1.000000</td>\n",
              "      <td>-1.000000</td>\n",
              "      <td>0.000000</td>\n",
              "    </tr>\n",
              "    <tr>\n",
              "      <th>75%</th>\n",
              "      <td>289.250000</td>\n",
              "      <td>1.000000</td>\n",
              "      <td>1.000000</td>\n",
              "      <td>0.00000</td>\n",
              "      <td>0.000000</td>\n",
              "      <td>0.000000</td>\n",
              "      <td>0.000000</td>\n",
              "      <td>0.000000</td>\n",
              "      <td>0.000000</td>\n",
              "      <td>0.000000</td>\n",
              "      <td>...</td>\n",
              "      <td>-0.764706</td>\n",
              "      <td>-0.738095</td>\n",
              "      <td>-0.919192</td>\n",
              "      <td>-0.726087</td>\n",
              "      <td>-0.651942</td>\n",
              "      <td>-0.771625</td>\n",
              "      <td>-0.756272</td>\n",
              "      <td>-0.736640</td>\n",
              "      <td>-0.920103</td>\n",
              "      <td>0.000000</td>\n",
              "    </tr>\n",
              "    <tr>\n",
              "      <th>max</th>\n",
              "      <td>384.000000</td>\n",
              "      <td>1.000000</td>\n",
              "      <td>1.000000</td>\n",
              "      <td>1.00000</td>\n",
              "      <td>1.000000</td>\n",
              "      <td>1.000000</td>\n",
              "      <td>1.000000</td>\n",
              "      <td>1.000000</td>\n",
              "      <td>1.000000</td>\n",
              "      <td>1.000000</td>\n",
              "      <td>...</td>\n",
              "      <td>1.000000</td>\n",
              "      <td>0.333333</td>\n",
              "      <td>1.000000</td>\n",
              "      <td>1.000000</td>\n",
              "      <td>1.000000</td>\n",
              "      <td>1.000000</td>\n",
              "      <td>1.000000</td>\n",
              "      <td>0.329660</td>\n",
              "      <td>1.000000</td>\n",
              "      <td>1.000000</td>\n",
              "    </tr>\n",
              "  </tbody>\n",
              "</table>\n",
              "<p>8 rows × 229 columns</p>\n",
              "</div>"
            ],
            "text/plain": [
              "       PATIENT_VISIT_IDENTIFIER  AGE_ABOVE65       GENDER  DISEASE GROUPING 1  \\\n",
              "count               1760.000000  1760.000000  1760.000000          1760.00000   \n",
              "mean                 192.818182     0.457386     0.380682             0.11250   \n",
              "std                  110.637724     0.498322     0.485692             0.31607   \n",
              "min                    0.000000     0.000000     0.000000             0.00000   \n",
              "25%                   97.750000     0.000000     0.000000             0.00000   \n",
              "50%                  191.500000     0.000000     0.000000             0.00000   \n",
              "75%                  289.250000     1.000000     1.000000             0.00000   \n",
              "max                  384.000000     1.000000     1.000000             1.00000   \n",
              "\n",
              "       DISEASE GROUPING 2  DISEASE GROUPING 3  DISEASE GROUPING 4  \\\n",
              "count         1760.000000         1760.000000         1760.000000   \n",
              "mean             0.026136            0.101705            0.021591   \n",
              "std              0.159586            0.302345            0.145385   \n",
              "min              0.000000            0.000000            0.000000   \n",
              "25%              0.000000            0.000000            0.000000   \n",
              "50%              0.000000            0.000000            0.000000   \n",
              "75%              0.000000            0.000000            0.000000   \n",
              "max              1.000000            1.000000            1.000000   \n",
              "\n",
              "       DISEASE GROUPING 5  DISEASE GROUPING 6          HTN  ...  \\\n",
              "count         1760.000000         1760.000000  1760.000000  ...   \n",
              "mean             0.132955            0.049432     0.212500  ...   \n",
              "std              0.339622            0.216829     0.409193  ...   \n",
              "min              0.000000            0.000000     0.000000  ...   \n",
              "25%              0.000000            0.000000     0.000000  ...   \n",
              "50%              0.000000            0.000000     0.000000  ...   \n",
              "75%              0.000000            0.000000     0.000000  ...   \n",
              "max              1.000000            1.000000     1.000000  ...   \n",
              "\n",
              "       RESPIRATORY_RATE_DIFF  TEMPERATURE_DIFF  OXYGEN_SATURATION_DIFF  \\\n",
              "count            1760.000000       1760.000000             1760.000000   \n",
              "mean               -0.778209         -0.823458               -0.915593   \n",
              "std                 0.411909          0.276279                0.247695   \n",
              "min                -1.000000         -1.000000               -1.000000   \n",
              "25%                -1.000000         -1.000000               -1.000000   \n",
              "50%                -1.000000         -1.000000               -1.000000   \n",
              "75%                -0.764706         -0.738095               -0.919192   \n",
              "max                 1.000000          0.333333                1.000000   \n",
              "\n",
              "       BLOODPRESSURE_DIASTOLIC_DIFF_REL  BLOODPRESSURE_SISTOLIC_DIFF_REL  \\\n",
              "count                       1760.000000                      1760.000000   \n",
              "mean                          -0.828593                        -0.774857   \n",
              "std                            0.287696                         0.368311   \n",
              "min                           -1.000000                        -1.000000   \n",
              "25%                           -1.000000                        -1.000000   \n",
              "50%                           -1.000000                        -1.000000   \n",
              "75%                           -0.726087                        -0.651942   \n",
              "max                            1.000000                         1.000000   \n",
              "\n",
              "       HEART_RATE_DIFF_REL  RESPIRATORY_RATE_DIFF_REL  TEMPERATURE_DIFF_REL  \\\n",
              "count          1760.000000                1760.000000           1760.000000   \n",
              "mean             -0.854690                  -0.788155             -0.824412   \n",
              "std               0.240338                   0.384405              0.274953   \n",
              "min              -1.000000                  -1.000000             -1.000000   \n",
              "25%              -1.000000                  -1.000000             -1.000000   \n",
              "50%              -1.000000                  -1.000000             -1.000000   \n",
              "75%              -0.771625                  -0.756272             -0.736640   \n",
              "max               1.000000                   1.000000              0.329660   \n",
              "\n",
              "       OXYGEN_SATURATION_DIFF_REL          ICU  \n",
              "count                 1760.000000  1760.000000  \n",
              "mean                    -0.915552     0.201705  \n",
              "std                      0.248093     0.401387  \n",
              "min                     -1.000000     0.000000  \n",
              "25%                     -1.000000     0.000000  \n",
              "50%                     -1.000000     0.000000  \n",
              "75%                     -0.920103     0.000000  \n",
              "max                      1.000000     1.000000  \n",
              "\n",
              "[8 rows x 229 columns]"
            ]
          },
          "metadata": {
            "tags": []
          },
          "execution_count": 3
        }
      ]
    },
    {
      "cell_type": "code",
      "metadata": {
        "id": "bhpb6YkS7RqJ"
      },
      "source": [
        "def prepare(rows):\n",
        "    if(np.any(rows['ICU'])):\n",
        "        rows.loc[rows['WINDOW'] == '0-2', 'ICU'] = 1\n",
        "    \n",
        "    return rows.loc[rows['WINDOW'] == '0-2']"
      ],
      "execution_count": null,
      "outputs": []
    },
    {
      "cell_type": "code",
      "metadata": {
        "id": "hvyt7k8_7RqW",
        "outputId": "72ff4411-1a46-43ab-9160-d1a74b9050ca"
      },
      "source": [
        "dados_limpos = dados_limpos.groupby(\"PATIENT_VISIT_IDENTIFIER\").apply(prepare)\n",
        "\n",
        "#Vamos transformar a coluna age percentil em dados categoricos:\n",
        "\n",
        "dados_limpos['AGE_PERCENTIL'] = dados_limpos['AGE_PERCENTIL'].astype('category').cat.codes\n",
        "dados_limpos.head()"
      ],
      "execution_count": null,
      "outputs": [
        {
          "output_type": "execute_result",
          "data": {
            "text/html": [
              "<div>\n",
              "<style scoped>\n",
              "    .dataframe tbody tr th:only-of-type {\n",
              "        vertical-align: middle;\n",
              "    }\n",
              "\n",
              "    .dataframe tbody tr th {\n",
              "        vertical-align: top;\n",
              "    }\n",
              "\n",
              "    .dataframe thead th {\n",
              "        text-align: right;\n",
              "    }\n",
              "</style>\n",
              "<table border=\"1\" class=\"dataframe\">\n",
              "  <thead>\n",
              "    <tr style=\"text-align: right;\">\n",
              "      <th></th>\n",
              "      <th></th>\n",
              "      <th>PATIENT_VISIT_IDENTIFIER</th>\n",
              "      <th>AGE_ABOVE65</th>\n",
              "      <th>AGE_PERCENTIL</th>\n",
              "      <th>GENDER</th>\n",
              "      <th>DISEASE GROUPING 1</th>\n",
              "      <th>DISEASE GROUPING 2</th>\n",
              "      <th>DISEASE GROUPING 3</th>\n",
              "      <th>DISEASE GROUPING 4</th>\n",
              "      <th>DISEASE GROUPING 5</th>\n",
              "      <th>DISEASE GROUPING 6</th>\n",
              "      <th>...</th>\n",
              "      <th>TEMPERATURE_DIFF</th>\n",
              "      <th>OXYGEN_SATURATION_DIFF</th>\n",
              "      <th>BLOODPRESSURE_DIASTOLIC_DIFF_REL</th>\n",
              "      <th>BLOODPRESSURE_SISTOLIC_DIFF_REL</th>\n",
              "      <th>HEART_RATE_DIFF_REL</th>\n",
              "      <th>RESPIRATORY_RATE_DIFF_REL</th>\n",
              "      <th>TEMPERATURE_DIFF_REL</th>\n",
              "      <th>OXYGEN_SATURATION_DIFF_REL</th>\n",
              "      <th>WINDOW</th>\n",
              "      <th>ICU</th>\n",
              "    </tr>\n",
              "    <tr>\n",
              "      <th>PATIENT_VISIT_IDENTIFIER</th>\n",
              "      <th></th>\n",
              "      <th></th>\n",
              "      <th></th>\n",
              "      <th></th>\n",
              "      <th></th>\n",
              "      <th></th>\n",
              "      <th></th>\n",
              "      <th></th>\n",
              "      <th></th>\n",
              "      <th></th>\n",
              "      <th></th>\n",
              "      <th></th>\n",
              "      <th></th>\n",
              "      <th></th>\n",
              "      <th></th>\n",
              "      <th></th>\n",
              "      <th></th>\n",
              "      <th></th>\n",
              "      <th></th>\n",
              "      <th></th>\n",
              "      <th></th>\n",
              "      <th></th>\n",
              "    </tr>\n",
              "  </thead>\n",
              "  <tbody>\n",
              "    <tr>\n",
              "      <th>0</th>\n",
              "      <th>0</th>\n",
              "      <td>0</td>\n",
              "      <td>1</td>\n",
              "      <td>5</td>\n",
              "      <td>0</td>\n",
              "      <td>0.0</td>\n",
              "      <td>0.0</td>\n",
              "      <td>0.0</td>\n",
              "      <td>0.0</td>\n",
              "      <td>1.0</td>\n",
              "      <td>1.0</td>\n",
              "      <td>...</td>\n",
              "      <td>-1.000000</td>\n",
              "      <td>-1.000000</td>\n",
              "      <td>-1.000000</td>\n",
              "      <td>-1.000000</td>\n",
              "      <td>-1.000000</td>\n",
              "      <td>-1.000000</td>\n",
              "      <td>-1.000000</td>\n",
              "      <td>-1.000000</td>\n",
              "      <td>0-2</td>\n",
              "      <td>1</td>\n",
              "    </tr>\n",
              "    <tr>\n",
              "      <th>2</th>\n",
              "      <th>10</th>\n",
              "      <td>2</td>\n",
              "      <td>0</td>\n",
              "      <td>0</td>\n",
              "      <td>0</td>\n",
              "      <td>0.0</td>\n",
              "      <td>0.0</td>\n",
              "      <td>0.0</td>\n",
              "      <td>0.0</td>\n",
              "      <td>0.0</td>\n",
              "      <td>0.0</td>\n",
              "      <td>...</td>\n",
              "      <td>-1.000000</td>\n",
              "      <td>-0.959596</td>\n",
              "      <td>-0.515528</td>\n",
              "      <td>-0.351328</td>\n",
              "      <td>-0.747001</td>\n",
              "      <td>-0.756272</td>\n",
              "      <td>-1.000000</td>\n",
              "      <td>-0.961262</td>\n",
              "      <td>0-2</td>\n",
              "      <td>1</td>\n",
              "    </tr>\n",
              "    <tr>\n",
              "      <th>3</th>\n",
              "      <th>15</th>\n",
              "      <td>3</td>\n",
              "      <td>0</td>\n",
              "      <td>3</td>\n",
              "      <td>1</td>\n",
              "      <td>0.0</td>\n",
              "      <td>0.0</td>\n",
              "      <td>0.0</td>\n",
              "      <td>0.0</td>\n",
              "      <td>0.0</td>\n",
              "      <td>0.0</td>\n",
              "      <td>...</td>\n",
              "      <td>-1.000000</td>\n",
              "      <td>-1.000000</td>\n",
              "      <td>-1.000000</td>\n",
              "      <td>-1.000000</td>\n",
              "      <td>-1.000000</td>\n",
              "      <td>-1.000000</td>\n",
              "      <td>-1.000000</td>\n",
              "      <td>-1.000000</td>\n",
              "      <td>0-2</td>\n",
              "      <td>0</td>\n",
              "    </tr>\n",
              "    <tr>\n",
              "      <th>4</th>\n",
              "      <th>20</th>\n",
              "      <td>4</td>\n",
              "      <td>0</td>\n",
              "      <td>0</td>\n",
              "      <td>0</td>\n",
              "      <td>0.0</td>\n",
              "      <td>0.0</td>\n",
              "      <td>0.0</td>\n",
              "      <td>0.0</td>\n",
              "      <td>0.0</td>\n",
              "      <td>0.0</td>\n",
              "      <td>...</td>\n",
              "      <td>-0.952381</td>\n",
              "      <td>-0.979798</td>\n",
              "      <td>-1.000000</td>\n",
              "      <td>-0.883669</td>\n",
              "      <td>-0.956805</td>\n",
              "      <td>-0.870968</td>\n",
              "      <td>-0.953536</td>\n",
              "      <td>-0.980333</td>\n",
              "      <td>0-2</td>\n",
              "      <td>0</td>\n",
              "    </tr>\n",
              "    <tr>\n",
              "      <th>5</th>\n",
              "      <th>25</th>\n",
              "      <td>5</td>\n",
              "      <td>0</td>\n",
              "      <td>0</td>\n",
              "      <td>0</td>\n",
              "      <td>0.0</td>\n",
              "      <td>0.0</td>\n",
              "      <td>0.0</td>\n",
              "      <td>0.0</td>\n",
              "      <td>0.0</td>\n",
              "      <td>0.0</td>\n",
              "      <td>...</td>\n",
              "      <td>-0.976190</td>\n",
              "      <td>-0.979798</td>\n",
              "      <td>-0.860870</td>\n",
              "      <td>-0.714460</td>\n",
              "      <td>-0.986481</td>\n",
              "      <td>-1.000000</td>\n",
              "      <td>-0.975891</td>\n",
              "      <td>-0.980129</td>\n",
              "      <td>0-2</td>\n",
              "      <td>0</td>\n",
              "    </tr>\n",
              "  </tbody>\n",
              "</table>\n",
              "<p>5 rows × 231 columns</p>\n",
              "</div>"
            ],
            "text/plain": [
              "                             PATIENT_VISIT_IDENTIFIER  AGE_ABOVE65  \\\n",
              "PATIENT_VISIT_IDENTIFIER                                             \n",
              "0                        0                          0            1   \n",
              "2                        10                         2            0   \n",
              "3                        15                         3            0   \n",
              "4                        20                         4            0   \n",
              "5                        25                         5            0   \n",
              "\n",
              "                             AGE_PERCENTIL  GENDER  DISEASE GROUPING 1  \\\n",
              "PATIENT_VISIT_IDENTIFIER                                                 \n",
              "0                        0               5       0                 0.0   \n",
              "2                        10              0       0                 0.0   \n",
              "3                        15              3       1                 0.0   \n",
              "4                        20              0       0                 0.0   \n",
              "5                        25              0       0                 0.0   \n",
              "\n",
              "                             DISEASE GROUPING 2  DISEASE GROUPING 3  \\\n",
              "PATIENT_VISIT_IDENTIFIER                                              \n",
              "0                        0                  0.0                 0.0   \n",
              "2                        10                 0.0                 0.0   \n",
              "3                        15                 0.0                 0.0   \n",
              "4                        20                 0.0                 0.0   \n",
              "5                        25                 0.0                 0.0   \n",
              "\n",
              "                             DISEASE GROUPING 4  DISEASE GROUPING 5  \\\n",
              "PATIENT_VISIT_IDENTIFIER                                              \n",
              "0                        0                  0.0                 1.0   \n",
              "2                        10                 0.0                 0.0   \n",
              "3                        15                 0.0                 0.0   \n",
              "4                        20                 0.0                 0.0   \n",
              "5                        25                 0.0                 0.0   \n",
              "\n",
              "                             DISEASE GROUPING 6  ...  TEMPERATURE_DIFF  \\\n",
              "PATIENT_VISIT_IDENTIFIER                         ...                     \n",
              "0                        0                  1.0  ...         -1.000000   \n",
              "2                        10                 0.0  ...         -1.000000   \n",
              "3                        15                 0.0  ...         -1.000000   \n",
              "4                        20                 0.0  ...         -0.952381   \n",
              "5                        25                 0.0  ...         -0.976190   \n",
              "\n",
              "                             OXYGEN_SATURATION_DIFF  \\\n",
              "PATIENT_VISIT_IDENTIFIER                              \n",
              "0                        0                -1.000000   \n",
              "2                        10               -0.959596   \n",
              "3                        15               -1.000000   \n",
              "4                        20               -0.979798   \n",
              "5                        25               -0.979798   \n",
              "\n",
              "                             BLOODPRESSURE_DIASTOLIC_DIFF_REL  \\\n",
              "PATIENT_VISIT_IDENTIFIER                                        \n",
              "0                        0                          -1.000000   \n",
              "2                        10                         -0.515528   \n",
              "3                        15                         -1.000000   \n",
              "4                        20                         -1.000000   \n",
              "5                        25                         -0.860870   \n",
              "\n",
              "                             BLOODPRESSURE_SISTOLIC_DIFF_REL  \\\n",
              "PATIENT_VISIT_IDENTIFIER                                       \n",
              "0                        0                         -1.000000   \n",
              "2                        10                        -0.351328   \n",
              "3                        15                        -1.000000   \n",
              "4                        20                        -0.883669   \n",
              "5                        25                        -0.714460   \n",
              "\n",
              "                             HEART_RATE_DIFF_REL  RESPIRATORY_RATE_DIFF_REL  \\\n",
              "PATIENT_VISIT_IDENTIFIER                                                      \n",
              "0                        0             -1.000000                  -1.000000   \n",
              "2                        10            -0.747001                  -0.756272   \n",
              "3                        15            -1.000000                  -1.000000   \n",
              "4                        20            -0.956805                  -0.870968   \n",
              "5                        25            -0.986481                  -1.000000   \n",
              "\n",
              "                             TEMPERATURE_DIFF_REL  OXYGEN_SATURATION_DIFF_REL  \\\n",
              "PATIENT_VISIT_IDENTIFIER                                                        \n",
              "0                        0              -1.000000                   -1.000000   \n",
              "2                        10             -1.000000                   -0.961262   \n",
              "3                        15             -1.000000                   -1.000000   \n",
              "4                        20             -0.953536                   -0.980333   \n",
              "5                        25             -0.975891                   -0.980129   \n",
              "\n",
              "                             WINDOW  ICU  \n",
              "PATIENT_VISIT_IDENTIFIER                  \n",
              "0                        0      0-2    1  \n",
              "2                        10     0-2    1  \n",
              "3                        15     0-2    0  \n",
              "4                        20     0-2    0  \n",
              "5                        25     0-2    0  \n",
              "\n",
              "[5 rows x 231 columns]"
            ]
          },
          "metadata": {
            "tags": []
          },
          "execution_count": 5
        }
      ]
    },
    {
      "cell_type": "code",
      "metadata": {
        "id": "Y8zeGpBL7RqX",
        "outputId": "9760ae81-cbe2-4df5-dfd2-b7de253f0898"
      },
      "source": [
        "import numpy as np\n",
        "from sklearn.dummy import DummyClassifier\n",
        "from sklearn.metrics import accuracy_score\n",
        "from sklearn.linear_model import LogisticRegression\n",
        "from sklearn.model_selection import train_test_split\n",
        "\n",
        "\n",
        "np.random.seed(73246)\n",
        "\n",
        "#Tiramos o describe daqui\n",
        "xco = dados.columns\n",
        "y = dados_limpos['ICU']\n",
        "x = dados_limpos[xco].drop(['ICU','WINDOW'], axis=1)\n",
        "xtrain, xteste, ytrain, yteste = train_test_split(x, y, stratify=y)\n",
        "modelo = DummyClassifier()\n",
        "modelo.fit(xtrain, ytrain)\n",
        "\n",
        "yprediction = modelo.predict(xteste)\n",
        "accuracy_score(yteste, yprediction)"
      ],
      "execution_count": null,
      "outputs": [
        {
          "output_type": "execute_result",
          "data": {
            "text/plain": [
              "0.5340909090909091"
            ]
          },
          "metadata": {
            "tags": []
          },
          "execution_count": 6
        }
      ]
    },
    {
      "cell_type": "code",
      "metadata": {
        "id": "w-zqcvBA7RqZ",
        "outputId": "b64a9616-9eb0-445d-ad24-cc51008a1d99"
      },
      "source": [
        "modelo = LogisticRegression(max_iter = 10000)\n",
        "modelo.fit(xtrain, ytrain)\n",
        "yprediction = modelo.predict(xteste)\n",
        "accuracy_score(yteste, yprediction)"
      ],
      "execution_count": null,
      "outputs": [
        {
          "output_type": "execute_result",
          "data": {
            "text/plain": [
              "0.6818181818181818"
            ]
          },
          "metadata": {
            "tags": []
          },
          "execution_count": 7
        }
      ]
    },
    {
      "cell_type": "code",
      "metadata": {
        "id": "wHSzsOZ07Rqa"
      },
      "source": [
        "#Colunas q n entraram no modelo:\n",
        "\n",
        "for coluna in dados.columns:\n",
        "    if coluna not in xco:\n",
        "        print(coluna)\n",
        "        \n",
        "#Window é realmente irrelevante pois pegamos só 0-2 mas age percentil é braba, vamos tirar o describe ali."
      ],
      "execution_count": null,
      "outputs": []
    },
    {
      "cell_type": "markdown",
      "metadata": {
        "id": "O3eu2Sqo7Rqc"
      },
      "source": [
        "### Desafio 1 : Transformar a coluna age percentil em dados categóricos usando outro método\n",
        "\n"
      ]
    },
    {
      "cell_type": "code",
      "metadata": {
        "scrolled": true,
        "id": "ADpLl6DP7Rqe",
        "outputId": "12ab35cc-8097-41b6-81c3-a98c5f97c0bf"
      },
      "source": [
        "le = LabelEncoder()\n",
        "dados['AGE_PERCENTIL'] = le.fit_transform(dados['AGE_PERCENTIL'])\n",
        "dados.head()"
      ],
      "execution_count": null,
      "outputs": [
        {
          "output_type": "execute_result",
          "data": {
            "text/html": [
              "<div>\n",
              "<style scoped>\n",
              "    .dataframe tbody tr th:only-of-type {\n",
              "        vertical-align: middle;\n",
              "    }\n",
              "\n",
              "    .dataframe tbody tr th {\n",
              "        vertical-align: top;\n",
              "    }\n",
              "\n",
              "    .dataframe thead th {\n",
              "        text-align: right;\n",
              "    }\n",
              "</style>\n",
              "<table border=\"1\" class=\"dataframe\">\n",
              "  <thead>\n",
              "    <tr style=\"text-align: right;\">\n",
              "      <th></th>\n",
              "      <th>PATIENT_VISIT_IDENTIFIER</th>\n",
              "      <th>AGE_ABOVE65</th>\n",
              "      <th>AGE_PERCENTIL</th>\n",
              "      <th>GENDER</th>\n",
              "      <th>DISEASE GROUPING 1</th>\n",
              "      <th>DISEASE GROUPING 2</th>\n",
              "      <th>DISEASE GROUPING 3</th>\n",
              "      <th>DISEASE GROUPING 4</th>\n",
              "      <th>DISEASE GROUPING 5</th>\n",
              "      <th>DISEASE GROUPING 6</th>\n",
              "      <th>...</th>\n",
              "      <th>TEMPERATURE_DIFF</th>\n",
              "      <th>OXYGEN_SATURATION_DIFF</th>\n",
              "      <th>BLOODPRESSURE_DIASTOLIC_DIFF_REL</th>\n",
              "      <th>BLOODPRESSURE_SISTOLIC_DIFF_REL</th>\n",
              "      <th>HEART_RATE_DIFF_REL</th>\n",
              "      <th>RESPIRATORY_RATE_DIFF_REL</th>\n",
              "      <th>TEMPERATURE_DIFF_REL</th>\n",
              "      <th>OXYGEN_SATURATION_DIFF_REL</th>\n",
              "      <th>WINDOW</th>\n",
              "      <th>ICU</th>\n",
              "    </tr>\n",
              "  </thead>\n",
              "  <tbody>\n",
              "    <tr>\n",
              "      <th>0</th>\n",
              "      <td>0</td>\n",
              "      <td>1</td>\n",
              "      <td>5</td>\n",
              "      <td>0</td>\n",
              "      <td>0.0</td>\n",
              "      <td>0.0</td>\n",
              "      <td>0.0</td>\n",
              "      <td>0.0</td>\n",
              "      <td>1.0</td>\n",
              "      <td>1.0</td>\n",
              "      <td>...</td>\n",
              "      <td>-1.000000</td>\n",
              "      <td>-1.000000</td>\n",
              "      <td>-1.000000</td>\n",
              "      <td>-1.000000</td>\n",
              "      <td>-1.000000</td>\n",
              "      <td>-1.000000</td>\n",
              "      <td>-1.000000</td>\n",
              "      <td>-1.000000</td>\n",
              "      <td>0-2</td>\n",
              "      <td>0</td>\n",
              "    </tr>\n",
              "    <tr>\n",
              "      <th>1</th>\n",
              "      <td>0</td>\n",
              "      <td>1</td>\n",
              "      <td>5</td>\n",
              "      <td>0</td>\n",
              "      <td>0.0</td>\n",
              "      <td>0.0</td>\n",
              "      <td>0.0</td>\n",
              "      <td>0.0</td>\n",
              "      <td>1.0</td>\n",
              "      <td>1.0</td>\n",
              "      <td>...</td>\n",
              "      <td>-1.000000</td>\n",
              "      <td>-1.000000</td>\n",
              "      <td>-1.000000</td>\n",
              "      <td>-1.000000</td>\n",
              "      <td>-1.000000</td>\n",
              "      <td>-1.000000</td>\n",
              "      <td>-1.000000</td>\n",
              "      <td>-1.000000</td>\n",
              "      <td>2-4</td>\n",
              "      <td>0</td>\n",
              "    </tr>\n",
              "    <tr>\n",
              "      <th>2</th>\n",
              "      <td>0</td>\n",
              "      <td>1</td>\n",
              "      <td>5</td>\n",
              "      <td>0</td>\n",
              "      <td>0.0</td>\n",
              "      <td>0.0</td>\n",
              "      <td>0.0</td>\n",
              "      <td>0.0</td>\n",
              "      <td>1.0</td>\n",
              "      <td>1.0</td>\n",
              "      <td>...</td>\n",
              "      <td>NaN</td>\n",
              "      <td>NaN</td>\n",
              "      <td>NaN</td>\n",
              "      <td>NaN</td>\n",
              "      <td>NaN</td>\n",
              "      <td>NaN</td>\n",
              "      <td>NaN</td>\n",
              "      <td>NaN</td>\n",
              "      <td>4-6</td>\n",
              "      <td>0</td>\n",
              "    </tr>\n",
              "    <tr>\n",
              "      <th>3</th>\n",
              "      <td>0</td>\n",
              "      <td>1</td>\n",
              "      <td>5</td>\n",
              "      <td>0</td>\n",
              "      <td>0.0</td>\n",
              "      <td>0.0</td>\n",
              "      <td>0.0</td>\n",
              "      <td>0.0</td>\n",
              "      <td>1.0</td>\n",
              "      <td>1.0</td>\n",
              "      <td>...</td>\n",
              "      <td>-1.000000</td>\n",
              "      <td>-1.000000</td>\n",
              "      <td>NaN</td>\n",
              "      <td>NaN</td>\n",
              "      <td>NaN</td>\n",
              "      <td>NaN</td>\n",
              "      <td>-1.000000</td>\n",
              "      <td>-1.000000</td>\n",
              "      <td>6-12</td>\n",
              "      <td>0</td>\n",
              "    </tr>\n",
              "    <tr>\n",
              "      <th>4</th>\n",
              "      <td>0</td>\n",
              "      <td>1</td>\n",
              "      <td>5</td>\n",
              "      <td>0</td>\n",
              "      <td>0.0</td>\n",
              "      <td>0.0</td>\n",
              "      <td>0.0</td>\n",
              "      <td>0.0</td>\n",
              "      <td>1.0</td>\n",
              "      <td>1.0</td>\n",
              "      <td>...</td>\n",
              "      <td>-0.238095</td>\n",
              "      <td>-0.818182</td>\n",
              "      <td>-0.389967</td>\n",
              "      <td>0.407558</td>\n",
              "      <td>-0.230462</td>\n",
              "      <td>0.096774</td>\n",
              "      <td>-0.242282</td>\n",
              "      <td>-0.814433</td>\n",
              "      <td>ABOVE_12</td>\n",
              "      <td>1</td>\n",
              "    </tr>\n",
              "  </tbody>\n",
              "</table>\n",
              "<p>5 rows × 231 columns</p>\n",
              "</div>"
            ],
            "text/plain": [
              "   PATIENT_VISIT_IDENTIFIER  AGE_ABOVE65  AGE_PERCENTIL  GENDER  \\\n",
              "0                         0            1              5       0   \n",
              "1                         0            1              5       0   \n",
              "2                         0            1              5       0   \n",
              "3                         0            1              5       0   \n",
              "4                         0            1              5       0   \n",
              "\n",
              "   DISEASE GROUPING 1  DISEASE GROUPING 2  DISEASE GROUPING 3  \\\n",
              "0                 0.0                 0.0                 0.0   \n",
              "1                 0.0                 0.0                 0.0   \n",
              "2                 0.0                 0.0                 0.0   \n",
              "3                 0.0                 0.0                 0.0   \n",
              "4                 0.0                 0.0                 0.0   \n",
              "\n",
              "   DISEASE GROUPING 4  DISEASE GROUPING 5  DISEASE GROUPING 6  ...  \\\n",
              "0                 0.0                 1.0                 1.0  ...   \n",
              "1                 0.0                 1.0                 1.0  ...   \n",
              "2                 0.0                 1.0                 1.0  ...   \n",
              "3                 0.0                 1.0                 1.0  ...   \n",
              "4                 0.0                 1.0                 1.0  ...   \n",
              "\n",
              "   TEMPERATURE_DIFF  OXYGEN_SATURATION_DIFF  BLOODPRESSURE_DIASTOLIC_DIFF_REL  \\\n",
              "0         -1.000000               -1.000000                         -1.000000   \n",
              "1         -1.000000               -1.000000                         -1.000000   \n",
              "2               NaN                     NaN                               NaN   \n",
              "3         -1.000000               -1.000000                               NaN   \n",
              "4         -0.238095               -0.818182                         -0.389967   \n",
              "\n",
              "   BLOODPRESSURE_SISTOLIC_DIFF_REL  HEART_RATE_DIFF_REL  \\\n",
              "0                        -1.000000            -1.000000   \n",
              "1                        -1.000000            -1.000000   \n",
              "2                              NaN                  NaN   \n",
              "3                              NaN                  NaN   \n",
              "4                         0.407558            -0.230462   \n",
              "\n",
              "   RESPIRATORY_RATE_DIFF_REL  TEMPERATURE_DIFF_REL  \\\n",
              "0                  -1.000000             -1.000000   \n",
              "1                  -1.000000             -1.000000   \n",
              "2                        NaN                   NaN   \n",
              "3                        NaN             -1.000000   \n",
              "4                   0.096774             -0.242282   \n",
              "\n",
              "   OXYGEN_SATURATION_DIFF_REL    WINDOW  ICU  \n",
              "0                   -1.000000       0-2    0  \n",
              "1                   -1.000000       2-4    0  \n",
              "2                         NaN       4-6    0  \n",
              "3                   -1.000000      6-12    0  \n",
              "4                   -0.814433  ABOVE_12    1  \n",
              "\n",
              "[5 rows x 231 columns]"
            ]
          },
          "metadata": {
            "tags": []
          },
          "execution_count": 9
        }
      ]
    },
    {
      "cell_type": "markdown",
      "metadata": {
        "id": "YEUX4YD_7Rqh"
      },
      "source": [
        "### Aula 2"
      ]
    },
    {
      "cell_type": "markdown",
      "metadata": {
        "id": "5LsmklXV7Rqi"
      },
      "source": [
        "Alan comenta que temos que ter cuidado com a forma que transformamos a coluna Age_percentil em dados categórios, pois dependendo do modelo ele pode entender que essa coluna tem um peso maior só por conta da forma que eles está categorizada, de 0  a 9 por exemplo.\n",
        "\n",
        "### Desafio 2 : Verificar o impacto da mudança de categorização nos resultados"
      ]
    },
    {
      "cell_type": "code",
      "metadata": {
        "id": "1YVGN5au7Rqi"
      },
      "source": [
        "dados_limpos2 = preencher(dados)\n",
        "remover2 = dados_limpos2.query(\"WINDOW=='0-2' and ICU==1\")['PATIENT_VISIT_IDENTIFIER'].values\n",
        "dados_limpos2 = dados_limpos2.query(\"PATIENT_VISIT_IDENTIFIER not in @remover2\")\n",
        "dados_limpos2 = dados_limpos2.dropna()\n",
        "\n",
        "dados_limpos2 = dados_limpos2.groupby(\"PATIENT_VISIT_IDENTIFIER\").apply(prepare)\n",
        "\n",
        "dados_limpos2['AGE_PERCENTIL'] = dados_limpos2['AGE_PERCENTIL'].astype('category').cat.codes"
      ],
      "execution_count": null,
      "outputs": []
    },
    {
      "cell_type": "code",
      "metadata": {
        "id": "KR7ovjKK7Rqk",
        "outputId": "23e5f6d0-2559-421a-a578-60cc11d100fd"
      },
      "source": [
        "xco = dados.columns\n",
        "y2 = dados_limpos2['ICU']\n",
        "x2 = dados_limpos2[xco].drop(['ICU','WINDOW'], axis=1)\n",
        "xtrain2, xteste2, ytrain2, yteste2 = train_test_split(x, y, stratify=y)\n",
        "modelo = DummyClassifier()\n",
        "modelo.fit(xtrain2, ytrain2)\n",
        "\n",
        "yprediction = modelo.predict(xteste2)\n",
        "accuracy_score(yteste2, yprediction)"
      ],
      "execution_count": null,
      "outputs": [
        {
          "output_type": "execute_result",
          "data": {
            "text/plain": [
              "0.5340909090909091"
            ]
          },
          "metadata": {
            "tags": []
          },
          "execution_count": 11
        }
      ]
    },
    {
      "cell_type": "code",
      "metadata": {
        "id": "AYb-w9U87Rql",
        "outputId": "7f099854-d8e6-403c-d893-9b479bcc5e48"
      },
      "source": [
        "modelo = LogisticRegression(max_iter = 10000)\n",
        "modelo.fit(xtrain2, ytrain2)\n",
        "yprediction = modelo.predict(xteste2)\n",
        "accuracy_score(yteste2, yprediction)\n",
        "\n",
        "#Olha a fera ai meu"
      ],
      "execution_count": null,
      "outputs": [
        {
          "output_type": "execute_result",
          "data": {
            "text/plain": [
              "0.7386363636363636"
            ]
          },
          "metadata": {
            "tags": []
          },
          "execution_count": 12
        }
      ]
    },
    {
      "cell_type": "code",
      "metadata": {
        "id": "I-9MKxvY7Rqm",
        "outputId": "0a4795dd-656c-424f-c09d-501c00ee7a52"
      },
      "source": [
        "#Vamos estudar métricas de avaliação agora\n",
        "\n",
        "from sklearn.tree import DecisionTreeClassifier\n",
        "\n",
        "modelo_arvore = DecisionTreeClassifier()\n",
        "modelo_arvore.fit(xtrain, ytrain)\n",
        "predicao_arvore = modelo_arvore.predict(xteste)\n",
        "accuracy_score(yteste, predicao_arvore)"
      ],
      "execution_count": null,
      "outputs": [
        {
          "output_type": "execute_result",
          "data": {
            "text/plain": [
              "0.6590909090909091"
            ]
          },
          "metadata": {
            "tags": []
          },
          "execution_count": 13
        }
      ]
    },
    {
      "cell_type": "markdown",
      "metadata": {
        "id": "GkvzfAsc7Rqn"
      },
      "source": [
        "É ressaltado nesse ponto a importância de um método de classificação adequado, por exemplo, aqui nosso melhor modelo seria a regressão logística, pois ele possui uma melhor acurácia, logo, acerta mais num geral o resultado, mas o Thiago levanta a questão que poderiamos ter a informação de qual índice os modelos estão acertando mais, se é 1 ou 0, o que nossa métrica não fornece no momento.\n",
        "\n",
        "Vamos plotar os valores preditos pelos valores reais usando uma matriz de confusão."
      ]
    },
    {
      "cell_type": "code",
      "metadata": {
        "id": "9u3bX-hE7Rqn",
        "outputId": "62b31ed5-5d9f-42ba-bd0d-2c4dac052a13"
      },
      "source": [
        "from sklearn.metrics import plot_confusion_matrix\n",
        "import matplotlib.pyplot as plt\n",
        "\n",
        "plot_confusion_matrix(modelo_arvore, xteste, yteste)"
      ],
      "execution_count": null,
      "outputs": [
        {
          "output_type": "execute_result",
          "data": {
            "text/plain": [
              "<sklearn.metrics._plot.confusion_matrix.ConfusionMatrixDisplay at 0x7f3d1d159310>"
            ]
          },
          "metadata": {
            "tags": []
          },
          "execution_count": 14
        },
        {
          "output_type": "display_data",
          "data": {
            "image/png": "[encoded data removed]",
            "text/plain": [
              "<Figure size 432x288 with 2 Axes>"
            ]
          },
          "metadata": {
            "tags": [],
            "needs_background": "light"
          }
        }
      ]
    },
    {
      "cell_type": "markdown",
      "metadata": {
        "id": "fcgqF_6V7Rqp"
      },
      "source": [
        "Vemos então que o nosso modelo prevê para uma parte considerável dos pacientes que precisam de UTI que eles não precisam, assim, podendo gerar complicações para esse paciente como até mesmo o óbito, logo, se torna imprescindível a diminuição desse índice de falsos negativos."
      ]
    },
    {
      "cell_type": "code",
      "metadata": {
        "id": "UC-jh7wl7Rqy"
      },
      "source": [
        "VP = 24\n",
        "VN = 34\n",
        "FP = 13\n",
        "FN = 17"
      ],
      "execution_count": null,
      "outputs": []
    },
    {
      "cell_type": "code",
      "metadata": {
        "id": "2Esv6FJe7Rqz",
        "outputId": "b6164fa0-2c94-4b53-e76c-14cb1dfe8a7a"
      },
      "source": [
        "from sklearn.metrics import classification_report\n",
        "\n",
        "print(classification_report(yteste, predicao_arvore))"
      ],
      "execution_count": null,
      "outputs": [
        {
          "output_type": "stream",
          "text": [
            "              precision    recall  f1-score   support\n",
            "\n",
            "           0       0.67      0.72      0.69        47\n",
            "           1       0.65      0.59      0.62        41\n",
            "\n",
            "    accuracy                           0.66        88\n",
            "   macro avg       0.66      0.65      0.65        88\n",
            "weighted avg       0.66      0.66      0.66        88\n",
            "\n"
          ],
          "name": "stdout"
        }
      ]
    },
    {
      "cell_type": "markdown",
      "metadata": {
        "id": "E9-Ag77i7Rq0"
      },
      "source": [
        "Precisão é autodescritivo, é quanto eu acerto. O recall é pra qnd o falso negativo é muito pior que o falso positivo, que é o nosso caso porque o falso negativo pode retirar a vida de alguém. Segundo o Thiago \" O recall tem a capacidade de mostrar de todas as classes positivas, quantas estão corretas.\". f1 é uma média harmônica entre os 2. \n",
        "\n",
        "O recall segundo a wikipedia é o número de Verdadeiros positivos dividido pelo número de todos os resultados que deveriam ser identificados como positivo."
      ]
    },
    {
      "cell_type": "code",
      "metadata": {
        "id": "DbzZalth7Rq1",
        "outputId": "4746795b-86ab-43e9-e735-c61379f180cf"
      },
      "source": [
        "p = 1\n",
        "r = 0.1\n",
        "media_harmonica = 2*(p*r)/(p+r)\n",
        "print(media_harmonica)"
      ],
      "execution_count": null,
      "outputs": [
        {
          "output_type": "stream",
          "text": [
            "0.18181818181818182\n"
          ],
          "name": "stdout"
        }
      ]
    },
    {
      "cell_type": "markdown",
      "metadata": {
        "id": "hbhR8Xmh7Rq1"
      },
      "source": [
        "### Desafio 3 : Pesquisar sobre o f - score\n",
        "\n",
        "De forma mais geral o f-score é uma medida que é uma média harmônica entre a precisão e o recall, como já mencionado anteriormente, contudo, aplicando pesos adicionais para um dos lados mais que o outro, valorizando mais a precisão ou o recall.\n",
        "\n",
        "### Desafio 4 : Plotar a árvore de decisão criada pelo modelo"
      ]
    },
    {
      "cell_type": "code",
      "metadata": {
        "id": "oGS26-ad7Rq2",
        "outputId": "3a3a5183-ab1f-4512-9e9d-4135bda7f624"
      },
      "source": [
        "#recall\n",
        "\n",
        "VN/(FP + VN)"
      ],
      "execution_count": null,
      "outputs": [
        {
          "output_type": "execute_result",
          "data": {
            "text/plain": [
              "0.723404255319149"
            ]
          },
          "metadata": {
            "tags": []
          },
          "execution_count": 18
        }
      ]
    },
    {
      "cell_type": "code",
      "metadata": {
        "id": "vpIBqBDs7Rq2",
        "outputId": "b3e3ea7b-3ef4-48a3-8cf3-6d32e8962669"
      },
      "source": [
        "#precisao:\n",
        "\n",
        "VP/(VP + FP)"
      ],
      "execution_count": null,
      "outputs": [
        {
          "output_type": "execute_result",
          "data": {
            "text/plain": [
              "0.6486486486486487"
            ]
          },
          "metadata": {
            "tags": []
          },
          "execution_count": 19
        }
      ]
    },
    {
      "cell_type": "code",
      "metadata": {
        "id": "BwmUqkvQ7Rq2",
        "outputId": "220c1c55-b960-4b87-eca6-9c53e8b42eca"
      },
      "source": [
        "#recall\n",
        "\n",
        "VP/(VP + FN)"
      ],
      "execution_count": null,
      "outputs": [
        {
          "output_type": "execute_result",
          "data": {
            "text/plain": [
              "0.5853658536585366"
            ]
          },
          "metadata": {
            "tags": []
          },
          "execution_count": 20
        }
      ]
    },
    {
      "cell_type": "code",
      "metadata": {
        "id": "9dsS6vl27Rq5",
        "outputId": "0ae24d55-9731-42f1-8b9c-7a48a9a6ea79"
      },
      "source": [
        "from sklearn import tree\n",
        "\n",
        "#Desafio 4:\n",
        "\n",
        "text_representation = tree.export_text(modelo_arvore)\n",
        "print(text_representation)"
      ],
      "execution_count": null,
      "outputs": [
        {
          "output_type": "stream",
          "text": [
            "|--- feature_2 <= 6.50\n",
            "|   |--- feature_129 <= -0.57\n",
            "|   |   |--- feature_56 <= -0.86\n",
            "|   |   |   |--- feature_196 <= -0.29\n",
            "|   |   |   |   |--- feature_202 <= -0.86\n",
            "|   |   |   |   |   |--- class: 1\n",
            "|   |   |   |   |--- feature_202 >  -0.86\n",
            "|   |   |   |   |   |--- feature_70 <= -0.82\n",
            "|   |   |   |   |   |   |--- feature_181 <= -0.77\n",
            "|   |   |   |   |   |   |   |--- feature_223 <= -0.72\n",
            "|   |   |   |   |   |   |   |   |--- feature_145 <= 0.12\n",
            "|   |   |   |   |   |   |   |   |   |--- feature_130 <= -1.00\n",
            "|   |   |   |   |   |   |   |   |   |   |--- feature_56 <= -0.94\n",
            "|   |   |   |   |   |   |   |   |   |   |   |--- class: 1\n",
            "|   |   |   |   |   |   |   |   |   |   |--- feature_56 >  -0.94\n",
            "|   |   |   |   |   |   |   |   |   |   |   |--- class: 0\n",
            "|   |   |   |   |   |   |   |   |   |--- feature_130 >  -1.00\n",
            "|   |   |   |   |   |   |   |   |   |   |--- feature_209 <= 0.77\n",
            "|   |   |   |   |   |   |   |   |   |   |   |--- truncated branch of depth 3\n",
            "|   |   |   |   |   |   |   |   |   |   |--- feature_209 >  0.77\n",
            "|   |   |   |   |   |   |   |   |   |   |   |--- truncated branch of depth 2\n",
            "|   |   |   |   |   |   |   |   |--- feature_145 >  0.12\n",
            "|   |   |   |   |   |   |   |   |   |--- class: 1\n",
            "|   |   |   |   |   |   |   |--- feature_223 >  -0.72\n",
            "|   |   |   |   |   |   |   |   |--- feature_96 <= -0.82\n",
            "|   |   |   |   |   |   |   |   |   |--- class: 0\n",
            "|   |   |   |   |   |   |   |   |--- feature_96 >  -0.82\n",
            "|   |   |   |   |   |   |   |   |   |--- class: 1\n",
            "|   |   |   |   |   |   |--- feature_181 >  -0.77\n",
            "|   |   |   |   |   |   |   |--- feature_56 <= -0.93\n",
            "|   |   |   |   |   |   |   |   |--- class: 0\n",
            "|   |   |   |   |   |   |   |--- feature_56 >  -0.93\n",
            "|   |   |   |   |   |   |   |   |--- feature_38 <= -0.98\n",
            "|   |   |   |   |   |   |   |   |   |--- class: 0\n",
            "|   |   |   |   |   |   |   |   |--- feature_38 >  -0.98\n",
            "|   |   |   |   |   |   |   |   |   |--- class: 1\n",
            "|   |   |   |   |   |--- feature_70 >  -0.82\n",
            "|   |   |   |   |   |   |--- feature_174 <= -0.99\n",
            "|   |   |   |   |   |   |   |--- feature_179 <= -0.83\n",
            "|   |   |   |   |   |   |   |   |--- class: 1\n",
            "|   |   |   |   |   |   |   |--- feature_179 >  -0.83\n",
            "|   |   |   |   |   |   |   |   |--- class: 0\n",
            "|   |   |   |   |   |   |--- feature_174 >  -0.99\n",
            "|   |   |   |   |   |   |   |--- class: 0\n",
            "|   |   |   |--- feature_196 >  -0.29\n",
            "|   |   |   |   |--- feature_128 <= -0.89\n",
            "|   |   |   |   |   |--- class: 1\n",
            "|   |   |   |   |--- feature_128 >  -0.89\n",
            "|   |   |   |   |   |--- feature_180 <= -0.84\n",
            "|   |   |   |   |   |   |--- class: 0\n",
            "|   |   |   |   |   |--- feature_180 >  -0.84\n",
            "|   |   |   |   |   |   |--- class: 1\n",
            "|   |   |--- feature_56 >  -0.86\n",
            "|   |   |   |--- feature_221 <= -0.93\n",
            "|   |   |   |   |--- feature_176 <= -0.95\n",
            "|   |   |   |   |   |--- class: 1\n",
            "|   |   |   |   |--- feature_176 >  -0.95\n",
            "|   |   |   |   |   |--- class: 0\n",
            "|   |   |   |--- feature_221 >  -0.93\n",
            "|   |   |   |   |--- class: 0\n",
            "|   |--- feature_129 >  -0.57\n",
            "|   |   |--- feature_100 <= -0.90\n",
            "|   |   |   |--- feature_205 <= 0.09\n",
            "|   |   |   |   |--- class: 1\n",
            "|   |   |   |--- feature_205 >  0.09\n",
            "|   |   |   |   |--- class: 0\n",
            "|   |   |--- feature_100 >  -0.90\n",
            "|   |   |   |--- class: 1\n",
            "|--- feature_2 >  6.50\n",
            "|   |--- feature_199 <= 0.15\n",
            "|   |   |--- feature_61 <= -0.87\n",
            "|   |   |   |--- class: 0\n",
            "|   |   |--- feature_61 >  -0.87\n",
            "|   |   |   |--- feature_186 <= -0.72\n",
            "|   |   |   |   |--- feature_0 <= 41.00\n",
            "|   |   |   |   |   |--- class: 0\n",
            "|   |   |   |   |--- feature_0 >  41.00\n",
            "|   |   |   |   |   |--- feature_63 <= -0.99\n",
            "|   |   |   |   |   |   |--- feature_101 <= -0.84\n",
            "|   |   |   |   |   |   |   |--- class: 0\n",
            "|   |   |   |   |   |   |--- feature_101 >  -0.84\n",
            "|   |   |   |   |   |   |   |--- class: 1\n",
            "|   |   |   |   |   |--- feature_63 >  -0.99\n",
            "|   |   |   |   |   |   |--- class: 1\n",
            "|   |   |   |--- feature_186 >  -0.72\n",
            "|   |   |   |   |--- feature_143 <= -0.65\n",
            "|   |   |   |   |   |--- class: 1\n",
            "|   |   |   |   |--- feature_143 >  -0.65\n",
            "|   |   |   |   |   |--- feature_189 <= -0.96\n",
            "|   |   |   |   |   |   |--- class: 0\n",
            "|   |   |   |   |   |--- feature_189 >  -0.96\n",
            "|   |   |   |   |   |   |--- class: 1\n",
            "|   |--- feature_199 >  0.15\n",
            "|   |   |--- feature_208 <= -0.32\n",
            "|   |   |   |--- feature_106 <= -0.89\n",
            "|   |   |   |   |--- class: 1\n",
            "|   |   |   |--- feature_106 >  -0.89\n",
            "|   |   |   |   |--- class: 0\n",
            "|   |   |--- feature_208 >  -0.32\n",
            "|   |   |   |--- feature_105 <= -0.65\n",
            "|   |   |   |   |--- class: 1\n",
            "|   |   |   |--- feature_105 >  -0.65\n",
            "|   |   |   |   |--- class: 0\n",
            "\n"
          ],
          "name": "stdout"
        }
      ]
    },
    {
      "cell_type": "code",
      "metadata": {
        "id": "WrgPl7AJ7Rq6",
        "outputId": "2336350c-af52-44d7-b71a-9466cce224b3"
      },
      "source": [
        "fig = plt.figure(figsize=(50,25))\n",
        "_ = tree.plot_tree(modelo_arvore,\n",
        "                   filled=True)\n"
      ],
      "execution_count": null,
      "outputs": [
        {
          "output_type": "display_data",
          "data": {
            "image/png": "[encoded data removed]",
            "text/plain": [
              "<Figure size 3600x1800 with 1 Axes>"
            ]
          },
          "metadata": {
            "tags": [],
            "needs_background": "light"
          }
        }
      ]
    },
    {
      "cell_type": "markdown",
      "metadata": {
        "id": "jQ7Q3vn97Rq7"
      },
      "source": [
        "Thiago ressalta que no nosso caso precisamos de uma métrica que separe muito bem as pessoas que precisam de UTI das que não precisam pois se focassemos só no recall do Verdadeiro Positivo, poderíamos utilizar um modelo que fala que todo mundo precisa ir para a UTI, o que nos geraria um recall de 100 % em verdadeiro positivo mas iria lotar a UTI, o que claramente geraria um colapso no sistema de saúde, então temos que ter um balanceamente ai nessa parada. Ele sugere a utilização de outra métrica chamada AUC, que vem de área sob a curva. Quanto mais próximo de 1 melhor."
      ]
    },
    {
      "cell_type": "code",
      "metadata": {
        "id": "39gF7YRP7Rq7",
        "outputId": "3c3f3ba8-cf3b-498a-839c-18e12d8bb8c0"
      },
      "source": [
        "from sklearn.metrics import roc_auc_score\n",
        "\n",
        "prob_arvore = modelo_arvore.predict_proba(xteste)\n",
        "roc_auc_score(yteste, prob_arvore[:, 1])\n",
        "\n",
        "#Métrica que mede a capacidade do meu modelo separar as classes entre 0 e 1"
      ],
      "execution_count": null,
      "outputs": [
        {
          "output_type": "execute_result",
          "data": {
            "text/plain": [
              "0.6543850544888428"
            ]
          },
          "metadata": {
            "tags": []
          },
          "execution_count": 23
        }
      ]
    },
    {
      "cell_type": "code",
      "metadata": {
        "id": "NrBbdmPq7Rq7"
      },
      "source": [
        "#Função para rodar os modelos\n",
        "\n",
        "def roda_modelo(modelo, dados):\n",
        "    xco = dados.columns\n",
        "    y = dados['ICU']\n",
        "    x = dados[xco].drop(['ICU','WINDOW'], axis=1)\n",
        "    \n",
        "    xtrain, xteste, ytrain, yteste = train_test_split(x, y, stratify=y, test_size=0.15)\n",
        "    \n",
        "    modelo.fit(xtrain, ytrain)\n",
        "    predicao = modelo.predict(xteste)\n",
        "    prob_predic = modelo.predict_proba(xteste)\n",
        "    \n",
        "    auc = roc_auc_score(yteste, prob_predic[:, 1])\n",
        "    print(f'AUC {auc}')\n",
        "    print('\\nClassification Report')\n",
        "    print(classification_report(yteste, predicao))\n"
      ],
      "execution_count": null,
      "outputs": []
    },
    {
      "cell_type": "code",
      "metadata": {
        "id": "QmcfKYRi7Rq9",
        "outputId": "6146f30b-5dc3-4bc9-f717-0d0b507ebd69"
      },
      "source": [
        "roda_modelo(modelo_arvore, dados_limpos)"
      ],
      "execution_count": null,
      "outputs": [
        {
          "output_type": "stream",
          "text": [
            "AUC 0.7414285714285713\n",
            "\n",
            "Classification Report\n",
            "              precision    recall  f1-score   support\n",
            "\n",
            "           0       0.82      0.64      0.72        28\n",
            "           1       0.68      0.84      0.75        25\n",
            "\n",
            "    accuracy                           0.74        53\n",
            "   macro avg       0.75      0.74      0.74        53\n",
            "weighted avg       0.75      0.74      0.73        53\n",
            "\n"
          ],
          "name": "stdout"
        }
      ]
    },
    {
      "cell_type": "code",
      "metadata": {
        "id": "c078LFjz7Rq9",
        "outputId": "62905c65-a007-4dea-e7e7-7b7052f5a0ca"
      },
      "source": [
        "roda_modelo(modelo, dados_limpos)"
      ],
      "execution_count": null,
      "outputs": [
        {
          "output_type": "stream",
          "text": [
            "AUC 0.83\n",
            "\n",
            "Classification Report\n",
            "              precision    recall  f1-score   support\n",
            "\n",
            "           0       0.72      0.93      0.81        28\n",
            "           1       0.88      0.60      0.71        25\n",
            "\n",
            "    accuracy                           0.77        53\n",
            "   macro avg       0.80      0.76      0.76        53\n",
            "weighted avg       0.80      0.77      0.77        53\n",
            "\n"
          ],
          "name": "stdout"
        }
      ]
    },
    {
      "cell_type": "markdown",
      "metadata": {
        "id": "iZt35wLB7Rq-"
      },
      "source": [
        "### Desafio 05: Criar uma função que gere a curva ROC\n",
        "\n",
        "### Desafio 06: Pensar como reduzir o efeito da aleatoriedade nas previsões:\n",
        "\n",
        "Podemos testar o modelo nos nossos dados testes, contudo, divididos em lotes, de maneira semelhante quando usamos o cross validation no módulo 3 em conjunto com o prophet. Fora isso, podemos fornecer uma seed em comum a todos os modelos para que os testes sejam feitos, contudo, não sei se essa é a solução mais eficaz."
      ]
    },
    {
      "cell_type": "code",
      "metadata": {
        "id": "7VY_VUhp7Rq_"
      },
      "source": [
        "#Desafio 5:\n",
        "\n",
        "import sklearn.metrics as metrics\n",
        "    \n",
        "def curvaROC(modelo,dados):\n",
        "    xco = dados.columns\n",
        "    y = dados['ICU']\n",
        "    x = dados[xco].drop(['ICU','WINDOW'], axis=1)\n",
        "    \n",
        "    xtrain2, xteste2, ytrain2, yteste2 = train_test_split(x, y, stratify=y, test_size=0.20)\n",
        "    \n",
        "    modelo.fit(xtrain2, ytrain2)\n",
        "\n",
        "    probs = modelo.predict_proba(xteste2)\n",
        "    preds = probs[:,1]\n",
        "    fpr, tpr, threshold = metrics.roc_curve(yteste2, preds)\n",
        "    roc_auc = metrics.auc(fpr, tpr)\n",
        "    plt.title('Receiver Operating Characteristic')\n",
        "    plt.plot(fpr, tpr, 'b', label = 'AUC = %0.2f' % roc_auc)\n",
        "    plt.legend(loc = 'lower right')\n",
        "    plt.plot([0, 1], [0, 1],'r--')\n",
        "    plt.xlim([0, 1])\n",
        "    plt.ylim([0, 1])\n",
        "    plt.ylabel('True Positive Rate')\n",
        "    plt.xlabel('False Positive Rate')\n",
        "    plt.show()"
      ],
      "execution_count": null,
      "outputs": []
    },
    {
      "cell_type": "code",
      "metadata": {
        "id": "xFcnhtae7Rq_",
        "outputId": "a044cb09-b611-4b8d-f884-86481075979e"
      },
      "source": [
        "curvaROC(modelo, dados_limpos)"
      ],
      "execution_count": null,
      "outputs": [
        {
          "output_type": "display_data",
          "data": {
            "image/png": "[encoded data removed]",
            "text/plain": [
              "<Figure size 432x288 with 1 Axes>"
            ]
          },
          "metadata": {
            "tags": [],
            "needs_background": "light"
          }
        }
      ]
    },
    {
      "cell_type": "code",
      "metadata": {
        "id": "52S4aDxy7RrA",
        "outputId": "2e1c8c65-2355-4324-b1cf-d12e6fa78277"
      },
      "source": [
        "curvaROC(modelo_arvore, dados_limpos)"
      ],
      "execution_count": null,
      "outputs": [
        {
          "output_type": "display_data",
          "data": {
            "image/png": "[encoded data removed]",
            "text/plain": [
              "<Figure size 432x288 with 1 Axes>"
            ]
          },
          "metadata": {
            "tags": [],
            "needs_background": "light"
          }
        }
      ]
    },
    {
      "cell_type": "markdown",
      "metadata": {
        "id": "hNQn34JQ7RrA"
      },
      "source": [
        "### Aula 3"
      ]
    },
    {
      "cell_type": "code",
      "metadata": {
        "id": "85HFHfq07RrB"
      },
      "source": [
        "#Vamos criar uma função para rodar o mesmo modelo n vezes e fazer uma média do parâmetro auc de todas esses modelos\n",
        "#que rodaram a fim de diminuir o efeito da aleatoriedade!!!\n",
        "\n",
        "def roda_n_modelos(modelo, dados, n):\n",
        "    xco = dados.columns\n",
        "    y = dados['ICU']\n",
        "    x = dados[xco].drop(['ICU','WINDOW'], axis=1)\n",
        "    \n",
        "    auc_lista = []\n",
        "    for _ in range(n):\n",
        "        xtrain, xteste, ytrain, yteste = train_test_split(x, y, stratify=y, test_size=0.15)\n",
        "    \n",
        "        modelo.fit(xtrain, ytrain)\n",
        "        prob_predic = modelo.predict_proba(xteste)\n",
        "    \n",
        "        auc = roc_auc_score(yteste, prob_predic[:, 1])\n",
        "        auc_lista.append(auc)\n",
        "    \n",
        "    auc_medio = np.mean(auc_lista)\n",
        "    auc_std = np.std(auc_lista)\n",
        "    print(f'AUC {auc_medio}')\n",
        "    print(f'Intervalo: {auc_medio - 2 * auc_std} ~ {auc_medio + 2 * auc_std}')\n",
        "    \n",
        "#Ao invés de olharmos para um ponto agora estamos olhando para um intervalo cujo há 95% de confiança do resultado\n",
        "#estar contido ali também, utilizando a média e 2 vezes o desvio padrão para mais e para menos, show =]\n"
      ],
      "execution_count": null,
      "outputs": []
    },
    {
      "cell_type": "code",
      "metadata": {
        "id": "IVk3w2OR7RrB",
        "outputId": "3ae3f183-d1c7-472b-ce2c-4c771488c671"
      },
      "source": [
        "roda_n_modelos(modelo_arvore, dados_limpos, 50)"
      ],
      "execution_count": null,
      "outputs": [
        {
          "output_type": "stream",
          "text": [
            "AUC 0.6303857142857142\n",
            "Intervalo: 0.5002021045458627 ~ 0.7605693240255658\n"
          ],
          "name": "stdout"
        }
      ]
    },
    {
      "cell_type": "code",
      "metadata": {
        "id": "7xZW4Foj7RrC",
        "outputId": "54b169a8-cbeb-4509-fccc-66e3ecbb7f36"
      },
      "source": [
        "roda_n_modelos(modelo, dados_limpos, 50)"
      ],
      "execution_count": null,
      "outputs": [
        {
          "output_type": "stream",
          "text": [
            "AUC 0.7613714285714286\n",
            "Intervalo: 0.6307253605018506 ~ 0.8920174966410066\n"
          ],
          "name": "stdout"
        }
      ]
    },
    {
      "cell_type": "code",
      "metadata": {
        "id": "KD1LF_mG7RrD",
        "outputId": "0a6509f7-df23-416c-9d76-808f7ad6339e"
      },
      "source": [
        "roda_n_modelos(modelo, dados_limpos, 50)"
      ],
      "execution_count": null,
      "outputs": [
        {
          "output_type": "stream",
          "text": [
            "AUC 0.7724857142857142\n",
            "Intervalo: 0.6514159115153407 ~ 0.8935555170560877\n"
          ],
          "name": "stdout"
        }
      ]
    },
    {
      "cell_type": "markdown",
      "metadata": {
        "id": "iJzDNCDb7RrD"
      },
      "source": [
        "### Desafio 07: Estudar a documentação do scikit learning e testar outros modelos"
      ]
    },
    {
      "cell_type": "code",
      "metadata": {
        "id": "gesSvfSE7RrE"
      },
      "source": [
        "from sklearn.linear_model import SGDClassifier\n",
        "from sklearn.calibration import CalibratedClassifierCV\n",
        "\n",
        "lr = SGDClassifier(loss='hinge',class_weight='balanced')\n",
        "\n",
        "def roda_n_modelos_sgd(modelo, dados, n):\n",
        "    xco = dados.columns\n",
        "    y = dados['ICU']\n",
        "    x = dados[xco].drop(['ICU','WINDOW'], axis=1)\n",
        "    \n",
        "    auc_lista = []\n",
        "    for _ in range(n):\n",
        "        xtrain, xteste, ytrain, yteste = train_test_split(x, y, stratify=y, test_size=0.15)\n",
        "    \n",
        "        modelo.fit(xtrain, ytrain)\n",
        "        calibrator = CalibratedClassifierCV(modelo, cv='prefit')\n",
        "        model=calibrator.fit(xtrain, ytrain)\n",
        "        prob_predic = model.predict_proba(xteste)\n",
        "    \n",
        "        auc = roc_auc_score(yteste, prob_predic[:, 1])\n",
        "        auc_lista.append(auc)\n",
        "    \n",
        "    auc_medio = np.mean(auc_lista)\n",
        "    auc_std = np.std(auc_lista)\n",
        "    print(f'AUC {auc_medio}')\n",
        "    print(f'Intervalo: {auc_medio - 2 * auc_std} ~ {auc_medio + 2 * auc_std}')"
      ],
      "execution_count": null,
      "outputs": []
    },
    {
      "cell_type": "code",
      "metadata": {
        "id": "aIQf5ugt7RrH",
        "outputId": "6b1415cf-5f80-4632-b85a-fa7ee7b64536"
      },
      "source": [
        "roda_n_modelos_sgd(lr, dados_limpos, 50)"
      ],
      "execution_count": null,
      "outputs": [
        {
          "output_type": "stream",
          "text": [
            "AUC 0.5832571428571429\n",
            "Intervalo: 0.3520099193768448 ~ 0.814504366337441\n"
          ],
          "name": "stdout"
        }
      ]
    },
    {
      "cell_type": "markdown",
      "metadata": {
        "id": "TR7rahEu7RrH"
      },
      "source": [
        "Utilizando o guia de qual algoritmo usar para treino indicado no imersão dados Alura eu primeiramente fui indicado ao SGD Classifier, que são algoritmos de classificação linear, como o próprio linear regressor que utilizamos antes, aliados ao método de treino de SGD, que consiste em um método aproximação estocástica de \"Gradient descent\" ou algo como regressão gradiente, que seria um método que acha um mínimo local na função e da passos na direção oposta do gradiente, essa linguagem se refere à cálculo diferencial e integral. Esse método é recomendado para problemas com muitas dimensões ou muitos dados e em nosso caso não teve um bom desempenho. \n",
        "\n",
        "Eu tive que usar esse CalibratedClassifierCV para retirar os parâmetros que estamos usando como classificação, pelo o que li ele é um algoritmo para fazer Cross validation mas não compreendi porque tenho que o usar para obter o predict_proba."
      ]
    },
    {
      "cell_type": "markdown",
      "metadata": {
        "id": "B3yUREFJ7RrI"
      },
      "source": [
        "### Aula 4:"
      ]
    },
    {
      "cell_type": "markdown",
      "metadata": {
        "id": "bs4mnQLQ7RrK"
      },
      "source": [
        "Trabalharemos agora com o cross validation, que é uma técnica para driblar a simples divisão em teste e treino que fizemos anteriormente, agora nós dividiremos nossos dados em diversas partes e usaremos cada uma delas para teste ao passo que todas menos a escolhida para teste serão usadas para treino, logo, estaremos realizando esse processo diversas vezes, contornando também o problema da aleatoriedade assim como também estaremos utilizando o conjunto total dos dados para treino."
      ]
    },
    {
      "cell_type": "code",
      "metadata": {
        "id": "yrqNqYwp7RrK",
        "outputId": "45a49132-a859-4283-e742-7c7a69c41eac"
      },
      "source": [
        "from sklearn.model_selection import cross_validate\n",
        "from sklearn.model_selection import StratifiedKFold\n",
        "\n",
        "#Estamos utilizando o StratifiedKFold para embaralhar nossos tados, de maneira a não inserir nenhum vies no\n",
        "#treinamento. Esse método ira separa em proporções iguais os pacientes q foram pra UTI e que não foram entre \n",
        "#as divisões.\n",
        "\n",
        "cv = StratifiedKFold(n_splits = 5, shuffle = True)\n",
        "\n",
        "cross_validate(modelo, x, y, cv=cv)"
      ],
      "execution_count": null,
      "outputs": [
        {
          "output_type": "execute_result",
          "data": {
            "text/plain": [
              "{'fit_time': array([0.40728116, 0.12585378, 0.20677447, 0.42343187, 0.10399818]),\n",
              " 'score_time': array([0.00310802, 0.00342703, 0.00308919, 0.00320601, 0.00303912]),\n",
              " 'test_score': array([0.64788732, 0.66197183, 0.72857143, 0.8       , 0.71428571])}"
            ]
          },
          "metadata": {
            "tags": []
          },
          "execution_count": 36
        }
      ]
    },
    {
      "cell_type": "markdown",
      "metadata": {
        "id": "vo-WCB5u7RrL"
      },
      "source": [
        "### Desafio 8 : Testar outros splitter classes e observar as diferenças."
      ]
    },
    {
      "cell_type": "code",
      "metadata": {
        "id": "OLsL65pP7RrM",
        "outputId": "0a7ffcd5-0bc1-4a0f-be8f-ec237511c090"
      },
      "source": [
        "from sklearn.model_selection import RepeatedStratifiedKFold\n",
        "\n",
        "# Esse agora faz oq estava sendo feito antes, não está tendo shuffle mais, contudo, está repetindo várias vezes\n",
        "#essa divisão repetindo os dados, para termos menos efeitos aleatórios.\n",
        "cv = RepeatedStratifiedKFold(n_splits = 5, n_repeats = 10)\n",
        "\n",
        "cross_validate(modelo, x, y, cv=cv)"
      ],
      "execution_count": null,
      "outputs": [
        {
          "output_type": "execute_result",
          "data": {
            "text/plain": [
              "{'fit_time': array([0.44638085, 0.16249156, 0.40987682, 0.34397125, 0.41512871,\n",
              "        0.33172798, 0.37104392, 0.42285705, 0.34524751, 0.42670202,\n",
              "        0.14925265, 0.46568799, 0.27220964, 0.45423055, 0.36937213,\n",
              "        0.37614107, 0.13177633, 0.32451677, 0.44010139, 0.1196382 ,\n",
              "        0.37670112, 0.36807656, 0.38187337, 0.40587878, 0.13223171,\n",
              "        0.11753249, 0.37900829, 0.13043261, 0.39949489, 0.40749288,\n",
              "        0.37807775, 0.33919835, 0.38538933, 0.38959002, 0.14519858,\n",
              "        0.29929161, 0.41424775, 0.50474334, 0.19372272, 0.35567927,\n",
              "        0.37026572, 0.33915329, 0.45629835, 0.20236778, 0.13331532,\n",
              "        0.28881431, 0.39632511, 0.39177656, 0.45271063, 0.12573385]),\n",
              " 'score_time': array([0.00307441, 0.00302887, 0.00421429, 0.00308776, 0.00316572,\n",
              "        0.00322509, 0.00301671, 0.00307775, 0.00321078, 0.00311852,\n",
              "        0.00344944, 0.00303745, 0.00305581, 0.0031085 , 0.00306344,\n",
              "        0.00305223, 0.00306368, 0.00327301, 0.00319409, 0.0030067 ,\n",
              "        0.00338292, 0.00304556, 0.00354552, 0.00312281, 0.00316525,\n",
              "        0.00305486, 0.00301528, 0.00307274, 0.00321221, 0.00308561,\n",
              "        0.00303507, 0.00313592, 0.00306439, 0.00308347, 0.00333667,\n",
              "        0.00314069, 0.00352192, 0.00325942, 0.0032928 , 0.00339389,\n",
              "        0.0031755 , 0.00324106, 0.0031786 , 0.00331783, 0.00323176,\n",
              "        0.00312996, 0.00312138, 0.00324559, 0.00326538, 0.00309491]),\n",
              " 'test_score': array([0.63380282, 0.6056338 , 0.74285714, 0.75714286, 0.74285714,\n",
              "        0.81690141, 0.71830986, 0.6       , 0.7       , 0.75714286,\n",
              "        0.73239437, 0.74647887, 0.74285714, 0.65714286, 0.74285714,\n",
              "        0.81690141, 0.66197183, 0.75714286, 0.72857143, 0.61428571,\n",
              "        0.70422535, 0.63380282, 0.67142857, 0.71428571, 0.7       ,\n",
              "        0.67605634, 0.71830986, 0.71428571, 0.71428571, 0.74285714,\n",
              "        0.71830986, 0.71830986, 0.78571429, 0.65714286, 0.8       ,\n",
              "        0.69014085, 0.73239437, 0.75714286, 0.65714286, 0.71428571,\n",
              "        0.70422535, 0.67605634, 0.77142857, 0.71428571, 0.72857143,\n",
              "        0.73239437, 0.76056338, 0.61428571, 0.78571429, 0.67142857])}"
            ]
          },
          "metadata": {
            "tags": []
          },
          "execution_count": 37
        }
      ]
    },
    {
      "cell_type": "code",
      "metadata": {
        "id": "4rkmgy8l7RrN"
      },
      "source": [
        "def roda_modelo_cv(modelo, dados, n_splits, n_repeats):\n",
        "    \n",
        "    #Adicionando uma random seed agora e embaralhando os dados\n",
        "    np.random.seed(1231234)\n",
        "    dados = dados.sample(frac=1).reset_index(drop=True)\n",
        "    xco = dados.columns\n",
        "    y = dados['ICU']\n",
        "    x = dados[xco].drop(['ICU','WINDOW'], axis=1)\n",
        "    \n",
        "    cv = RepeatedStratifiedKFold(n_splits = n_splits, n_repeats = n_repeats)\n",
        "\n",
        "    resultados = cross_validate(modelo, x, y, cv=cv, scoring = 'roc_auc', return_train_score = True)\n",
        "    \n",
        "    \n",
        "    auc_medio = np.mean(resultados['test_score'])\n",
        "    auc_medio_treino = np.mean(resultados['train_score'])\n",
        "\n",
        "    auc_std = np.std(resultados['test_score'])\n",
        "    \n",
        "    print(f'AUC Médio: {auc_medio} e AUC Médio Treino: {auc_medio_treino}')\n",
        "\n",
        "    print(f'Intervalo do AUC de treino: {auc_medio - 2 * auc_std} ~ {auc_medio + 2 * auc_std}')\n",
        "    \n",
        "    return auc_medio, auc_medio_treino"
      ],
      "execution_count": null,
      "outputs": []
    },
    {
      "cell_type": "code",
      "metadata": {
        "id": "tAIv25kd7RrN",
        "outputId": "3cc92f32-3c96-4abd-dc59-676105642328"
      },
      "source": [
        "roda_modelo_cv(modelo, dados_limpos, 5, 10)"
      ],
      "execution_count": null,
      "outputs": [
        {
          "output_type": "stream",
          "text": [
            "AUC Médio: 0.7573912938057674\n",
            "AUC Médio Treino: 0.8652358997520829\n",
            "Intervalo: 0.6364178193603159 ~ 0.8783647682512189\n"
          ],
          "name": "stdout"
        },
        {
          "output_type": "execute_result",
          "data": {
            "text/plain": [
              "(0.7573912938057674, 0.8652358997520829)"
            ]
          },
          "metadata": {
            "tags": []
          },
          "execution_count": 39
        }
      ]
    },
    {
      "cell_type": "code",
      "metadata": {
        "id": "XkLETD_c7RrP",
        "outputId": "dbf4d6d9-2818-4a93-9742-df0c406e238a"
      },
      "source": [
        "roda_n_modelos(modelo, dados_limpos, 50)"
      ],
      "execution_count": null,
      "outputs": [
        {
          "output_type": "stream",
          "text": [
            "AUC 0.7602571428571429\n",
            "Intervalo: 0.638965199554201 ~ 0.8815490861600848\n"
          ],
          "name": "stdout"
        }
      ]
    },
    {
      "cell_type": "code",
      "metadata": {
        "id": "VtLKWDFB7RrP",
        "outputId": "7d711083-89b8-4509-e958-d590528fc1f2"
      },
      "source": [
        "roda_modelo_cv(modelo_arvore, dados_limpos, 5, 10)"
      ],
      "execution_count": null,
      "outputs": [
        {
          "output_type": "stream",
          "text": [
            "AUC Médio: 0.6279279683391525\n",
            "AUC Médio Treino: 1.0\n",
            "Intervalo: 0.4988394445682657 ~ 0.7570164921100394\n"
          ],
          "name": "stdout"
        },
        {
          "output_type": "execute_result",
          "data": {
            "text/plain": [
              "(0.6279279683391525, 1.0)"
            ]
          },
          "metadata": {
            "tags": []
          },
          "execution_count": 41
        }
      ]
    },
    {
      "cell_type": "code",
      "metadata": {
        "id": "qCIYGCNU7RrQ",
        "outputId": "19ab533f-72dc-4460-dac9-38b187ee0f2f"
      },
      "source": [
        "roda_n_modelos(modelo_arvore, dados_limpos, 50)"
      ],
      "execution_count": null,
      "outputs": [
        {
          "output_type": "stream",
          "text": [
            "AUC 0.6316571428571429\n",
            "Intervalo: 0.5041688672857663 ~ 0.7591454184285196\n"
          ],
          "name": "stdout"
        }
      ]
    },
    {
      "cell_type": "code",
      "metadata": {
        "id": "KTFeSp4w7RrQ",
        "outputId": "93ccb5ac-80fa-48aa-d551-ae3974b8c034"
      },
      "source": [
        "#Desafio 8:\n",
        "\n",
        "from sklearn.model_selection import ShuffleSplit\n",
        "\n",
        "\n",
        "cv = ShuffleSplit(n_splits=5, test_size=.25)\n",
        "\n",
        "resultados = cross_validate(modelo, x, y, cv=cv, scoring = 'roc_auc')\n",
        "    \n",
        "    \n",
        "auc_medio = np.mean(resultados['test_score'])\n",
        "auc_std = np.std(resultados['test_score'])\n",
        "    \n",
        "print(f'AUC Médio {auc_medio}')\n",
        "print(f'Intervalo: {auc_medio - 2 * auc_std} ~ {auc_medio + 2 * auc_std}')"
      ],
      "execution_count": null,
      "outputs": [
        {
          "output_type": "stream",
          "text": [
            "AUC Médio 0.7666297690621816\n",
            "Intervalo: 0.7041081259641202 ~ 0.829151412160243\n"
          ],
          "name": "stdout"
        }
      ]
    },
    {
      "cell_type": "code",
      "metadata": {
        "id": "NsejIe1g7RrR",
        "outputId": "a1da8783-ba96-4cd1-9fa0-b3dba806a51d"
      },
      "source": [
        "cv = RepeatedStratifiedKFold(n_splits = 5, n_repeats = 10)\n",
        "\n",
        "resultados = cross_validate(modelo, x, y, cv=cv, scoring = 'roc_auc')\n",
        "    \n",
        "    \n",
        "auc_medio = np.mean(resultados['test_score'])\n",
        "auc_std = np.std(resultados['test_score'])\n",
        "    \n",
        "print(f'AUC Médio {auc_medio}')\n",
        "print(f'Intervalo: {auc_medio - 2 * auc_std} ~ {auc_medio + 2 * auc_std}')"
      ],
      "execution_count": null,
      "outputs": [
        {
          "output_type": "stream",
          "text": [
            "AUC Médio 0.7645845995517049\n",
            "Intervalo: 0.6615112841055371 ~ 0.8676579149978727\n"
          ],
          "name": "stdout"
        }
      ]
    },
    {
      "cell_type": "markdown",
      "metadata": {
        "id": "86FRrOq-7RrS"
      },
      "source": [
        "Podemos ver que somente dar shuffle com o ShuffleSplit nos dados gera um intervalo de confiança maior que o gerado ao usarmos o RepeatedStratifiedKFold para repetir o teste diversas vezes, ou seja, gera um resultado pior. "
      ]
    },
    {
      "cell_type": "markdown",
      "metadata": {
        "id": "nJthbSCo7RrS"
      },
      "source": [
        "### Aula 5"
      ]
    },
    {
      "cell_type": "code",
      "metadata": {
        "id": "c0akHOeE7RrS",
        "outputId": "690c568e-99a8-4fc4-d698-f29c39b89392"
      },
      "source": [
        "#Vamos mudar alguns parâmetros para tentar melhorar os modelos:\n",
        "\n",
        "#Começar mudando o max_depth do decisiontree:\n",
        "\n",
        "modelo_arvore = DecisionTreeClassifier(max_depth=3)\n",
        "roda_modelo_cv(modelo_arvore, dados_limpos, 5, 10)"
      ],
      "execution_count": null,
      "outputs": [
        {
          "output_type": "stream",
          "text": [
            "AUC Médio: 0.6643847795163584\n",
            "AUC Médio Treino: 0.8243714304989842\n",
            "Intervalo: 0.5408496038380549 ~ 0.787919955194662\n"
          ],
          "name": "stdout"
        },
        {
          "output_type": "execute_result",
          "data": {
            "text/plain": [
              "(0.6643847795163584, 0.8243714304989842)"
            ]
          },
          "metadata": {
            "tags": []
          },
          "execution_count": 45
        }
      ]
    },
    {
      "cell_type": "markdown",
      "metadata": {
        "id": "SEGnKilg7RrT"
      },
      "source": [
        "Vemos que aumentando o max depth chega um ponto q o auc médio para de aumentar e começa a diminuir, vamos plotar o auc dos dados de treino agora para ter uma ideia do que está acontecendo."
      ]
    },
    {
      "cell_type": "code",
      "metadata": {
        "id": "WF01o9DB7RrU",
        "outputId": "f2b06362-e5fd-43fb-8281-f558afe889d3"
      },
      "source": [
        "teste_l = []\n",
        "treino_l = []\n",
        "\n",
        "for i in range(1,10):\n",
        "    modelo_arvore = DecisionTreeClassifier(max_depth=i)\n",
        "    teste, treino = roda_modelo_cv(modelo_arvore, dados_limpos, 5, 10)\n",
        "    teste_l.append(teste)\n",
        "    treino_l.append(treino)"
      ],
      "execution_count": null,
      "outputs": [
        {
          "output_type": "stream",
          "text": [
            "AUC Médio: 0.5755830262080263\n",
            "AUC Médio Treino: 0.6445982993536308\n",
            "Intervalo: 0.4925455188966163 ~ 0.6586205335194362\n",
            "AUC Médio: 0.6544700741411268\n",
            "AUC Médio Treino: 0.75415524801741\n",
            "Intervalo: 0.5341969698278737 ~ 0.7747431784543799\n",
            "AUC Médio: 0.6643847795163584\n",
            "AUC Médio Treino: 0.8243714304989842\n",
            "Intervalo: 0.5408496038380549 ~ 0.787919955194662\n",
            "AUC Médio: 0.6554932930837536\n",
            "AUC Médio Treino: 0.8832038893699776\n",
            "Intervalo: 0.5297661979528577 ~ 0.7812203882146495\n",
            "AUC Médio: 0.6475058192163456\n",
            "AUC Médio Treino: 0.9275331115338461\n",
            "Intervalo: 0.5011322213480258 ~ 0.7938794170846655\n",
            "AUC Médio: 0.6239047951959137\n",
            "AUC Médio Treino: 0.9567921210944048\n",
            "Intervalo: 0.46637314891829074 ~ 0.7814364414735366\n",
            "AUC Médio: 0.6117738776455882\n",
            "AUC Médio Treino: 0.9745102329260463\n",
            "Intervalo: 0.46527354841323065 ~ 0.7582742068779458\n",
            "AUC Médio: 0.5987671815056683\n",
            "AUC Médio Treino: 0.9855938255169409\n",
            "Intervalo: 0.45918657972256777 ~ 0.7383477832887688\n",
            "AUC Médio: 0.5877544694814432\n",
            "AUC Médio Treino: 0.991376822665679\n",
            "Intervalo: 0.4503838330689268 ~ 0.7251251058939595\n"
          ],
          "name": "stdout"
        }
      ]
    },
    {
      "cell_type": "code",
      "metadata": {
        "id": "1mJhXjR57RrU",
        "outputId": "bf5448e0-f1f0-48ef-9bcf-5572ff570cfe"
      },
      "source": [
        "x = range(1,10)\n",
        "plt.plot(x, teste_l, label='teste')\n",
        "plt.plot(x, treino_l, label='treino')\n",
        "plt.legend()\n",
        "plt.show()"
      ],
      "execution_count": null,
      "outputs": [
        {
          "output_type": "display_data",
          "data": {
            "image/png": "[encoded data removed]",
            "text/plain": [
              "<Figure size 432x288 with 1 Axes>"
            ]
          },
          "metadata": {
            "tags": [],
            "needs_background": "light"
          }
        }
      ]
    },
    {
      "cell_type": "markdown",
      "metadata": {
        "id": "1Q4sGufh7RrV"
      },
      "source": [
        "Não está tão evidente mas temos um problema de overfitting, assim, o modelo ficou tão bom em separar os dados de treino que ele não consegue generalizar."
      ]
    },
    {
      "cell_type": "markdown",
      "metadata": {
        "id": "A0-jmaVj7RrW"
      },
      "source": [
        "### Desafio 09: Deixar o gráfico AUC bonitão.\n",
        "\n",
        "### Desafio 10: Usar outra base de dados para ver melhor esse overfitting (dica: base do titanic no kaggle)\n",
        "\n",
        "### Desafio 11: Estudar um pouco mais sobre overfit e underfit.\n"
      ]
    },
    {
      "cell_type": "markdown",
      "metadata": {
        "id": "CLUPsjPA7RrW"
      },
      "source": [
        "Vamos testar outros modelos que tenham chance de ter um overfit menor como o randomforest, que é como o decisiontree só que escolhendo seus grupos aleatoriamente, assim, reduzindo a chance de ter um overfit."
      ]
    },
    {
      "cell_type": "code",
      "metadata": {
        "id": "PovJBHgX7RrX",
        "outputId": "59394605-2e53-4afb-af33-2541e25afa4e"
      },
      "source": [
        "from sklearn.ensemble import RandomForestClassifier\n",
        "\n",
        "teste_l = []\n",
        "treino_l = []\n",
        "\n",
        "for i in range(1,10):\n",
        "    modelo_floresta = RandomForestClassifier(max_depth=i)\n",
        "    teste, treino = roda_modelo_cv(modelo_floresta, dados_limpos, 5, 10)\n",
        "    teste_l.append(teste)\n",
        "    treino_l.append(treino)"
      ],
      "execution_count": null,
      "outputs": [
        {
          "output_type": "stream",
          "text": [
            "AUC Médio: 0.7754785968683994\n",
            "AUC Médio Treino: 0.8549995635150238\n",
            "Intervalo: 0.6850191589947702 ~ 0.8659380347420286\n",
            "AUC Médio: 0.7868632672744513\n",
            "AUC Médio Treino: 0.8976687127896622\n",
            "Intervalo: 0.6972757895267264 ~ 0.8764507450221762\n",
            "AUC Médio: 0.7931550390103022\n",
            "AUC Médio Treino: 0.9403124842531797\n",
            "Intervalo: 0.7059504396364498 ~ 0.8803596383841545\n",
            "AUC Médio: 0.7983565832578993\n",
            "AUC Médio Treino: 0.9709123570096604\n",
            "Intervalo: 0.7106178359984121 ~ 0.8860953305173864\n",
            "AUC Médio: 0.7990938591103065\n",
            "AUC Médio Treino: 0.98788117359786\n",
            "Intervalo: 0.7108500843768295 ~ 0.8873376338437835\n",
            "AUC Médio: 0.8004527808310704\n",
            "AUC Médio Treino: 0.9959760554693325\n",
            "Intervalo: 0.7132706394104619 ~ 0.887634922251679\n",
            "AUC Médio: 0.7994808369972844\n",
            "AUC Médio Treino: 0.9990287365273224\n",
            "Intervalo: 0.7070232488722833 ~ 0.8919384251222856\n",
            "AUC Médio: 0.7977776116427432\n",
            "AUC Médio Treino: 0.9998630161707951\n",
            "Intervalo: 0.7098316260879319 ~ 0.8857235971975544\n",
            "AUC Médio: 0.7963008103797579\n",
            "AUC Médio Treino: 0.9999847540078024\n",
            "Intervalo: 0.7054318643945308 ~ 0.887169756364985\n"
          ],
          "name": "stdout"
        }
      ]
    },
    {
      "cell_type": "code",
      "metadata": {
        "id": "CQO7Uwq77RrY",
        "outputId": "f38cc03b-253e-4570-ef7b-7d066714fa14"
      },
      "source": [
        "x = range(1,10)\n",
        "plt.plot(x, teste_l, label='teste')\n",
        "plt.plot(x, treino_l, label='treino')\n",
        "plt.legend()\n",
        "plt.show()"
      ],
      "execution_count": null,
      "outputs": [
        {
          "output_type": "display_data",
          "data": {
            "image/png": "[encoded data removed]",
            "text/plain": [
              "<Figure size 432x288 with 1 Axes>"
            ]
          },
          "metadata": {
            "tags": [],
            "needs_background": "light"
          }
        }
      ]
    },
    {
      "cell_type": "code",
      "metadata": {
        "id": "-3pHvIzZ7RrZ",
        "outputId": "6a02fcd6-b73a-470c-9a5a-24182d41bf05"
      },
      "source": [
        "#Contudo o melhor parâmetro para mudarmos no randomForest é o n_estimators que é o nmr de árvores q ele cria\n",
        "\n",
        "modelo_floresta = RandomForestClassifier(max_depth=i, n_estimators=10)\n",
        "roda_modelo_cv(modelo_floresta, dados_limpos, 5, 10)"
      ],
      "execution_count": null,
      "outputs": [
        {
          "output_type": "stream",
          "text": [
            "AUC Médio: 0.7475246239062027\n",
            "AUC Médio Treino: 0.9974479705098765\n",
            "Intervalo: 0.6394727909999747 ~ 0.8555764568124307\n"
          ],
          "name": "stdout"
        },
        {
          "output_type": "execute_result",
          "data": {
            "text/plain": [
              "(0.7475246239062027, 0.9974479705098765)"
            ]
          },
          "metadata": {
            "tags": []
          },
          "execution_count": 50
        }
      ]
    },
    {
      "cell_type": "code",
      "metadata": {
        "id": "mHCfjZHX7RrZ",
        "outputId": "a557fbfe-a09b-4df8-d638-8a1b4cf6e804"
      },
      "source": [
        "modelo_floresta = RandomForestClassifier(max_depth=i, n_estimators=100)\n",
        "roda_modelo_cv(modelo_floresta, dados_limpos, 5, 10)"
      ],
      "execution_count": null,
      "outputs": [
        {
          "output_type": "stream",
          "text": [
            "AUC Médio: 0.7963008103797579\n",
            "AUC Médio Treino: 0.9999847540078024\n",
            "Intervalo: 0.7054318643945308 ~ 0.887169756364985\n"
          ],
          "name": "stdout"
        },
        {
          "output_type": "execute_result",
          "data": {
            "text/plain": [
              "(0.7963008103797579, 0.9999847540078024)"
            ]
          },
          "metadata": {
            "tags": []
          },
          "execution_count": 51
        }
      ]
    },
    {
      "cell_type": "code",
      "metadata": {
        "id": "yg0688n87RrZ",
        "outputId": "18a68a00-4451-428f-e35a-5a5ad5e1a4d5"
      },
      "source": [
        "modelo_floresta = RandomForestClassifier(max_depth=i, n_estimators=200)\n",
        "roda_modelo_cv(modelo_floresta, dados_limpos, 5, 10)"
      ],
      "execution_count": null,
      "outputs": [
        {
          "output_type": "stream",
          "text": [
            "AUC Médio: 0.7960362785033837\n",
            "AUC Médio Treino: 0.999996963562753\n",
            "Intervalo: 0.6930684869757805 ~ 0.8990040700309868\n"
          ],
          "name": "stdout"
        },
        {
          "output_type": "execute_result",
          "data": {
            "text/plain": [
              "(0.7960362785033837, 0.999996963562753)"
            ]
          },
          "metadata": {
            "tags": []
          },
          "execution_count": 52
        }
      ]
    },
    {
      "cell_type": "markdown",
      "metadata": {
        "id": "0DNcF1nq7RrZ"
      },
      "source": [
        "### Desafio 12 :  Escolhe um modelo de machine learning, estude os hiperparâmetros desse modelo e teste vários hiperparâmetros.\n",
        "\n",
        "### Desafio 13 : Pesquisar como salvar um modelo finalizado."
      ]
    },
    {
      "cell_type": "code",
      "metadata": {
        "id": "3Oe-6Kbg7Rra",
        "outputId": "90f400ea-0dfe-4f61-82fb-3ab16f684674"
      },
      "source": [
        "#Desafio 9:\n",
        "\n",
        "import seaborn as sns\n",
        "\n",
        "plt.figure(figsize=(10,6))\n",
        "ax = sns.lineplot(x=x, y=teste_l, label = 'teste')\n",
        "sns.lineplot(x=x, y=treino_l, label = 'treino')\n",
        "plt.title('Plot das métricas de AUC para os dados de treino e teste')\n",
        "plt.xlabel('Parâmetro max_depth', fontsize=15)\n",
        "plt.ylabel('Índice AUC', fontsize=15)\n",
        "plt.show()"
      ],
      "execution_count": null,
      "outputs": [
        {
          "output_type": "display_data",
          "data": {
            "image/png": "[encoded data removed]",
            "text/plain": [
              "<Figure size 720x432 with 1 Axes>"
            ]
          },
          "metadata": {
            "tags": [],
            "needs_background": "light"
          }
        }
      ]
    },
    {
      "cell_type": "code",
      "metadata": {
        "id": "XpKkIrhY7Rra"
      },
      "source": [
        "#Desafio 10:\n",
        "\n",
        "exp = pd.read_csv('dados_experimentos.csv')"
      ],
      "execution_count": null,
      "outputs": []
    },
    {
      "cell_type": "code",
      "metadata": {
        "id": "pIk4DKAS7Rrb"
      },
      "source": [
        "colunas = []\n",
        "exp2 = exp\n",
        "for i in exp2.columns:\n",
        "    i = i.replace('-', '')\n",
        "    colunas.append(i)\n",
        "exp2.columns = colunas"
      ],
      "execution_count": null,
      "outputs": []
    },
    {
      "cell_type": "code",
      "metadata": {
        "id": "Rlrg0b6S7Rrc"
      },
      "source": [
        "mapa = {'droga':'composto'}\n",
        "exp2.rename(columns = mapa, inplace = True)"
      ],
      "execution_count": null,
      "outputs": []
    },
    {
      "cell_type": "code",
      "metadata": {
        "id": "rdkeq_607Rrc",
        "outputId": "6ecaa5df-3ba6-45d4-9713-206fda1774e6"
      },
      "source": [
        "dados_resultados = pd.read_csv('dados_resultados.csv')\n",
        "dados_resultados.head()"
      ],
      "execution_count": null,
      "outputs": [
        {
          "output_type": "execute_result",
          "data": {
            "text/html": [
              "<div>\n",
              "<style scoped>\n",
              "    .dataframe tbody tr th:only-of-type {\n",
              "        vertical-align: middle;\n",
              "    }\n",
              "\n",
              "    .dataframe tbody tr th {\n",
              "        vertical-align: top;\n",
              "    }\n",
              "\n",
              "    .dataframe thead th {\n",
              "        text-align: right;\n",
              "    }\n",
              "</style>\n",
              "<table border=\"1\" class=\"dataframe\">\n",
              "  <thead>\n",
              "    <tr style=\"text-align: right;\">\n",
              "      <th></th>\n",
              "      <th>id</th>\n",
              "      <th>5-alpha_reductase_inhibitor</th>\n",
              "      <th>11-beta-hsd1_inhibitor</th>\n",
              "      <th>acat_inhibitor</th>\n",
              "      <th>acetylcholine_receptor_agonist</th>\n",
              "      <th>acetylcholine_receptor_antagonist</th>\n",
              "      <th>acetylcholinesterase_inhibitor</th>\n",
              "      <th>adenosine_receptor_agonist</th>\n",
              "      <th>adenosine_receptor_antagonist</th>\n",
              "      <th>adenylyl_cyclase_activator</th>\n",
              "      <th>...</th>\n",
              "      <th>tropomyosin_receptor_kinase_inhibitor</th>\n",
              "      <th>trpv_agonist</th>\n",
              "      <th>trpv_antagonist</th>\n",
              "      <th>tubulin_inhibitor</th>\n",
              "      <th>tyrosine_kinase_inhibitor</th>\n",
              "      <th>ubiquitin_specific_protease_inhibitor</th>\n",
              "      <th>vegfr_inhibitor</th>\n",
              "      <th>vitamin_b</th>\n",
              "      <th>vitamin_d_receptor_agonist</th>\n",
              "      <th>wnt_inhibitor</th>\n",
              "    </tr>\n",
              "  </thead>\n",
              "  <tbody>\n",
              "    <tr>\n",
              "      <th>0</th>\n",
              "      <td>id_000644bb2</td>\n",
              "      <td>0</td>\n",
              "      <td>0</td>\n",
              "      <td>0</td>\n",
              "      <td>0</td>\n",
              "      <td>0</td>\n",
              "      <td>0</td>\n",
              "      <td>0</td>\n",
              "      <td>0</td>\n",
              "      <td>0</td>\n",
              "      <td>...</td>\n",
              "      <td>0</td>\n",
              "      <td>0</td>\n",
              "      <td>0</td>\n",
              "      <td>0</td>\n",
              "      <td>0</td>\n",
              "      <td>0</td>\n",
              "      <td>0</td>\n",
              "      <td>0</td>\n",
              "      <td>0</td>\n",
              "      <td>0</td>\n",
              "    </tr>\n",
              "    <tr>\n",
              "      <th>1</th>\n",
              "      <td>id_000779bfc</td>\n",
              "      <td>0</td>\n",
              "      <td>0</td>\n",
              "      <td>0</td>\n",
              "      <td>0</td>\n",
              "      <td>0</td>\n",
              "      <td>0</td>\n",
              "      <td>0</td>\n",
              "      <td>0</td>\n",
              "      <td>0</td>\n",
              "      <td>...</td>\n",
              "      <td>0</td>\n",
              "      <td>0</td>\n",
              "      <td>0</td>\n",
              "      <td>0</td>\n",
              "      <td>0</td>\n",
              "      <td>0</td>\n",
              "      <td>0</td>\n",
              "      <td>0</td>\n",
              "      <td>0</td>\n",
              "      <td>0</td>\n",
              "    </tr>\n",
              "    <tr>\n",
              "      <th>2</th>\n",
              "      <td>id_000a6266a</td>\n",
              "      <td>0</td>\n",
              "      <td>0</td>\n",
              "      <td>0</td>\n",
              "      <td>0</td>\n",
              "      <td>0</td>\n",
              "      <td>0</td>\n",
              "      <td>0</td>\n",
              "      <td>0</td>\n",
              "      <td>0</td>\n",
              "      <td>...</td>\n",
              "      <td>0</td>\n",
              "      <td>0</td>\n",
              "      <td>0</td>\n",
              "      <td>0</td>\n",
              "      <td>0</td>\n",
              "      <td>0</td>\n",
              "      <td>0</td>\n",
              "      <td>0</td>\n",
              "      <td>0</td>\n",
              "      <td>0</td>\n",
              "    </tr>\n",
              "    <tr>\n",
              "      <th>3</th>\n",
              "      <td>id_0015fd391</td>\n",
              "      <td>0</td>\n",
              "      <td>0</td>\n",
              "      <td>0</td>\n",
              "      <td>0</td>\n",
              "      <td>0</td>\n",
              "      <td>0</td>\n",
              "      <td>0</td>\n",
              "      <td>0</td>\n",
              "      <td>0</td>\n",
              "      <td>...</td>\n",
              "      <td>0</td>\n",
              "      <td>0</td>\n",
              "      <td>0</td>\n",
              "      <td>0</td>\n",
              "      <td>0</td>\n",
              "      <td>0</td>\n",
              "      <td>0</td>\n",
              "      <td>0</td>\n",
              "      <td>0</td>\n",
              "      <td>0</td>\n",
              "    </tr>\n",
              "    <tr>\n",
              "      <th>4</th>\n",
              "      <td>id_001626bd3</td>\n",
              "      <td>0</td>\n",
              "      <td>0</td>\n",
              "      <td>0</td>\n",
              "      <td>0</td>\n",
              "      <td>0</td>\n",
              "      <td>0</td>\n",
              "      <td>0</td>\n",
              "      <td>0</td>\n",
              "      <td>0</td>\n",
              "      <td>...</td>\n",
              "      <td>0</td>\n",
              "      <td>0</td>\n",
              "      <td>0</td>\n",
              "      <td>0</td>\n",
              "      <td>0</td>\n",
              "      <td>0</td>\n",
              "      <td>0</td>\n",
              "      <td>0</td>\n",
              "      <td>0</td>\n",
              "      <td>0</td>\n",
              "    </tr>\n",
              "  </tbody>\n",
              "</table>\n",
              "<p>5 rows × 207 columns</p>\n",
              "</div>"
            ],
            "text/plain": [
              "             id  5-alpha_reductase_inhibitor  11-beta-hsd1_inhibitor  \\\n",
              "0  id_000644bb2                            0                       0   \n",
              "1  id_000779bfc                            0                       0   \n",
              "2  id_000a6266a                            0                       0   \n",
              "3  id_0015fd391                            0                       0   \n",
              "4  id_001626bd3                            0                       0   \n",
              "\n",
              "   acat_inhibitor  acetylcholine_receptor_agonist  \\\n",
              "0               0                               0   \n",
              "1               0                               0   \n",
              "2               0                               0   \n",
              "3               0                               0   \n",
              "4               0                               0   \n",
              "\n",
              "   acetylcholine_receptor_antagonist  acetylcholinesterase_inhibitor  \\\n",
              "0                                  0                               0   \n",
              "1                                  0                               0   \n",
              "2                                  0                               0   \n",
              "3                                  0                               0   \n",
              "4                                  0                               0   \n",
              "\n",
              "   adenosine_receptor_agonist  adenosine_receptor_antagonist  \\\n",
              "0                           0                              0   \n",
              "1                           0                              0   \n",
              "2                           0                              0   \n",
              "3                           0                              0   \n",
              "4                           0                              0   \n",
              "\n",
              "   adenylyl_cyclase_activator  ...  tropomyosin_receptor_kinase_inhibitor  \\\n",
              "0                           0  ...                                      0   \n",
              "1                           0  ...                                      0   \n",
              "2                           0  ...                                      0   \n",
              "3                           0  ...                                      0   \n",
              "4                           0  ...                                      0   \n",
              "\n",
              "   trpv_agonist  trpv_antagonist  tubulin_inhibitor  \\\n",
              "0             0                0                  0   \n",
              "1             0                0                  0   \n",
              "2             0                0                  0   \n",
              "3             0                0                  0   \n",
              "4             0                0                  0   \n",
              "\n",
              "   tyrosine_kinase_inhibitor  ubiquitin_specific_protease_inhibitor  \\\n",
              "0                          0                                      0   \n",
              "1                          0                                      0   \n",
              "2                          0                                      0   \n",
              "3                          0                                      0   \n",
              "4                          0                                      0   \n",
              "\n",
              "   vegfr_inhibitor  vitamin_b  vitamin_d_receptor_agonist  wnt_inhibitor  \n",
              "0                0          0                           0              0  \n",
              "1                0          0                           0              0  \n",
              "2                0          0                           0              0  \n",
              "3                0          0                           0              0  \n",
              "4                0          0                           0              0  \n",
              "\n",
              "[5 rows x 207 columns]"
            ]
          },
          "metadata": {
            "tags": []
          },
          "execution_count": 68
        }
      ]
    },
    {
      "cell_type": "code",
      "metadata": {
        "id": "jJNlIlse7Rrd"
      },
      "source": [
        "dados_resultados['n_moa'] = dados_resultados.drop('id', axis=1).sum(axis=1)"
      ],
      "execution_count": null,
      "outputs": []
    },
    {
      "cell_type": "code",
      "metadata": {
        "id": "IyUbYeQq7Rrd"
      },
      "source": [
        "dados_resultados['ativo_moa'] = (dados_resultados['n_moa'] != 0)"
      ],
      "execution_count": null,
      "outputs": []
    },
    {
      "cell_type": "code",
      "metadata": {
        "id": "ciD-AOId7Rre"
      },
      "source": [
        "dados_combinados = pd.merge(exp, dados_resultados[['id', 'n_moa', 'ativo_moa']], on='id')"
      ],
      "execution_count": null,
      "outputs": []
    },
    {
      "cell_type": "code",
      "metadata": {
        "id": "oNr38ELS7Rrf",
        "outputId": "9140618e-8f99-4551-8c4d-1e0e27934bab"
      },
      "source": [
        "dados_combinados.head()"
      ],
      "execution_count": null,
      "outputs": [
        {
          "output_type": "execute_result",
          "data": {
            "text/html": [
              "<div>\n",
              "<style scoped>\n",
              "    .dataframe tbody tr th:only-of-type {\n",
              "        vertical-align: middle;\n",
              "    }\n",
              "\n",
              "    .dataframe tbody tr th {\n",
              "        vertical-align: top;\n",
              "    }\n",
              "\n",
              "    .dataframe thead th {\n",
              "        text-align: right;\n",
              "    }\n",
              "</style>\n",
              "<table border=\"1\" class=\"dataframe\">\n",
              "  <thead>\n",
              "    <tr style=\"text-align: right;\">\n",
              "      <th></th>\n",
              "      <th>id</th>\n",
              "      <th>tratamento</th>\n",
              "      <th>tempo</th>\n",
              "      <th>dose</th>\n",
              "      <th>composto</th>\n",
              "      <th>g0</th>\n",
              "      <th>g1</th>\n",
              "      <th>g2</th>\n",
              "      <th>g3</th>\n",
              "      <th>g4</th>\n",
              "      <th>...</th>\n",
              "      <th>c92</th>\n",
              "      <th>c93</th>\n",
              "      <th>c94</th>\n",
              "      <th>c95</th>\n",
              "      <th>c96</th>\n",
              "      <th>c97</th>\n",
              "      <th>c98</th>\n",
              "      <th>c99</th>\n",
              "      <th>n_moa</th>\n",
              "      <th>ativo_moa</th>\n",
              "    </tr>\n",
              "  </thead>\n",
              "  <tbody>\n",
              "    <tr>\n",
              "      <th>0</th>\n",
              "      <td>id_000644bb2</td>\n",
              "      <td>com_droga</td>\n",
              "      <td>24</td>\n",
              "      <td>D1</td>\n",
              "      <td>b68db1d53</td>\n",
              "      <td>1.0620</td>\n",
              "      <td>0.5577</td>\n",
              "      <td>-0.2479</td>\n",
              "      <td>-0.6208</td>\n",
              "      <td>-0.1944</td>\n",
              "      <td>...</td>\n",
              "      <td>0.8076</td>\n",
              "      <td>0.5523</td>\n",
              "      <td>-0.1912</td>\n",
              "      <td>0.6584</td>\n",
              "      <td>-0.3981</td>\n",
              "      <td>0.2139</td>\n",
              "      <td>0.3801</td>\n",
              "      <td>0.4176</td>\n",
              "      <td>1</td>\n",
              "      <td>True</td>\n",
              "    </tr>\n",
              "    <tr>\n",
              "      <th>1</th>\n",
              "      <td>id_000779bfc</td>\n",
              "      <td>com_droga</td>\n",
              "      <td>72</td>\n",
              "      <td>D1</td>\n",
              "      <td>df89a8e5a</td>\n",
              "      <td>0.0743</td>\n",
              "      <td>0.4087</td>\n",
              "      <td>0.2991</td>\n",
              "      <td>0.0604</td>\n",
              "      <td>1.0190</td>\n",
              "      <td>...</td>\n",
              "      <td>0.4708</td>\n",
              "      <td>0.0230</td>\n",
              "      <td>0.2957</td>\n",
              "      <td>0.4899</td>\n",
              "      <td>0.1522</td>\n",
              "      <td>0.1241</td>\n",
              "      <td>0.6077</td>\n",
              "      <td>0.7371</td>\n",
              "      <td>0</td>\n",
              "      <td>False</td>\n",
              "    </tr>\n",
              "    <tr>\n",
              "      <th>2</th>\n",
              "      <td>id_000a6266a</td>\n",
              "      <td>com_droga</td>\n",
              "      <td>48</td>\n",
              "      <td>D1</td>\n",
              "      <td>18bb41b2c</td>\n",
              "      <td>0.6280</td>\n",
              "      <td>0.5817</td>\n",
              "      <td>1.5540</td>\n",
              "      <td>-0.0764</td>\n",
              "      <td>-0.0323</td>\n",
              "      <td>...</td>\n",
              "      <td>0.6103</td>\n",
              "      <td>0.0223</td>\n",
              "      <td>-1.3240</td>\n",
              "      <td>-0.3174</td>\n",
              "      <td>-0.6417</td>\n",
              "      <td>-0.2187</td>\n",
              "      <td>-1.4080</td>\n",
              "      <td>0.6931</td>\n",
              "      <td>3</td>\n",
              "      <td>True</td>\n",
              "    </tr>\n",
              "    <tr>\n",
              "      <th>3</th>\n",
              "      <td>id_0015fd391</td>\n",
              "      <td>com_droga</td>\n",
              "      <td>48</td>\n",
              "      <td>D1</td>\n",
              "      <td>8c7f86626</td>\n",
              "      <td>-0.5138</td>\n",
              "      <td>-0.2491</td>\n",
              "      <td>-0.2656</td>\n",
              "      <td>0.5288</td>\n",
              "      <td>4.0620</td>\n",
              "      <td>...</td>\n",
              "      <td>-5.6300</td>\n",
              "      <td>-1.3780</td>\n",
              "      <td>-0.8632</td>\n",
              "      <td>-1.2880</td>\n",
              "      <td>-1.6210</td>\n",
              "      <td>-0.8784</td>\n",
              "      <td>-0.3876</td>\n",
              "      <td>-0.8154</td>\n",
              "      <td>0</td>\n",
              "      <td>False</td>\n",
              "    </tr>\n",
              "    <tr>\n",
              "      <th>4</th>\n",
              "      <td>id_001626bd3</td>\n",
              "      <td>com_droga</td>\n",
              "      <td>72</td>\n",
              "      <td>D2</td>\n",
              "      <td>7cbed3131</td>\n",
              "      <td>-0.3254</td>\n",
              "      <td>-0.4009</td>\n",
              "      <td>0.9700</td>\n",
              "      <td>0.6919</td>\n",
              "      <td>1.4180</td>\n",
              "      <td>...</td>\n",
              "      <td>0.6670</td>\n",
              "      <td>1.0690</td>\n",
              "      <td>0.5523</td>\n",
              "      <td>-0.3031</td>\n",
              "      <td>0.1094</td>\n",
              "      <td>0.2885</td>\n",
              "      <td>-0.3786</td>\n",
              "      <td>0.7125</td>\n",
              "      <td>1</td>\n",
              "      <td>True</td>\n",
              "    </tr>\n",
              "  </tbody>\n",
              "</table>\n",
              "<p>5 rows × 879 columns</p>\n",
              "</div>"
            ],
            "text/plain": [
              "             id tratamento  tempo dose   composto      g0      g1      g2  \\\n",
              "0  id_000644bb2  com_droga     24   D1  b68db1d53  1.0620  0.5577 -0.2479   \n",
              "1  id_000779bfc  com_droga     72   D1  df89a8e5a  0.0743  0.4087  0.2991   \n",
              "2  id_000a6266a  com_droga     48   D1  18bb41b2c  0.6280  0.5817  1.5540   \n",
              "3  id_0015fd391  com_droga     48   D1  8c7f86626 -0.5138 -0.2491 -0.2656   \n",
              "4  id_001626bd3  com_droga     72   D2  7cbed3131 -0.3254 -0.4009  0.9700   \n",
              "\n",
              "       g3      g4  ...     c92     c93     c94     c95     c96     c97  \\\n",
              "0 -0.6208 -0.1944  ...  0.8076  0.5523 -0.1912  0.6584 -0.3981  0.2139   \n",
              "1  0.0604  1.0190  ...  0.4708  0.0230  0.2957  0.4899  0.1522  0.1241   \n",
              "2 -0.0764 -0.0323  ...  0.6103  0.0223 -1.3240 -0.3174 -0.6417 -0.2187   \n",
              "3  0.5288  4.0620  ... -5.6300 -1.3780 -0.8632 -1.2880 -1.6210 -0.8784   \n",
              "4  0.6919  1.4180  ...  0.6670  1.0690  0.5523 -0.3031  0.1094  0.2885   \n",
              "\n",
              "      c98     c99  n_moa  ativo_moa  \n",
              "0  0.3801  0.4176      1       True  \n",
              "1  0.6077  0.7371      0      False  \n",
              "2 -1.4080  0.6931      3       True  \n",
              "3 -0.3876 -0.8154      0      False  \n",
              "4 -0.3786  0.7125      1       True  \n",
              "\n",
              "[5 rows x 879 columns]"
            ]
          },
          "metadata": {
            "tags": []
          },
          "execution_count": 73
        }
      ]
    },
    {
      "cell_type": "code",
      "metadata": {
        "id": "EWw2SFZE7Rrg"
      },
      "source": [
        "teste_l = []\n",
        "treino_l = []\n",
        "\n",
        "\n",
        "for i in range(1,11,3):\n",
        "    modelo = DecisionTreeClassifier(max_depth=i)\n",
        "    np.random.seed(1231234)\n",
        "    roda_dados = dados_combinados.sample(frac=1).reset_index(drop=True)\n",
        "    xco = roda_dados.columns\n",
        "    y = roda_dados['ativo_moa']\n",
        "    x = roda_dados[xco].select_dtypes('float64')\n",
        "    \n",
        "    cv = RepeatedStratifiedKFold(n_splits = 3, n_repeats = 5)\n",
        "\n",
        "    resultados = cross_validate(modelo, x, y, cv=cv, scoring = 'roc_auc', return_train_score = True)\n",
        "    \n",
        "    \n",
        "    auc_medio = np.mean(resultados['test_score'])\n",
        "    auc_medio_treino = np.mean(resultados['train_score'])\n",
        "\n",
        "    auc_std = np.std(resultados['test_score'])\n",
        "    \n",
        "    teste_l.append(auc_medio)\n",
        "    treino_l.append(auc_medio_treino)\n",
        "    "
      ],
      "execution_count": null,
      "outputs": []
    },
    {
      "cell_type": "code",
      "metadata": {
        "id": "WhrcKmFh7Rrh",
        "outputId": "57be091f-1d25-4fd3-ee38-802184a09a39"
      },
      "source": [
        "plt.figure(figsize=(10,6))\n",
        "ax = sns.lineplot(x=range(1,11,3), y=teste_l, label = 'teste')\n",
        "sns.lineplot(x=range(1,11,3), y=treino_l, label = 'treino')\n",
        "plt.title('Plot das métricas de AUC para os dados de treino e teste')\n",
        "plt.xlabel('Parâmetro max_depth', fontsize=15)\n",
        "plt.ylabel('Índice AUC', fontsize=15)\n",
        "plt.show()"
      ],
      "execution_count": null,
      "outputs": [
        {
          "output_type": "display_data",
          "data": {
            "image/png": "[encoded data removed]",
            "text/plain": [
              "<Figure size 720x432 with 1 Axes>"
            ]
          },
          "metadata": {
            "tags": [],
            "needs_background": "light"
          }
        }
      ]
    },
    {
      "cell_type": "markdown",
      "metadata": {
        "id": "9scLYcU77Rri"
      },
      "source": [
        "### Desafio 11:\n",
        "\n",
        "Underfit: É um modelo criado que se torna muito simples por não conseguir parametrizar de forma correta os dados, seja por passar a um dado modelo um conjunto de dados que ele não está preparado para generalizar ou por passar poucos dados. Geralmente ocorre com modelos lineares ao receberem dados que não são lineares.\n",
        "\n",
        "Overfit : Acontece quando o algoritmo fica muito complexo e aprende até as pequenas nuâncias dos seus dados de treino, que podem não representar nuâncias gerais dos dados da realidade que você quer predizer, logo, ele vira um modelo que não consegue generalizar bem o que aprendeu.\n",
        "\n"
      ]
    },
    {
      "cell_type": "markdown",
      "metadata": {
        "id": "vpN57ApM7Rrk"
      },
      "source": [
        "### Desafio 12:\n",
        "\n",
        "Comecei estudando o efeito do parâmetro max_features, que muda o número de colunas que uma tree individual poderá usar para treino"
      ]
    },
    {
      "cell_type": "code",
      "metadata": {
        "id": "E-v6ETaX7Rrl",
        "outputId": "aa57be08-bb2d-4e02-a8a1-5d356def58e4"
      },
      "source": [
        "modelo_floresta = RandomForestClassifier(max_depth=4, n_estimators=100, max_features='sqrt')\n",
        "roda_modelo_cv(modelo_floresta, dados_limpos, 5, 10)"
      ],
      "execution_count": null,
      "outputs": [
        {
          "output_type": "stream",
          "text": [
            "AUC Médio: 0.7983565832578993\n",
            "AUC Médio Treino: 0.9709123570096604\n",
            "Intervalo: 0.7106178359984121 ~ 0.8860953305173864\n"
          ],
          "name": "stdout"
        },
        {
          "output_type": "execute_result",
          "data": {
            "text/plain": [
              "(0.7983565832578993, 0.9709123570096604)"
            ]
          },
          "metadata": {
            "tags": []
          },
          "execution_count": 79
        }
      ]
    },
    {
      "cell_type": "code",
      "metadata": {
        "id": "Gxh4UJJQ7Rrm",
        "outputId": "6c260df5-e9c5-423b-d8bc-2b6a5a16f75c"
      },
      "source": [
        "modelo_floresta = RandomForestClassifier(max_depth=4, n_estimators=100, max_features=0.2)\n",
        "roda_modelo_cv(modelo_floresta, dados_limpos, 5, 10)"
      ],
      "execution_count": null,
      "outputs": [
        {
          "output_type": "stream",
          "text": [
            "AUC Médio: 0.7932441861718178\n",
            "AUC Médio Treino: 0.9743011219308922\n",
            "Intervalo: 0.6960758500525174 ~ 0.8904125222911182\n"
          ],
          "name": "stdout"
        },
        {
          "output_type": "execute_result",
          "data": {
            "text/plain": [
              "(0.7932441861718178, 0.9743011219308922)"
            ]
          },
          "metadata": {
            "tags": []
          },
          "execution_count": 81
        }
      ]
    },
    {
      "cell_type": "code",
      "metadata": {
        "id": "dspI6xA57Rrn",
        "outputId": "7bd99bcc-29ad-452a-c24b-04f08c369f5f"
      },
      "source": [
        "modelo_floresta = RandomForestClassifier(max_depth=4, n_estimators=100)\n",
        "roda_modelo_cv(modelo_floresta, dados_limpos, 5, 10)"
      ],
      "execution_count": null,
      "outputs": [
        {
          "output_type": "stream",
          "text": [
            "AUC Médio: 0.7983565832578993\n",
            "AUC Médio Treino: 0.9709123570096604\n",
            "Intervalo: 0.7106178359984121 ~ 0.8860953305173864\n"
          ],
          "name": "stdout"
        },
        {
          "output_type": "execute_result",
          "data": {
            "text/plain": [
              "(0.7983565832578993, 0.9709123570096604)"
            ]
          },
          "metadata": {
            "tags": []
          },
          "execution_count": 82
        }
      ]
    },
    {
      "cell_type": "code",
      "metadata": {
        "id": "oqBZc40h7Rro",
        "outputId": "38df6acd-e963-4f36-b9d4-9a5ed52adfce"
      },
      "source": [
        "modelo_floresta = RandomForestClassifier(max_depth=4, n_estimators=100, max_features=0.05)\n",
        "roda_modelo_cv(modelo_floresta, dados_limpos, 5, 10)"
      ],
      "execution_count": null,
      "outputs": [
        {
          "output_type": "stream",
          "text": [
            "AUC Médio: 0.7962438036122247\n",
            "AUC Médio Treino: 0.9699747867693757\n",
            "Intervalo: 0.707251161210455 ~ 0.8852364460139944\n"
          ],
          "name": "stdout"
        },
        {
          "output_type": "execute_result",
          "data": {
            "text/plain": [
              "(0.7962438036122247, 0.9699747867693757)"
            ]
          },
          "metadata": {
            "tags": []
          },
          "execution_count": 83
        }
      ]
    },
    {
      "cell_type": "markdown",
      "metadata": {
        "id": "UHHIqlYZ7Rrp"
      },
      "source": [
        "Parece que mesmo diminuindo bastante o número de features que uma tree individual pode usar o seu índice auc não é muito alterado para uma depth = 4 e um n_estimators = 100. Os parâmetros de depth e n_estimators foram repetidos pois apresentaram melhores resultados anteriormente, um estudo mais preciso seria variar estes mesmos parâmetros para ver como o resultado ia ser alterado ao alterarmos o max_features também. "
      ]
    },
    {
      "cell_type": "code",
      "metadata": {
        "id": "N2wizo0X7Rrp",
        "outputId": "03a1b6a3-f03a-4259-f9c6-b055a008e344"
      },
      "source": [
        "modelo_floresta = RandomForestClassifier(max_depth=4, n_estimators=100, min_samples_leaf=5)\n",
        "roda_modelo_cv(modelo_floresta, dados_limpos, 5, 10)"
      ],
      "execution_count": null,
      "outputs": [
        {
          "output_type": "stream",
          "text": [
            "AUC Médio: 0.7976672485883012\n",
            "AUC Médio Treino: 0.9540966413196159\n",
            "Intervalo: 0.7071794847414246 ~ 0.8881550124351778\n"
          ],
          "name": "stdout"
        },
        {
          "output_type": "execute_result",
          "data": {
            "text/plain": [
              "(0.7976672485883012, 0.9540966413196159)"
            ]
          },
          "metadata": {
            "tags": []
          },
          "execution_count": 84
        }
      ]
    },
    {
      "cell_type": "code",
      "metadata": {
        "id": "qO1YUVqC7Rrp",
        "outputId": "fd0e7ca3-a2ef-4c30-f4cc-b3302c0447ba"
      },
      "source": [
        "modelo_floresta = RandomForestClassifier(max_depth=4, n_estimators=100, min_samples_leaf=10)\n",
        "roda_modelo_cv(modelo_floresta, dados_limpos, 5, 10)"
      ],
      "execution_count": null,
      "outputs": [
        {
          "output_type": "stream",
          "text": [
            "AUC Médio: 0.7960709109228847\n",
            "AUC Médio Treino: 0.9314388145333098\n",
            "Intervalo: 0.7083735827369344 ~ 0.8837682391088351\n"
          ],
          "name": "stdout"
        },
        {
          "output_type": "execute_result",
          "data": {
            "text/plain": [
              "(0.7960709109228847, 0.9314388145333098)"
            ]
          },
          "metadata": {
            "tags": []
          },
          "execution_count": 85
        }
      ]
    },
    {
      "cell_type": "code",
      "metadata": {
        "id": "xxsvGaB47Rrq",
        "outputId": "c94bf8ea-dd2c-4e8a-e92b-51865c353561"
      },
      "source": [
        "modelo_floresta = RandomForestClassifier(max_depth=4, n_estimators=100, min_samples_leaf=15)\n",
        "roda_modelo_cv(modelo_floresta, dados_limpos, 5, 10)"
      ],
      "execution_count": null,
      "outputs": [
        {
          "output_type": "stream",
          "text": [
            "AUC Médio: 0.79598130576749\n",
            "AUC Médio Treino: 0.9138987233588359\n",
            "Intervalo: 0.7039758486943641 ~ 0.887986762840616\n"
          ],
          "name": "stdout"
        },
        {
          "output_type": "execute_result",
          "data": {
            "text/plain": [
              "(0.79598130576749, 0.9138987233588359)"
            ]
          },
          "metadata": {
            "tags": []
          },
          "execution_count": 86
        }
      ]
    },
    {
      "cell_type": "code",
      "metadata": {
        "id": "RCwirHW-7Rrq",
        "outputId": "35f935d1-e286-45af-dac0-3e4ef4db4236"
      },
      "source": [
        "modelo_floresta = RandomForestClassifier(max_depth=4, n_estimators=100, min_samples_leaf=50)\n",
        "roda_modelo_cv(modelo_floresta, dados_limpos, 5, 10)"
      ],
      "execution_count": null,
      "outputs": [
        {
          "output_type": "stream",
          "text": [
            "AUC Médio: 0.7584842019052546\n",
            "AUC Médio Treino: 0.8298767679163765\n",
            "Intervalo: 0.6553966870367951 ~ 0.861571716773714\n"
          ],
          "name": "stdout"
        },
        {
          "output_type": "execute_result",
          "data": {
            "text/plain": [
              "(0.7584842019052546, 0.8298767679163765)"
            ]
          },
          "metadata": {
            "tags": []
          },
          "execution_count": 87
        }
      ]
    },
    {
      "cell_type": "markdown",
      "metadata": {
        "id": "g0B19k407Rrq"
      },
      "source": [
        "O parâmetro testado agora foi o min_samples_leaf que muda o número de dados mínimos para uma folha em cada tree montada pelo modelo. Uma folha seria o fim de cada caminho de parâmetros percorridos por cada árvore, um min_samples_leaf mais alto é útil para evitarmos que o modelo se parametrize em cima do ruído dos dados usados, ou seja, consiga parametrizar-se de melhor forma a generalizar os seus resultados e dar menos importância a features que sejam realmente menos importantes. Em nosso teste quanto maior o min_samples_leaf menor foi o AUC dos dados de treino e dos dados de teste, contudo, sendo o AUC de treino mais afetado, sendo AUC de teste sendo mais afetado quando eu aumentei bastante o parâmetro."
      ]
    },
    {
      "cell_type": "code",
      "metadata": {
        "scrolled": true,
        "id": "9KoOlsaL7Rrs",
        "outputId": "6f31eeeb-403e-4709-9ec2-b178b6461229"
      },
      "source": [
        "#Desafio 13:\n",
        "from joblib import dump, load\n",
        "import os\n",
        "filename = os.path.join('/home/lulu/Modelos/', 'test.joblib')\n",
        "dump(modelo_floresta, filename)\n",
        "\n",
        "#Brasil"
      ],
      "execution_count": null,
      "outputs": [
        {
          "output_type": "execute_result",
          "data": {
            "text/plain": [
              "['/home/lulu/Modelos/test.joblib']"
            ]
          },
          "metadata": {
            "tags": []
          },
          "execution_count": 89
        }
      ]
    },
    {
      "cell_type": "markdown",
      "metadata": {
        "id": "bge58SKJ7Rrt"
      },
      "source": [
        "### Aula 6:"
      ]
    },
    {
      "cell_type": "markdown",
      "metadata": {
        "id": "9vJKBMEu7Rru"
      },
      "source": [
        "Vamos mudar a forma que tratamos os dados agora, logo, como temos muitas colunas vamos procurar diminuir esse número ao treinar nosso algortimo. Primeiro vamos procurar remover colunas que possuem alta correlação."
      ]
    },
    {
      "cell_type": "code",
      "metadata": {
        "id": "uPm2MqrY7Rrw",
        "outputId": "7712daff-6532-47cd-9484-3fd93df71a1f"
      },
      "source": [
        "#Primeiro criando uma matriz de correlação para isso, mas primeiro, queremos ver quais colunas faz sentido usar:\n",
        "\n",
        "dados_limpos.info()"
      ],
      "execution_count": null,
      "outputs": [
        {
          "output_type": "stream",
          "text": [
            "<class 'pandas.core.frame.DataFrame'>\n",
            "MultiIndex: 352 entries, (0, 0) to (384, 1920)\n",
            "Columns: 231 entries, PATIENT_VISIT_IDENTIFIER to ICU\n",
            "dtypes: float64(225), int64(4), int8(1), object(1)\n",
            "memory usage: 659.8+ KB\n"
          ],
          "name": "stdout"
        }
      ]
    },
    {
      "cell_type": "code",
      "metadata": {
        "id": "DGhDMiN37Rrw",
        "outputId": "58767f00-8a7f-47fd-8af2-0b807c92dabe"
      },
      "source": [
        "dados_limpos.select_dtypes(exclude='float64')\n",
        "#realmente essas são colunas obsoletas"
      ],
      "execution_count": null,
      "outputs": [
        {
          "output_type": "execute_result",
          "data": {
            "text/html": [
              "<div>\n",
              "<style scoped>\n",
              "    .dataframe tbody tr th:only-of-type {\n",
              "        vertical-align: middle;\n",
              "    }\n",
              "\n",
              "    .dataframe tbody tr th {\n",
              "        vertical-align: top;\n",
              "    }\n",
              "\n",
              "    .dataframe thead th {\n",
              "        text-align: right;\n",
              "    }\n",
              "</style>\n",
              "<table border=\"1\" class=\"dataframe\">\n",
              "  <thead>\n",
              "    <tr style=\"text-align: right;\">\n",
              "      <th></th>\n",
              "      <th></th>\n",
              "      <th>PATIENT_VISIT_IDENTIFIER</th>\n",
              "      <th>AGE_ABOVE65</th>\n",
              "      <th>AGE_PERCENTIL</th>\n",
              "      <th>GENDER</th>\n",
              "      <th>WINDOW</th>\n",
              "      <th>ICU</th>\n",
              "    </tr>\n",
              "    <tr>\n",
              "      <th>PATIENT_VISIT_IDENTIFIER</th>\n",
              "      <th></th>\n",
              "      <th></th>\n",
              "      <th></th>\n",
              "      <th></th>\n",
              "      <th></th>\n",
              "      <th></th>\n",
              "      <th></th>\n",
              "    </tr>\n",
              "  </thead>\n",
              "  <tbody>\n",
              "    <tr>\n",
              "      <th>0</th>\n",
              "      <th>0</th>\n",
              "      <td>0</td>\n",
              "      <td>1</td>\n",
              "      <td>5</td>\n",
              "      <td>0</td>\n",
              "      <td>0-2</td>\n",
              "      <td>1</td>\n",
              "    </tr>\n",
              "    <tr>\n",
              "      <th>2</th>\n",
              "      <th>10</th>\n",
              "      <td>2</td>\n",
              "      <td>0</td>\n",
              "      <td>0</td>\n",
              "      <td>0</td>\n",
              "      <td>0-2</td>\n",
              "      <td>1</td>\n",
              "    </tr>\n",
              "    <tr>\n",
              "      <th>3</th>\n",
              "      <th>15</th>\n",
              "      <td>3</td>\n",
              "      <td>0</td>\n",
              "      <td>3</td>\n",
              "      <td>1</td>\n",
              "      <td>0-2</td>\n",
              "      <td>0</td>\n",
              "    </tr>\n",
              "    <tr>\n",
              "      <th>4</th>\n",
              "      <th>20</th>\n",
              "      <td>4</td>\n",
              "      <td>0</td>\n",
              "      <td>0</td>\n",
              "      <td>0</td>\n",
              "      <td>0-2</td>\n",
              "      <td>0</td>\n",
              "    </tr>\n",
              "    <tr>\n",
              "      <th>5</th>\n",
              "      <th>25</th>\n",
              "      <td>5</td>\n",
              "      <td>0</td>\n",
              "      <td>0</td>\n",
              "      <td>0</td>\n",
              "      <td>0-2</td>\n",
              "      <td>0</td>\n",
              "    </tr>\n",
              "    <tr>\n",
              "      <th>...</th>\n",
              "      <th>...</th>\n",
              "      <td>...</td>\n",
              "      <td>...</td>\n",
              "      <td>...</td>\n",
              "      <td>...</td>\n",
              "      <td>...</td>\n",
              "      <td>...</td>\n",
              "    </tr>\n",
              "    <tr>\n",
              "      <th>380</th>\n",
              "      <th>1900</th>\n",
              "      <td>380</td>\n",
              "      <td>0</td>\n",
              "      <td>3</td>\n",
              "      <td>1</td>\n",
              "      <td>0-2</td>\n",
              "      <td>1</td>\n",
              "    </tr>\n",
              "    <tr>\n",
              "      <th>381</th>\n",
              "      <th>1905</th>\n",
              "      <td>381</td>\n",
              "      <td>1</td>\n",
              "      <td>9</td>\n",
              "      <td>0</td>\n",
              "      <td>0-2</td>\n",
              "      <td>0</td>\n",
              "    </tr>\n",
              "    <tr>\n",
              "      <th>382</th>\n",
              "      <th>1910</th>\n",
              "      <td>382</td>\n",
              "      <td>0</td>\n",
              "      <td>4</td>\n",
              "      <td>0</td>\n",
              "      <td>0-2</td>\n",
              "      <td>1</td>\n",
              "    </tr>\n",
              "    <tr>\n",
              "      <th>383</th>\n",
              "      <th>1915</th>\n",
              "      <td>383</td>\n",
              "      <td>0</td>\n",
              "      <td>3</td>\n",
              "      <td>1</td>\n",
              "      <td>0-2</td>\n",
              "      <td>0</td>\n",
              "    </tr>\n",
              "    <tr>\n",
              "      <th>384</th>\n",
              "      <th>1920</th>\n",
              "      <td>384</td>\n",
              "      <td>0</td>\n",
              "      <td>4</td>\n",
              "      <td>1</td>\n",
              "      <td>0-2</td>\n",
              "      <td>0</td>\n",
              "    </tr>\n",
              "  </tbody>\n",
              "</table>\n",
              "<p>352 rows × 6 columns</p>\n",
              "</div>"
            ],
            "text/plain": [
              "                               PATIENT_VISIT_IDENTIFIER  AGE_ABOVE65  \\\n",
              "PATIENT_VISIT_IDENTIFIER                                               \n",
              "0                        0                            0            1   \n",
              "2                        10                           2            0   \n",
              "3                        15                           3            0   \n",
              "4                        20                           4            0   \n",
              "5                        25                           5            0   \n",
              "...                                                 ...          ...   \n",
              "380                      1900                       380            0   \n",
              "381                      1905                       381            1   \n",
              "382                      1910                       382            0   \n",
              "383                      1915                       383            0   \n",
              "384                      1920                       384            0   \n",
              "\n",
              "                               AGE_PERCENTIL  GENDER WINDOW  ICU  \n",
              "PATIENT_VISIT_IDENTIFIER                                          \n",
              "0                        0                 5       0    0-2    1  \n",
              "2                        10                0       0    0-2    1  \n",
              "3                        15                3       1    0-2    0  \n",
              "4                        20                0       0    0-2    0  \n",
              "5                        25                0       0    0-2    0  \n",
              "...                                      ...     ...    ...  ...  \n",
              "380                      1900              3       1    0-2    1  \n",
              "381                      1905              9       0    0-2    0  \n",
              "382                      1910              4       0    0-2    1  \n",
              "383                      1915              3       1    0-2    0  \n",
              "384                      1920              4       1    0-2    0  \n",
              "\n",
              "[352 rows x 6 columns]"
            ]
          },
          "metadata": {
            "tags": []
          },
          "execution_count": 97
        }
      ]
    },
    {
      "cell_type": "code",
      "metadata": {
        "id": "sUCUtgVl7Rrx",
        "outputId": "a034fb32-34b4-4558-9bec-b3e810612d3c"
      },
      "source": [
        "#Filtrando elas então e olhando só o valor absoluto de correlação, pois não importa se é correlação inversa aqui:\n",
        "\n",
        "#Vamos excluir aquelas que possuirem mais que um certo número de correlação com outras colunas.\n",
        "\n",
        "#Contudo, temos que nos atentar que temos que deixar uma das variáveis que são altamente correlacionadas e que\n",
        "#a matriz é espelhada entre a metade acima da diagonal e a metade abaixo, além de que uma variável sempre\n",
        "#vai ter correlação 1 com ela mesma.\n",
        "\n",
        "alta_corr = 0.95\n",
        "matriz_corr = dados_limpos.iloc[:,4:-2].corr().abs()\n",
        "matriz_corr"
      ],
      "execution_count": null,
      "outputs": [
        {
          "output_type": "execute_result",
          "data": {
            "text/html": [
              "<div>\n",
              "<style scoped>\n",
              "    .dataframe tbody tr th:only-of-type {\n",
              "        vertical-align: middle;\n",
              "    }\n",
              "\n",
              "    .dataframe tbody tr th {\n",
              "        vertical-align: top;\n",
              "    }\n",
              "\n",
              "    .dataframe thead th {\n",
              "        text-align: right;\n",
              "    }\n",
              "</style>\n",
              "<table border=\"1\" class=\"dataframe\">\n",
              "  <thead>\n",
              "    <tr style=\"text-align: right;\">\n",
              "      <th></th>\n",
              "      <th>DISEASE GROUPING 1</th>\n",
              "      <th>DISEASE GROUPING 2</th>\n",
              "      <th>DISEASE GROUPING 3</th>\n",
              "      <th>DISEASE GROUPING 4</th>\n",
              "      <th>DISEASE GROUPING 5</th>\n",
              "      <th>DISEASE GROUPING 6</th>\n",
              "      <th>HTN</th>\n",
              "      <th>IMMUNOCOMPROMISED</th>\n",
              "      <th>OTHER</th>\n",
              "      <th>ALBUMIN_MEDIAN</th>\n",
              "      <th>...</th>\n",
              "      <th>HEART_RATE_DIFF</th>\n",
              "      <th>RESPIRATORY_RATE_DIFF</th>\n",
              "      <th>TEMPERATURE_DIFF</th>\n",
              "      <th>OXYGEN_SATURATION_DIFF</th>\n",
              "      <th>BLOODPRESSURE_DIASTOLIC_DIFF_REL</th>\n",
              "      <th>BLOODPRESSURE_SISTOLIC_DIFF_REL</th>\n",
              "      <th>HEART_RATE_DIFF_REL</th>\n",
              "      <th>RESPIRATORY_RATE_DIFF_REL</th>\n",
              "      <th>TEMPERATURE_DIFF_REL</th>\n",
              "      <th>OXYGEN_SATURATION_DIFF_REL</th>\n",
              "    </tr>\n",
              "  </thead>\n",
              "  <tbody>\n",
              "    <tr>\n",
              "      <th>DISEASE GROUPING 1</th>\n",
              "      <td>1.000000</td>\n",
              "      <td>0.196347</td>\n",
              "      <td>0.278271</td>\n",
              "      <td>0.017529</td>\n",
              "      <td>0.340370</td>\n",
              "      <td>0.202849</td>\n",
              "      <td>0.489245</td>\n",
              "      <td>0.176224</td>\n",
              "      <td>0.153793</td>\n",
              "      <td>0.009174</td>\n",
              "      <td>...</td>\n",
              "      <td>0.129220</td>\n",
              "      <td>0.028964</td>\n",
              "      <td>0.041099</td>\n",
              "      <td>0.056287</td>\n",
              "      <td>0.050070</td>\n",
              "      <td>0.054745</td>\n",
              "      <td>0.093512</td>\n",
              "      <td>0.052568</td>\n",
              "      <td>0.039692</td>\n",
              "      <td>0.056984</td>\n",
              "    </tr>\n",
              "    <tr>\n",
              "      <th>DISEASE GROUPING 2</th>\n",
              "      <td>0.196347</td>\n",
              "      <td>1.000000</td>\n",
              "      <td>0.084392</td>\n",
              "      <td>0.114818</td>\n",
              "      <td>0.112878</td>\n",
              "      <td>0.032173</td>\n",
              "      <td>0.118516</td>\n",
              "      <td>0.139947</td>\n",
              "      <td>0.068432</td>\n",
              "      <td>0.032245</td>\n",
              "      <td>...</td>\n",
              "      <td>0.014222</td>\n",
              "      <td>0.001618</td>\n",
              "      <td>0.024705</td>\n",
              "      <td>0.085122</td>\n",
              "      <td>0.070419</td>\n",
              "      <td>0.016917</td>\n",
              "      <td>0.005102</td>\n",
              "      <td>0.003487</td>\n",
              "      <td>0.024682</td>\n",
              "      <td>0.099019</td>\n",
              "    </tr>\n",
              "    <tr>\n",
              "      <th>DISEASE GROUPING 3</th>\n",
              "      <td>0.278271</td>\n",
              "      <td>0.084392</td>\n",
              "      <td>1.000000</td>\n",
              "      <td>0.308875</td>\n",
              "      <td>0.293259</td>\n",
              "      <td>0.275760</td>\n",
              "      <td>0.471039</td>\n",
              "      <td>0.075599</td>\n",
              "      <td>0.141903</td>\n",
              "      <td>0.035719</td>\n",
              "      <td>...</td>\n",
              "      <td>0.015035</td>\n",
              "      <td>0.013900</td>\n",
              "      <td>0.000746</td>\n",
              "      <td>0.005011</td>\n",
              "      <td>0.004373</td>\n",
              "      <td>0.020683</td>\n",
              "      <td>0.011633</td>\n",
              "      <td>0.008895</td>\n",
              "      <td>0.003183</td>\n",
              "      <td>0.006110</td>\n",
              "    </tr>\n",
              "    <tr>\n",
              "      <th>DISEASE GROUPING 4</th>\n",
              "      <td>0.017529</td>\n",
              "      <td>0.114818</td>\n",
              "      <td>0.308875</td>\n",
              "      <td>1.000000</td>\n",
              "      <td>0.128287</td>\n",
              "      <td>0.171438</td>\n",
              "      <td>0.136472</td>\n",
              "      <td>0.103100</td>\n",
              "      <td>0.063919</td>\n",
              "      <td>0.049593</td>\n",
              "      <td>...</td>\n",
              "      <td>0.023554</td>\n",
              "      <td>0.016131</td>\n",
              "      <td>0.032550</td>\n",
              "      <td>0.026121</td>\n",
              "      <td>0.043714</td>\n",
              "      <td>0.029596</td>\n",
              "      <td>0.034997</td>\n",
              "      <td>0.023616</td>\n",
              "      <td>0.034426</td>\n",
              "      <td>0.025072</td>\n",
              "    </tr>\n",
              "    <tr>\n",
              "      <th>DISEASE GROUPING 5</th>\n",
              "      <td>0.340370</td>\n",
              "      <td>0.112878</td>\n",
              "      <td>0.293259</td>\n",
              "      <td>0.128287</td>\n",
              "      <td>1.000000</td>\n",
              "      <td>0.129836</td>\n",
              "      <td>0.459169</td>\n",
              "      <td>0.108849</td>\n",
              "      <td>0.149025</td>\n",
              "      <td>0.082353</td>\n",
              "      <td>...</td>\n",
              "      <td>0.011404</td>\n",
              "      <td>0.045482</td>\n",
              "      <td>0.081749</td>\n",
              "      <td>0.098081</td>\n",
              "      <td>0.017232</td>\n",
              "      <td>0.059434</td>\n",
              "      <td>0.045113</td>\n",
              "      <td>0.058564</td>\n",
              "      <td>0.080693</td>\n",
              "      <td>0.097014</td>\n",
              "    </tr>\n",
              "    <tr>\n",
              "      <th>...</th>\n",
              "      <td>...</td>\n",
              "      <td>...</td>\n",
              "      <td>...</td>\n",
              "      <td>...</td>\n",
              "      <td>...</td>\n",
              "      <td>...</td>\n",
              "      <td>...</td>\n",
              "      <td>...</td>\n",
              "      <td>...</td>\n",
              "      <td>...</td>\n",
              "      <td>...</td>\n",
              "      <td>...</td>\n",
              "      <td>...</td>\n",
              "      <td>...</td>\n",
              "      <td>...</td>\n",
              "      <td>...</td>\n",
              "      <td>...</td>\n",
              "      <td>...</td>\n",
              "      <td>...</td>\n",
              "      <td>...</td>\n",
              "      <td>...</td>\n",
              "    </tr>\n",
              "    <tr>\n",
              "      <th>BLOODPRESSURE_SISTOLIC_DIFF_REL</th>\n",
              "      <td>0.054745</td>\n",
              "      <td>0.016917</td>\n",
              "      <td>0.020683</td>\n",
              "      <td>0.029596</td>\n",
              "      <td>0.059434</td>\n",
              "      <td>0.003571</td>\n",
              "      <td>0.009490</td>\n",
              "      <td>0.028020</td>\n",
              "      <td>0.040651</td>\n",
              "      <td>0.056603</td>\n",
              "      <td>...</td>\n",
              "      <td>0.371623</td>\n",
              "      <td>0.366943</td>\n",
              "      <td>0.425505</td>\n",
              "      <td>0.483904</td>\n",
              "      <td>0.779557</td>\n",
              "      <td>1.000000</td>\n",
              "      <td>0.418624</td>\n",
              "      <td>0.421228</td>\n",
              "      <td>0.422108</td>\n",
              "      <td>0.479010</td>\n",
              "    </tr>\n",
              "    <tr>\n",
              "      <th>HEART_RATE_DIFF_REL</th>\n",
              "      <td>0.093512</td>\n",
              "      <td>0.005102</td>\n",
              "      <td>0.011633</td>\n",
              "      <td>0.034997</td>\n",
              "      <td>0.045113</td>\n",
              "      <td>0.018891</td>\n",
              "      <td>0.073639</td>\n",
              "      <td>0.015522</td>\n",
              "      <td>0.064229</td>\n",
              "      <td>0.046781</td>\n",
              "      <td>...</td>\n",
              "      <td>0.949914</td>\n",
              "      <td>0.320962</td>\n",
              "      <td>0.362021</td>\n",
              "      <td>0.360456</td>\n",
              "      <td>0.373031</td>\n",
              "      <td>0.418624</td>\n",
              "      <td>1.000000</td>\n",
              "      <td>0.343703</td>\n",
              "      <td>0.364743</td>\n",
              "      <td>0.350001</td>\n",
              "    </tr>\n",
              "    <tr>\n",
              "      <th>RESPIRATORY_RATE_DIFF_REL</th>\n",
              "      <td>0.052568</td>\n",
              "      <td>0.003487</td>\n",
              "      <td>0.008895</td>\n",
              "      <td>0.023616</td>\n",
              "      <td>0.058564</td>\n",
              "      <td>0.049022</td>\n",
              "      <td>0.045665</td>\n",
              "      <td>0.019384</td>\n",
              "      <td>0.071270</td>\n",
              "      <td>0.029099</td>\n",
              "      <td>...</td>\n",
              "      <td>0.293907</td>\n",
              "      <td>0.961739</td>\n",
              "      <td>0.316620</td>\n",
              "      <td>0.349747</td>\n",
              "      <td>0.349866</td>\n",
              "      <td>0.421228</td>\n",
              "      <td>0.343703</td>\n",
              "      <td>1.000000</td>\n",
              "      <td>0.313204</td>\n",
              "      <td>0.342852</td>\n",
              "    </tr>\n",
              "    <tr>\n",
              "      <th>TEMPERATURE_DIFF_REL</th>\n",
              "      <td>0.039692</td>\n",
              "      <td>0.024682</td>\n",
              "      <td>0.003183</td>\n",
              "      <td>0.034426</td>\n",
              "      <td>0.080693</td>\n",
              "      <td>0.005691</td>\n",
              "      <td>0.031264</td>\n",
              "      <td>0.008243</td>\n",
              "      <td>0.018162</td>\n",
              "      <td>0.061337</td>\n",
              "      <td>...</td>\n",
              "      <td>0.298203</td>\n",
              "      <td>0.282514</td>\n",
              "      <td>0.999444</td>\n",
              "      <td>0.503937</td>\n",
              "      <td>0.356403</td>\n",
              "      <td>0.422108</td>\n",
              "      <td>0.364743</td>\n",
              "      <td>0.313204</td>\n",
              "      <td>1.000000</td>\n",
              "      <td>0.493818</td>\n",
              "    </tr>\n",
              "    <tr>\n",
              "      <th>OXYGEN_SATURATION_DIFF_REL</th>\n",
              "      <td>0.056984</td>\n",
              "      <td>0.099019</td>\n",
              "      <td>0.006110</td>\n",
              "      <td>0.025072</td>\n",
              "      <td>0.097014</td>\n",
              "      <td>0.033472</td>\n",
              "      <td>0.017082</td>\n",
              "      <td>0.066648</td>\n",
              "      <td>0.021307</td>\n",
              "      <td>0.059000</td>\n",
              "      <td>...</td>\n",
              "      <td>0.295380</td>\n",
              "      <td>0.325973</td>\n",
              "      <td>0.497784</td>\n",
              "      <td>0.998889</td>\n",
              "      <td>0.521889</td>\n",
              "      <td>0.479010</td>\n",
              "      <td>0.350001</td>\n",
              "      <td>0.342852</td>\n",
              "      <td>0.493818</td>\n",
              "      <td>1.000000</td>\n",
              "    </tr>\n",
              "  </tbody>\n",
              "</table>\n",
              "<p>225 rows × 225 columns</p>\n",
              "</div>"
            ],
            "text/plain": [
              "                                 DISEASE GROUPING 1  DISEASE GROUPING 2  \\\n",
              "DISEASE GROUPING 1                         1.000000            0.196347   \n",
              "DISEASE GROUPING 2                         0.196347            1.000000   \n",
              "DISEASE GROUPING 3                         0.278271            0.084392   \n",
              "DISEASE GROUPING 4                         0.017529            0.114818   \n",
              "DISEASE GROUPING 5                         0.340370            0.112878   \n",
              "...                                             ...                 ...   \n",
              "BLOODPRESSURE_SISTOLIC_DIFF_REL            0.054745            0.016917   \n",
              "HEART_RATE_DIFF_REL                        0.093512            0.005102   \n",
              "RESPIRATORY_RATE_DIFF_REL                  0.052568            0.003487   \n",
              "TEMPERATURE_DIFF_REL                       0.039692            0.024682   \n",
              "OXYGEN_SATURATION_DIFF_REL                 0.056984            0.099019   \n",
              "\n",
              "                                 DISEASE GROUPING 3  DISEASE GROUPING 4  \\\n",
              "DISEASE GROUPING 1                         0.278271            0.017529   \n",
              "DISEASE GROUPING 2                         0.084392            0.114818   \n",
              "DISEASE GROUPING 3                         1.000000            0.308875   \n",
              "DISEASE GROUPING 4                         0.308875            1.000000   \n",
              "DISEASE GROUPING 5                         0.293259            0.128287   \n",
              "...                                             ...                 ...   \n",
              "BLOODPRESSURE_SISTOLIC_DIFF_REL            0.020683            0.029596   \n",
              "HEART_RATE_DIFF_REL                        0.011633            0.034997   \n",
              "RESPIRATORY_RATE_DIFF_REL                  0.008895            0.023616   \n",
              "TEMPERATURE_DIFF_REL                       0.003183            0.034426   \n",
              "OXYGEN_SATURATION_DIFF_REL                 0.006110            0.025072   \n",
              "\n",
              "                                 DISEASE GROUPING 5  DISEASE GROUPING 6  \\\n",
              "DISEASE GROUPING 1                         0.340370            0.202849   \n",
              "DISEASE GROUPING 2                         0.112878            0.032173   \n",
              "DISEASE GROUPING 3                         0.293259            0.275760   \n",
              "DISEASE GROUPING 4                         0.128287            0.171438   \n",
              "DISEASE GROUPING 5                         1.000000            0.129836   \n",
              "...                                             ...                 ...   \n",
              "BLOODPRESSURE_SISTOLIC_DIFF_REL            0.059434            0.003571   \n",
              "HEART_RATE_DIFF_REL                        0.045113            0.018891   \n",
              "RESPIRATORY_RATE_DIFF_REL                  0.058564            0.049022   \n",
              "TEMPERATURE_DIFF_REL                       0.080693            0.005691   \n",
              "OXYGEN_SATURATION_DIFF_REL                 0.097014            0.033472   \n",
              "\n",
              "                                      HTN  IMMUNOCOMPROMISED     OTHER  \\\n",
              "DISEASE GROUPING 1               0.489245           0.176224  0.153793   \n",
              "DISEASE GROUPING 2               0.118516           0.139947  0.068432   \n",
              "DISEASE GROUPING 3               0.471039           0.075599  0.141903   \n",
              "DISEASE GROUPING 4               0.136472           0.103100  0.063919   \n",
              "DISEASE GROUPING 5               0.459169           0.108849  0.149025   \n",
              "...                                   ...                ...       ...   \n",
              "BLOODPRESSURE_SISTOLIC_DIFF_REL  0.009490           0.028020  0.040651   \n",
              "HEART_RATE_DIFF_REL              0.073639           0.015522  0.064229   \n",
              "RESPIRATORY_RATE_DIFF_REL        0.045665           0.019384  0.071270   \n",
              "TEMPERATURE_DIFF_REL             0.031264           0.008243  0.018162   \n",
              "OXYGEN_SATURATION_DIFF_REL       0.017082           0.066648  0.021307   \n",
              "\n",
              "                                 ALBUMIN_MEDIAN  ...  HEART_RATE_DIFF  \\\n",
              "DISEASE GROUPING 1                     0.009174  ...         0.129220   \n",
              "DISEASE GROUPING 2                     0.032245  ...         0.014222   \n",
              "DISEASE GROUPING 3                     0.035719  ...         0.015035   \n",
              "DISEASE GROUPING 4                     0.049593  ...         0.023554   \n",
              "DISEASE GROUPING 5                     0.082353  ...         0.011404   \n",
              "...                                         ...  ...              ...   \n",
              "BLOODPRESSURE_SISTOLIC_DIFF_REL        0.056603  ...         0.371623   \n",
              "HEART_RATE_DIFF_REL                    0.046781  ...         0.949914   \n",
              "RESPIRATORY_RATE_DIFF_REL              0.029099  ...         0.293907   \n",
              "TEMPERATURE_DIFF_REL                   0.061337  ...         0.298203   \n",
              "OXYGEN_SATURATION_DIFF_REL             0.059000  ...         0.295380   \n",
              "\n",
              "                                 RESPIRATORY_RATE_DIFF  TEMPERATURE_DIFF  \\\n",
              "DISEASE GROUPING 1                            0.028964          0.041099   \n",
              "DISEASE GROUPING 2                            0.001618          0.024705   \n",
              "DISEASE GROUPING 3                            0.013900          0.000746   \n",
              "DISEASE GROUPING 4                            0.016131          0.032550   \n",
              "DISEASE GROUPING 5                            0.045482          0.081749   \n",
              "...                                                ...               ...   \n",
              "BLOODPRESSURE_SISTOLIC_DIFF_REL               0.366943          0.425505   \n",
              "HEART_RATE_DIFF_REL                           0.320962          0.362021   \n",
              "RESPIRATORY_RATE_DIFF_REL                     0.961739          0.316620   \n",
              "TEMPERATURE_DIFF_REL                          0.282514          0.999444   \n",
              "OXYGEN_SATURATION_DIFF_REL                    0.325973          0.497784   \n",
              "\n",
              "                                 OXYGEN_SATURATION_DIFF  \\\n",
              "DISEASE GROUPING 1                             0.056287   \n",
              "DISEASE GROUPING 2                             0.085122   \n",
              "DISEASE GROUPING 3                             0.005011   \n",
              "DISEASE GROUPING 4                             0.026121   \n",
              "DISEASE GROUPING 5                             0.098081   \n",
              "...                                                 ...   \n",
              "BLOODPRESSURE_SISTOLIC_DIFF_REL                0.483904   \n",
              "HEART_RATE_DIFF_REL                            0.360456   \n",
              "RESPIRATORY_RATE_DIFF_REL                      0.349747   \n",
              "TEMPERATURE_DIFF_REL                           0.503937   \n",
              "OXYGEN_SATURATION_DIFF_REL                     0.998889   \n",
              "\n",
              "                                 BLOODPRESSURE_DIASTOLIC_DIFF_REL  \\\n",
              "DISEASE GROUPING 1                                       0.050070   \n",
              "DISEASE GROUPING 2                                       0.070419   \n",
              "DISEASE GROUPING 3                                       0.004373   \n",
              "DISEASE GROUPING 4                                       0.043714   \n",
              "DISEASE GROUPING 5                                       0.017232   \n",
              "...                                                           ...   \n",
              "BLOODPRESSURE_SISTOLIC_DIFF_REL                          0.779557   \n",
              "HEART_RATE_DIFF_REL                                      0.373031   \n",
              "RESPIRATORY_RATE_DIFF_REL                                0.349866   \n",
              "TEMPERATURE_DIFF_REL                                     0.356403   \n",
              "OXYGEN_SATURATION_DIFF_REL                               0.521889   \n",
              "\n",
              "                                 BLOODPRESSURE_SISTOLIC_DIFF_REL  \\\n",
              "DISEASE GROUPING 1                                      0.054745   \n",
              "DISEASE GROUPING 2                                      0.016917   \n",
              "DISEASE GROUPING 3                                      0.020683   \n",
              "DISEASE GROUPING 4                                      0.029596   \n",
              "DISEASE GROUPING 5                                      0.059434   \n",
              "...                                                          ...   \n",
              "BLOODPRESSURE_SISTOLIC_DIFF_REL                         1.000000   \n",
              "HEART_RATE_DIFF_REL                                     0.418624   \n",
              "RESPIRATORY_RATE_DIFF_REL                               0.421228   \n",
              "TEMPERATURE_DIFF_REL                                    0.422108   \n",
              "OXYGEN_SATURATION_DIFF_REL                              0.479010   \n",
              "\n",
              "                                 HEART_RATE_DIFF_REL  \\\n",
              "DISEASE GROUPING 1                          0.093512   \n",
              "DISEASE GROUPING 2                          0.005102   \n",
              "DISEASE GROUPING 3                          0.011633   \n",
              "DISEASE GROUPING 4                          0.034997   \n",
              "DISEASE GROUPING 5                          0.045113   \n",
              "...                                              ...   \n",
              "BLOODPRESSURE_SISTOLIC_DIFF_REL             0.418624   \n",
              "HEART_RATE_DIFF_REL                         1.000000   \n",
              "RESPIRATORY_RATE_DIFF_REL                   0.343703   \n",
              "TEMPERATURE_DIFF_REL                        0.364743   \n",
              "OXYGEN_SATURATION_DIFF_REL                  0.350001   \n",
              "\n",
              "                                 RESPIRATORY_RATE_DIFF_REL  \\\n",
              "DISEASE GROUPING 1                                0.052568   \n",
              "DISEASE GROUPING 2                                0.003487   \n",
              "DISEASE GROUPING 3                                0.008895   \n",
              "DISEASE GROUPING 4                                0.023616   \n",
              "DISEASE GROUPING 5                                0.058564   \n",
              "...                                                    ...   \n",
              "BLOODPRESSURE_SISTOLIC_DIFF_REL                   0.421228   \n",
              "HEART_RATE_DIFF_REL                               0.343703   \n",
              "RESPIRATORY_RATE_DIFF_REL                         1.000000   \n",
              "TEMPERATURE_DIFF_REL                              0.313204   \n",
              "OXYGEN_SATURATION_DIFF_REL                        0.342852   \n",
              "\n",
              "                                 TEMPERATURE_DIFF_REL  \\\n",
              "DISEASE GROUPING 1                           0.039692   \n",
              "DISEASE GROUPING 2                           0.024682   \n",
              "DISEASE GROUPING 3                           0.003183   \n",
              "DISEASE GROUPING 4                           0.034426   \n",
              "DISEASE GROUPING 5                           0.080693   \n",
              "...                                               ...   \n",
              "BLOODPRESSURE_SISTOLIC_DIFF_REL              0.422108   \n",
              "HEART_RATE_DIFF_REL                          0.364743   \n",
              "RESPIRATORY_RATE_DIFF_REL                    0.313204   \n",
              "TEMPERATURE_DIFF_REL                         1.000000   \n",
              "OXYGEN_SATURATION_DIFF_REL                   0.493818   \n",
              "\n",
              "                                 OXYGEN_SATURATION_DIFF_REL  \n",
              "DISEASE GROUPING 1                                 0.056984  \n",
              "DISEASE GROUPING 2                                 0.099019  \n",
              "DISEASE GROUPING 3                                 0.006110  \n",
              "DISEASE GROUPING 4                                 0.025072  \n",
              "DISEASE GROUPING 5                                 0.097014  \n",
              "...                                                     ...  \n",
              "BLOODPRESSURE_SISTOLIC_DIFF_REL                    0.479010  \n",
              "HEART_RATE_DIFF_REL                                0.350001  \n",
              "RESPIRATORY_RATE_DIFF_REL                          0.342852  \n",
              "TEMPERATURE_DIFF_REL                               0.493818  \n",
              "OXYGEN_SATURATION_DIFF_REL                         1.000000  \n",
              "\n",
              "[225 rows x 225 columns]"
            ]
          },
          "metadata": {
            "tags": []
          },
          "execution_count": 101
        }
      ]
    },
    {
      "cell_type": "code",
      "metadata": {
        "id": "ug-UNWyu7Rrx",
        "outputId": "94ad0343-1fa8-4e12-e03d-cfbec710cf45"
      },
      "source": [
        "#Primeiro vamos localizar todos os valores = 1 para retirar a diagonal principal e também iremos eliminar o\n",
        "#triângulo abaixo da diagonal principal.\n",
        "\n",
        "np.triu(np.ones(matriz_corr.shape), k=1).astype(np.bool)"
      ],
      "execution_count": null,
      "outputs": [
        {
          "output_type": "execute_result",
          "data": {
            "text/plain": [
              "array([[False,  True,  True, ...,  True,  True,  True],\n",
              "       [False, False,  True, ...,  True,  True,  True],\n",
              "       [False, False, False, ...,  True,  True,  True],\n",
              "       ...,\n",
              "       [False, False, False, ..., False,  True,  True],\n",
              "       [False, False, False, ..., False, False,  True],\n",
              "       [False, False, False, ..., False, False, False]])"
            ]
          },
          "metadata": {
            "tags": []
          },
          "execution_count": 103
        }
      ]
    },
    {
      "cell_type": "code",
      "metadata": {
        "id": "RGFrrRGL7Rry",
        "outputId": "4e489e6f-134b-47c5-8e52-9ddfe7cb25f5"
      },
      "source": [
        "#Aplicando essa matriz de false e true na matriz de correlação:\n",
        "\n",
        "matriz_corr.where(np.triu(np.ones(matriz_corr.shape), k=1).astype(np.bool))"
      ],
      "execution_count": null,
      "outputs": [
        {
          "output_type": "execute_result",
          "data": {
            "text/html": [
              "<div>\n",
              "<style scoped>\n",
              "    .dataframe tbody tr th:only-of-type {\n",
              "        vertical-align: middle;\n",
              "    }\n",
              "\n",
              "    .dataframe tbody tr th {\n",
              "        vertical-align: top;\n",
              "    }\n",
              "\n",
              "    .dataframe thead th {\n",
              "        text-align: right;\n",
              "    }\n",
              "</style>\n",
              "<table border=\"1\" class=\"dataframe\">\n",
              "  <thead>\n",
              "    <tr style=\"text-align: right;\">\n",
              "      <th></th>\n",
              "      <th>DISEASE GROUPING 1</th>\n",
              "      <th>DISEASE GROUPING 2</th>\n",
              "      <th>DISEASE GROUPING 3</th>\n",
              "      <th>DISEASE GROUPING 4</th>\n",
              "      <th>DISEASE GROUPING 5</th>\n",
              "      <th>DISEASE GROUPING 6</th>\n",
              "      <th>HTN</th>\n",
              "      <th>IMMUNOCOMPROMISED</th>\n",
              "      <th>OTHER</th>\n",
              "      <th>ALBUMIN_MEDIAN</th>\n",
              "      <th>...</th>\n",
              "      <th>HEART_RATE_DIFF</th>\n",
              "      <th>RESPIRATORY_RATE_DIFF</th>\n",
              "      <th>TEMPERATURE_DIFF</th>\n",
              "      <th>OXYGEN_SATURATION_DIFF</th>\n",
              "      <th>BLOODPRESSURE_DIASTOLIC_DIFF_REL</th>\n",
              "      <th>BLOODPRESSURE_SISTOLIC_DIFF_REL</th>\n",
              "      <th>HEART_RATE_DIFF_REL</th>\n",
              "      <th>RESPIRATORY_RATE_DIFF_REL</th>\n",
              "      <th>TEMPERATURE_DIFF_REL</th>\n",
              "      <th>OXYGEN_SATURATION_DIFF_REL</th>\n",
              "    </tr>\n",
              "  </thead>\n",
              "  <tbody>\n",
              "    <tr>\n",
              "      <th>DISEASE GROUPING 1</th>\n",
              "      <td>NaN</td>\n",
              "      <td>0.196347</td>\n",
              "      <td>0.278271</td>\n",
              "      <td>0.017529</td>\n",
              "      <td>0.340370</td>\n",
              "      <td>0.202849</td>\n",
              "      <td>0.489245</td>\n",
              "      <td>0.176224</td>\n",
              "      <td>0.153793</td>\n",
              "      <td>0.009174</td>\n",
              "      <td>...</td>\n",
              "      <td>0.129220</td>\n",
              "      <td>0.028964</td>\n",
              "      <td>0.041099</td>\n",
              "      <td>0.056287</td>\n",
              "      <td>0.050070</td>\n",
              "      <td>0.054745</td>\n",
              "      <td>0.093512</td>\n",
              "      <td>0.052568</td>\n",
              "      <td>0.039692</td>\n",
              "      <td>0.056984</td>\n",
              "    </tr>\n",
              "    <tr>\n",
              "      <th>DISEASE GROUPING 2</th>\n",
              "      <td>NaN</td>\n",
              "      <td>NaN</td>\n",
              "      <td>0.084392</td>\n",
              "      <td>0.114818</td>\n",
              "      <td>0.112878</td>\n",
              "      <td>0.032173</td>\n",
              "      <td>0.118516</td>\n",
              "      <td>0.139947</td>\n",
              "      <td>0.068432</td>\n",
              "      <td>0.032245</td>\n",
              "      <td>...</td>\n",
              "      <td>0.014222</td>\n",
              "      <td>0.001618</td>\n",
              "      <td>0.024705</td>\n",
              "      <td>0.085122</td>\n",
              "      <td>0.070419</td>\n",
              "      <td>0.016917</td>\n",
              "      <td>0.005102</td>\n",
              "      <td>0.003487</td>\n",
              "      <td>0.024682</td>\n",
              "      <td>0.099019</td>\n",
              "    </tr>\n",
              "    <tr>\n",
              "      <th>DISEASE GROUPING 3</th>\n",
              "      <td>NaN</td>\n",
              "      <td>NaN</td>\n",
              "      <td>NaN</td>\n",
              "      <td>0.308875</td>\n",
              "      <td>0.293259</td>\n",
              "      <td>0.275760</td>\n",
              "      <td>0.471039</td>\n",
              "      <td>0.075599</td>\n",
              "      <td>0.141903</td>\n",
              "      <td>0.035719</td>\n",
              "      <td>...</td>\n",
              "      <td>0.015035</td>\n",
              "      <td>0.013900</td>\n",
              "      <td>0.000746</td>\n",
              "      <td>0.005011</td>\n",
              "      <td>0.004373</td>\n",
              "      <td>0.020683</td>\n",
              "      <td>0.011633</td>\n",
              "      <td>0.008895</td>\n",
              "      <td>0.003183</td>\n",
              "      <td>0.006110</td>\n",
              "    </tr>\n",
              "    <tr>\n",
              "      <th>DISEASE GROUPING 4</th>\n",
              "      <td>NaN</td>\n",
              "      <td>NaN</td>\n",
              "      <td>NaN</td>\n",
              "      <td>NaN</td>\n",
              "      <td>0.128287</td>\n",
              "      <td>0.171438</td>\n",
              "      <td>0.136472</td>\n",
              "      <td>0.103100</td>\n",
              "      <td>0.063919</td>\n",
              "      <td>0.049593</td>\n",
              "      <td>...</td>\n",
              "      <td>0.023554</td>\n",
              "      <td>0.016131</td>\n",
              "      <td>0.032550</td>\n",
              "      <td>0.026121</td>\n",
              "      <td>0.043714</td>\n",
              "      <td>0.029596</td>\n",
              "      <td>0.034997</td>\n",
              "      <td>0.023616</td>\n",
              "      <td>0.034426</td>\n",
              "      <td>0.025072</td>\n",
              "    </tr>\n",
              "    <tr>\n",
              "      <th>DISEASE GROUPING 5</th>\n",
              "      <td>NaN</td>\n",
              "      <td>NaN</td>\n",
              "      <td>NaN</td>\n",
              "      <td>NaN</td>\n",
              "      <td>NaN</td>\n",
              "      <td>0.129836</td>\n",
              "      <td>0.459169</td>\n",
              "      <td>0.108849</td>\n",
              "      <td>0.149025</td>\n",
              "      <td>0.082353</td>\n",
              "      <td>...</td>\n",
              "      <td>0.011404</td>\n",
              "      <td>0.045482</td>\n",
              "      <td>0.081749</td>\n",
              "      <td>0.098081</td>\n",
              "      <td>0.017232</td>\n",
              "      <td>0.059434</td>\n",
              "      <td>0.045113</td>\n",
              "      <td>0.058564</td>\n",
              "      <td>0.080693</td>\n",
              "      <td>0.097014</td>\n",
              "    </tr>\n",
              "    <tr>\n",
              "      <th>...</th>\n",
              "      <td>...</td>\n",
              "      <td>...</td>\n",
              "      <td>...</td>\n",
              "      <td>...</td>\n",
              "      <td>...</td>\n",
              "      <td>...</td>\n",
              "      <td>...</td>\n",
              "      <td>...</td>\n",
              "      <td>...</td>\n",
              "      <td>...</td>\n",
              "      <td>...</td>\n",
              "      <td>...</td>\n",
              "      <td>...</td>\n",
              "      <td>...</td>\n",
              "      <td>...</td>\n",
              "      <td>...</td>\n",
              "      <td>...</td>\n",
              "      <td>...</td>\n",
              "      <td>...</td>\n",
              "      <td>...</td>\n",
              "      <td>...</td>\n",
              "    </tr>\n",
              "    <tr>\n",
              "      <th>BLOODPRESSURE_SISTOLIC_DIFF_REL</th>\n",
              "      <td>NaN</td>\n",
              "      <td>NaN</td>\n",
              "      <td>NaN</td>\n",
              "      <td>NaN</td>\n",
              "      <td>NaN</td>\n",
              "      <td>NaN</td>\n",
              "      <td>NaN</td>\n",
              "      <td>NaN</td>\n",
              "      <td>NaN</td>\n",
              "      <td>NaN</td>\n",
              "      <td>...</td>\n",
              "      <td>NaN</td>\n",
              "      <td>NaN</td>\n",
              "      <td>NaN</td>\n",
              "      <td>NaN</td>\n",
              "      <td>NaN</td>\n",
              "      <td>NaN</td>\n",
              "      <td>0.418624</td>\n",
              "      <td>0.421228</td>\n",
              "      <td>0.422108</td>\n",
              "      <td>0.479010</td>\n",
              "    </tr>\n",
              "    <tr>\n",
              "      <th>HEART_RATE_DIFF_REL</th>\n",
              "      <td>NaN</td>\n",
              "      <td>NaN</td>\n",
              "      <td>NaN</td>\n",
              "      <td>NaN</td>\n",
              "      <td>NaN</td>\n",
              "      <td>NaN</td>\n",
              "      <td>NaN</td>\n",
              "      <td>NaN</td>\n",
              "      <td>NaN</td>\n",
              "      <td>NaN</td>\n",
              "      <td>...</td>\n",
              "      <td>NaN</td>\n",
              "      <td>NaN</td>\n",
              "      <td>NaN</td>\n",
              "      <td>NaN</td>\n",
              "      <td>NaN</td>\n",
              "      <td>NaN</td>\n",
              "      <td>NaN</td>\n",
              "      <td>0.343703</td>\n",
              "      <td>0.364743</td>\n",
              "      <td>0.350001</td>\n",
              "    </tr>\n",
              "    <tr>\n",
              "      <th>RESPIRATORY_RATE_DIFF_REL</th>\n",
              "      <td>NaN</td>\n",
              "      <td>NaN</td>\n",
              "      <td>NaN</td>\n",
              "      <td>NaN</td>\n",
              "      <td>NaN</td>\n",
              "      <td>NaN</td>\n",
              "      <td>NaN</td>\n",
              "      <td>NaN</td>\n",
              "      <td>NaN</td>\n",
              "      <td>NaN</td>\n",
              "      <td>...</td>\n",
              "      <td>NaN</td>\n",
              "      <td>NaN</td>\n",
              "      <td>NaN</td>\n",
              "      <td>NaN</td>\n",
              "      <td>NaN</td>\n",
              "      <td>NaN</td>\n",
              "      <td>NaN</td>\n",
              "      <td>NaN</td>\n",
              "      <td>0.313204</td>\n",
              "      <td>0.342852</td>\n",
              "    </tr>\n",
              "    <tr>\n",
              "      <th>TEMPERATURE_DIFF_REL</th>\n",
              "      <td>NaN</td>\n",
              "      <td>NaN</td>\n",
              "      <td>NaN</td>\n",
              "      <td>NaN</td>\n",
              "      <td>NaN</td>\n",
              "      <td>NaN</td>\n",
              "      <td>NaN</td>\n",
              "      <td>NaN</td>\n",
              "      <td>NaN</td>\n",
              "      <td>NaN</td>\n",
              "      <td>...</td>\n",
              "      <td>NaN</td>\n",
              "      <td>NaN</td>\n",
              "      <td>NaN</td>\n",
              "      <td>NaN</td>\n",
              "      <td>NaN</td>\n",
              "      <td>NaN</td>\n",
              "      <td>NaN</td>\n",
              "      <td>NaN</td>\n",
              "      <td>NaN</td>\n",
              "      <td>0.493818</td>\n",
              "    </tr>\n",
              "    <tr>\n",
              "      <th>OXYGEN_SATURATION_DIFF_REL</th>\n",
              "      <td>NaN</td>\n",
              "      <td>NaN</td>\n",
              "      <td>NaN</td>\n",
              "      <td>NaN</td>\n",
              "      <td>NaN</td>\n",
              "      <td>NaN</td>\n",
              "      <td>NaN</td>\n",
              "      <td>NaN</td>\n",
              "      <td>NaN</td>\n",
              "      <td>NaN</td>\n",
              "      <td>...</td>\n",
              "      <td>NaN</td>\n",
              "      <td>NaN</td>\n",
              "      <td>NaN</td>\n",
              "      <td>NaN</td>\n",
              "      <td>NaN</td>\n",
              "      <td>NaN</td>\n",
              "      <td>NaN</td>\n",
              "      <td>NaN</td>\n",
              "      <td>NaN</td>\n",
              "      <td>NaN</td>\n",
              "    </tr>\n",
              "  </tbody>\n",
              "</table>\n",
              "<p>225 rows × 225 columns</p>\n",
              "</div>"
            ],
            "text/plain": [
              "                                 DISEASE GROUPING 1  DISEASE GROUPING 2  \\\n",
              "DISEASE GROUPING 1                              NaN            0.196347   \n",
              "DISEASE GROUPING 2                              NaN                 NaN   \n",
              "DISEASE GROUPING 3                              NaN                 NaN   \n",
              "DISEASE GROUPING 4                              NaN                 NaN   \n",
              "DISEASE GROUPING 5                              NaN                 NaN   \n",
              "...                                             ...                 ...   \n",
              "BLOODPRESSURE_SISTOLIC_DIFF_REL                 NaN                 NaN   \n",
              "HEART_RATE_DIFF_REL                             NaN                 NaN   \n",
              "RESPIRATORY_RATE_DIFF_REL                       NaN                 NaN   \n",
              "TEMPERATURE_DIFF_REL                            NaN                 NaN   \n",
              "OXYGEN_SATURATION_DIFF_REL                      NaN                 NaN   \n",
              "\n",
              "                                 DISEASE GROUPING 3  DISEASE GROUPING 4  \\\n",
              "DISEASE GROUPING 1                         0.278271            0.017529   \n",
              "DISEASE GROUPING 2                         0.084392            0.114818   \n",
              "DISEASE GROUPING 3                              NaN            0.308875   \n",
              "DISEASE GROUPING 4                              NaN                 NaN   \n",
              "DISEASE GROUPING 5                              NaN                 NaN   \n",
              "...                                             ...                 ...   \n",
              "BLOODPRESSURE_SISTOLIC_DIFF_REL                 NaN                 NaN   \n",
              "HEART_RATE_DIFF_REL                             NaN                 NaN   \n",
              "RESPIRATORY_RATE_DIFF_REL                       NaN                 NaN   \n",
              "TEMPERATURE_DIFF_REL                            NaN                 NaN   \n",
              "OXYGEN_SATURATION_DIFF_REL                      NaN                 NaN   \n",
              "\n",
              "                                 DISEASE GROUPING 5  DISEASE GROUPING 6  \\\n",
              "DISEASE GROUPING 1                         0.340370            0.202849   \n",
              "DISEASE GROUPING 2                         0.112878            0.032173   \n",
              "DISEASE GROUPING 3                         0.293259            0.275760   \n",
              "DISEASE GROUPING 4                         0.128287            0.171438   \n",
              "DISEASE GROUPING 5                              NaN            0.129836   \n",
              "...                                             ...                 ...   \n",
              "BLOODPRESSURE_SISTOLIC_DIFF_REL                 NaN                 NaN   \n",
              "HEART_RATE_DIFF_REL                             NaN                 NaN   \n",
              "RESPIRATORY_RATE_DIFF_REL                       NaN                 NaN   \n",
              "TEMPERATURE_DIFF_REL                            NaN                 NaN   \n",
              "OXYGEN_SATURATION_DIFF_REL                      NaN                 NaN   \n",
              "\n",
              "                                      HTN  IMMUNOCOMPROMISED     OTHER  \\\n",
              "DISEASE GROUPING 1               0.489245           0.176224  0.153793   \n",
              "DISEASE GROUPING 2               0.118516           0.139947  0.068432   \n",
              "DISEASE GROUPING 3               0.471039           0.075599  0.141903   \n",
              "DISEASE GROUPING 4               0.136472           0.103100  0.063919   \n",
              "DISEASE GROUPING 5               0.459169           0.108849  0.149025   \n",
              "...                                   ...                ...       ...   \n",
              "BLOODPRESSURE_SISTOLIC_DIFF_REL       NaN                NaN       NaN   \n",
              "HEART_RATE_DIFF_REL                   NaN                NaN       NaN   \n",
              "RESPIRATORY_RATE_DIFF_REL             NaN                NaN       NaN   \n",
              "TEMPERATURE_DIFF_REL                  NaN                NaN       NaN   \n",
              "OXYGEN_SATURATION_DIFF_REL            NaN                NaN       NaN   \n",
              "\n",
              "                                 ALBUMIN_MEDIAN  ...  HEART_RATE_DIFF  \\\n",
              "DISEASE GROUPING 1                     0.009174  ...         0.129220   \n",
              "DISEASE GROUPING 2                     0.032245  ...         0.014222   \n",
              "DISEASE GROUPING 3                     0.035719  ...         0.015035   \n",
              "DISEASE GROUPING 4                     0.049593  ...         0.023554   \n",
              "DISEASE GROUPING 5                     0.082353  ...         0.011404   \n",
              "...                                         ...  ...              ...   \n",
              "BLOODPRESSURE_SISTOLIC_DIFF_REL             NaN  ...              NaN   \n",
              "HEART_RATE_DIFF_REL                         NaN  ...              NaN   \n",
              "RESPIRATORY_RATE_DIFF_REL                   NaN  ...              NaN   \n",
              "TEMPERATURE_DIFF_REL                        NaN  ...              NaN   \n",
              "OXYGEN_SATURATION_DIFF_REL                  NaN  ...              NaN   \n",
              "\n",
              "                                 RESPIRATORY_RATE_DIFF  TEMPERATURE_DIFF  \\\n",
              "DISEASE GROUPING 1                            0.028964          0.041099   \n",
              "DISEASE GROUPING 2                            0.001618          0.024705   \n",
              "DISEASE GROUPING 3                            0.013900          0.000746   \n",
              "DISEASE GROUPING 4                            0.016131          0.032550   \n",
              "DISEASE GROUPING 5                            0.045482          0.081749   \n",
              "...                                                ...               ...   \n",
              "BLOODPRESSURE_SISTOLIC_DIFF_REL                    NaN               NaN   \n",
              "HEART_RATE_DIFF_REL                                NaN               NaN   \n",
              "RESPIRATORY_RATE_DIFF_REL                          NaN               NaN   \n",
              "TEMPERATURE_DIFF_REL                               NaN               NaN   \n",
              "OXYGEN_SATURATION_DIFF_REL                         NaN               NaN   \n",
              "\n",
              "                                 OXYGEN_SATURATION_DIFF  \\\n",
              "DISEASE GROUPING 1                             0.056287   \n",
              "DISEASE GROUPING 2                             0.085122   \n",
              "DISEASE GROUPING 3                             0.005011   \n",
              "DISEASE GROUPING 4                             0.026121   \n",
              "DISEASE GROUPING 5                             0.098081   \n",
              "...                                                 ...   \n",
              "BLOODPRESSURE_SISTOLIC_DIFF_REL                     NaN   \n",
              "HEART_RATE_DIFF_REL                                 NaN   \n",
              "RESPIRATORY_RATE_DIFF_REL                           NaN   \n",
              "TEMPERATURE_DIFF_REL                                NaN   \n",
              "OXYGEN_SATURATION_DIFF_REL                          NaN   \n",
              "\n",
              "                                 BLOODPRESSURE_DIASTOLIC_DIFF_REL  \\\n",
              "DISEASE GROUPING 1                                       0.050070   \n",
              "DISEASE GROUPING 2                                       0.070419   \n",
              "DISEASE GROUPING 3                                       0.004373   \n",
              "DISEASE GROUPING 4                                       0.043714   \n",
              "DISEASE GROUPING 5                                       0.017232   \n",
              "...                                                           ...   \n",
              "BLOODPRESSURE_SISTOLIC_DIFF_REL                               NaN   \n",
              "HEART_RATE_DIFF_REL                                           NaN   \n",
              "RESPIRATORY_RATE_DIFF_REL                                     NaN   \n",
              "TEMPERATURE_DIFF_REL                                          NaN   \n",
              "OXYGEN_SATURATION_DIFF_REL                                    NaN   \n",
              "\n",
              "                                 BLOODPRESSURE_SISTOLIC_DIFF_REL  \\\n",
              "DISEASE GROUPING 1                                      0.054745   \n",
              "DISEASE GROUPING 2                                      0.016917   \n",
              "DISEASE GROUPING 3                                      0.020683   \n",
              "DISEASE GROUPING 4                                      0.029596   \n",
              "DISEASE GROUPING 5                                      0.059434   \n",
              "...                                                          ...   \n",
              "BLOODPRESSURE_SISTOLIC_DIFF_REL                              NaN   \n",
              "HEART_RATE_DIFF_REL                                          NaN   \n",
              "RESPIRATORY_RATE_DIFF_REL                                    NaN   \n",
              "TEMPERATURE_DIFF_REL                                         NaN   \n",
              "OXYGEN_SATURATION_DIFF_REL                                   NaN   \n",
              "\n",
              "                                 HEART_RATE_DIFF_REL  \\\n",
              "DISEASE GROUPING 1                          0.093512   \n",
              "DISEASE GROUPING 2                          0.005102   \n",
              "DISEASE GROUPING 3                          0.011633   \n",
              "DISEASE GROUPING 4                          0.034997   \n",
              "DISEASE GROUPING 5                          0.045113   \n",
              "...                                              ...   \n",
              "BLOODPRESSURE_SISTOLIC_DIFF_REL             0.418624   \n",
              "HEART_RATE_DIFF_REL                              NaN   \n",
              "RESPIRATORY_RATE_DIFF_REL                        NaN   \n",
              "TEMPERATURE_DIFF_REL                             NaN   \n",
              "OXYGEN_SATURATION_DIFF_REL                       NaN   \n",
              "\n",
              "                                 RESPIRATORY_RATE_DIFF_REL  \\\n",
              "DISEASE GROUPING 1                                0.052568   \n",
              "DISEASE GROUPING 2                                0.003487   \n",
              "DISEASE GROUPING 3                                0.008895   \n",
              "DISEASE GROUPING 4                                0.023616   \n",
              "DISEASE GROUPING 5                                0.058564   \n",
              "...                                                    ...   \n",
              "BLOODPRESSURE_SISTOLIC_DIFF_REL                   0.421228   \n",
              "HEART_RATE_DIFF_REL                               0.343703   \n",
              "RESPIRATORY_RATE_DIFF_REL                              NaN   \n",
              "TEMPERATURE_DIFF_REL                                   NaN   \n",
              "OXYGEN_SATURATION_DIFF_REL                             NaN   \n",
              "\n",
              "                                 TEMPERATURE_DIFF_REL  \\\n",
              "DISEASE GROUPING 1                           0.039692   \n",
              "DISEASE GROUPING 2                           0.024682   \n",
              "DISEASE GROUPING 3                           0.003183   \n",
              "DISEASE GROUPING 4                           0.034426   \n",
              "DISEASE GROUPING 5                           0.080693   \n",
              "...                                               ...   \n",
              "BLOODPRESSURE_SISTOLIC_DIFF_REL              0.422108   \n",
              "HEART_RATE_DIFF_REL                          0.364743   \n",
              "RESPIRATORY_RATE_DIFF_REL                    0.313204   \n",
              "TEMPERATURE_DIFF_REL                              NaN   \n",
              "OXYGEN_SATURATION_DIFF_REL                        NaN   \n",
              "\n",
              "                                 OXYGEN_SATURATION_DIFF_REL  \n",
              "DISEASE GROUPING 1                                 0.056984  \n",
              "DISEASE GROUPING 2                                 0.099019  \n",
              "DISEASE GROUPING 3                                 0.006110  \n",
              "DISEASE GROUPING 4                                 0.025072  \n",
              "DISEASE GROUPING 5                                 0.097014  \n",
              "...                                                     ...  \n",
              "BLOODPRESSURE_SISTOLIC_DIFF_REL                    0.479010  \n",
              "HEART_RATE_DIFF_REL                                0.350001  \n",
              "RESPIRATORY_RATE_DIFF_REL                          0.342852  \n",
              "TEMPERATURE_DIFF_REL                               0.493818  \n",
              "OXYGEN_SATURATION_DIFF_REL                              NaN  \n",
              "\n",
              "[225 rows x 225 columns]"
            ]
          },
          "metadata": {
            "tags": []
          },
          "execution_count": 104
        }
      ]
    },
    {
      "cell_type": "code",
      "metadata": {
        "id": "sfpOBNPU7Rry"
      },
      "source": [
        "matriz_upper = matriz_corr.where(np.triu(np.ones(matriz_corr.shape), k=1).astype(np.bool))\n",
        "\n",
        "#aplicando um algortimo de exclusão de colunar com valor maior que um limite agora:\n",
        "\n",
        "excluir = [coluna for coluna in matriz_upper.columns if any(matriz_upper[coluna] > alta_corr)]"
      ],
      "execution_count": null,
      "outputs": []
    },
    {
      "cell_type": "code",
      "metadata": {
        "id": "Iio11YXV7Rry"
      },
      "source": [
        "# Fazer uma função que remove dos dados passados as colunas com um valor acima do valor estipulado de corte:\n",
        "\n",
        "def remove_corr_var(dados, valor_corte):\n",
        "    matriz_corr = dados.iloc[:,4:-2].corr().abs()\n",
        "    matriz_upper = matriz_corr.where(np.triu(np.ones(matriz_corr.shape), k=1).astype(np.bool))\n",
        "    excluir = [coluna for coluna in matriz_upper.columns if any(matriz_upper[coluna] > valor_corte)]\n",
        "    \n",
        "    return dados.drop(excluir, axis=1)"
      ],
      "execution_count": null,
      "outputs": []
    },
    {
      "cell_type": "code",
      "metadata": {
        "id": "1BrbNHV47Rry"
      },
      "source": [
        "dados_limpos_semcorr = remove_corr_var(dados_limpos, 0.95)"
      ],
      "execution_count": null,
      "outputs": []
    },
    {
      "cell_type": "code",
      "metadata": {
        "id": "WbavABH77Rrz",
        "outputId": "0f6229a0-f45c-4e2c-cf19-4080db89f44d"
      },
      "source": [
        "dados_limpos_semcorr\n",
        "#sobraram 100 colunas agora"
      ],
      "execution_count": null,
      "outputs": [
        {
          "output_type": "execute_result",
          "data": {
            "text/html": [
              "<div>\n",
              "<style scoped>\n",
              "    .dataframe tbody tr th:only-of-type {\n",
              "        vertical-align: middle;\n",
              "    }\n",
              "\n",
              "    .dataframe tbody tr th {\n",
              "        vertical-align: top;\n",
              "    }\n",
              "\n",
              "    .dataframe thead th {\n",
              "        text-align: right;\n",
              "    }\n",
              "</style>\n",
              "<table border=\"1\" class=\"dataframe\">\n",
              "  <thead>\n",
              "    <tr style=\"text-align: right;\">\n",
              "      <th></th>\n",
              "      <th></th>\n",
              "      <th>PATIENT_VISIT_IDENTIFIER</th>\n",
              "      <th>AGE_ABOVE65</th>\n",
              "      <th>AGE_PERCENTIL</th>\n",
              "      <th>GENDER</th>\n",
              "      <th>DISEASE GROUPING 1</th>\n",
              "      <th>DISEASE GROUPING 2</th>\n",
              "      <th>DISEASE GROUPING 3</th>\n",
              "      <th>DISEASE GROUPING 4</th>\n",
              "      <th>DISEASE GROUPING 5</th>\n",
              "      <th>DISEASE GROUPING 6</th>\n",
              "      <th>...</th>\n",
              "      <th>BLOODPRESSURE_DIASTOLIC_MAX</th>\n",
              "      <th>BLOODPRESSURE_DIASTOLIC_DIFF</th>\n",
              "      <th>BLOODPRESSURE_SISTOLIC_DIFF</th>\n",
              "      <th>HEART_RATE_DIFF</th>\n",
              "      <th>RESPIRATORY_RATE_DIFF</th>\n",
              "      <th>TEMPERATURE_DIFF</th>\n",
              "      <th>OXYGEN_SATURATION_DIFF</th>\n",
              "      <th>HEART_RATE_DIFF_REL</th>\n",
              "      <th>WINDOW</th>\n",
              "      <th>ICU</th>\n",
              "    </tr>\n",
              "    <tr>\n",
              "      <th>PATIENT_VISIT_IDENTIFIER</th>\n",
              "      <th></th>\n",
              "      <th></th>\n",
              "      <th></th>\n",
              "      <th></th>\n",
              "      <th></th>\n",
              "      <th></th>\n",
              "      <th></th>\n",
              "      <th></th>\n",
              "      <th></th>\n",
              "      <th></th>\n",
              "      <th></th>\n",
              "      <th></th>\n",
              "      <th></th>\n",
              "      <th></th>\n",
              "      <th></th>\n",
              "      <th></th>\n",
              "      <th></th>\n",
              "      <th></th>\n",
              "      <th></th>\n",
              "      <th></th>\n",
              "      <th></th>\n",
              "      <th></th>\n",
              "    </tr>\n",
              "  </thead>\n",
              "  <tbody>\n",
              "    <tr>\n",
              "      <th>0</th>\n",
              "      <th>0</th>\n",
              "      <td>0</td>\n",
              "      <td>1</td>\n",
              "      <td>5</td>\n",
              "      <td>0</td>\n",
              "      <td>0.0</td>\n",
              "      <td>0.0</td>\n",
              "      <td>0.0</td>\n",
              "      <td>0.0</td>\n",
              "      <td>1.0</td>\n",
              "      <td>1.0</td>\n",
              "      <td>...</td>\n",
              "      <td>-0.247863</td>\n",
              "      <td>-1.000000</td>\n",
              "      <td>-1.000000</td>\n",
              "      <td>-1.000000</td>\n",
              "      <td>-1.000000</td>\n",
              "      <td>-1.000000</td>\n",
              "      <td>-1.000000</td>\n",
              "      <td>-1.000000</td>\n",
              "      <td>0-2</td>\n",
              "      <td>1</td>\n",
              "    </tr>\n",
              "    <tr>\n",
              "      <th>2</th>\n",
              "      <th>10</th>\n",
              "      <td>2</td>\n",
              "      <td>0</td>\n",
              "      <td>0</td>\n",
              "      <td>0</td>\n",
              "      <td>0.0</td>\n",
              "      <td>0.0</td>\n",
              "      <td>0.0</td>\n",
              "      <td>0.0</td>\n",
              "      <td>0.0</td>\n",
              "      <td>0.0</td>\n",
              "      <td>...</td>\n",
              "      <td>-0.435897</td>\n",
              "      <td>-0.547826</td>\n",
              "      <td>-0.533742</td>\n",
              "      <td>-0.603053</td>\n",
              "      <td>-0.764706</td>\n",
              "      <td>-1.000000</td>\n",
              "      <td>-0.959596</td>\n",
              "      <td>-0.747001</td>\n",
              "      <td>0-2</td>\n",
              "      <td>1</td>\n",
              "    </tr>\n",
              "    <tr>\n",
              "      <th>3</th>\n",
              "      <th>15</th>\n",
              "      <td>3</td>\n",
              "      <td>0</td>\n",
              "      <td>3</td>\n",
              "      <td>1</td>\n",
              "      <td>0.0</td>\n",
              "      <td>0.0</td>\n",
              "      <td>0.0</td>\n",
              "      <td>0.0</td>\n",
              "      <td>0.0</td>\n",
              "      <td>0.0</td>\n",
              "      <td>...</td>\n",
              "      <td>-0.299145</td>\n",
              "      <td>-1.000000</td>\n",
              "      <td>-1.000000</td>\n",
              "      <td>-1.000000</td>\n",
              "      <td>-1.000000</td>\n",
              "      <td>-1.000000</td>\n",
              "      <td>-1.000000</td>\n",
              "      <td>-1.000000</td>\n",
              "      <td>0-2</td>\n",
              "      <td>0</td>\n",
              "    </tr>\n",
              "    <tr>\n",
              "      <th>4</th>\n",
              "      <th>20</th>\n",
              "      <td>4</td>\n",
              "      <td>0</td>\n",
              "      <td>0</td>\n",
              "      <td>0</td>\n",
              "      <td>0.0</td>\n",
              "      <td>0.0</td>\n",
              "      <td>0.0</td>\n",
              "      <td>0.0</td>\n",
              "      <td>0.0</td>\n",
              "      <td>0.0</td>\n",
              "      <td>...</td>\n",
              "      <td>-0.076923</td>\n",
              "      <td>-1.000000</td>\n",
              "      <td>-0.877301</td>\n",
              "      <td>-0.923664</td>\n",
              "      <td>-0.882353</td>\n",
              "      <td>-0.952381</td>\n",
              "      <td>-0.979798</td>\n",
              "      <td>-0.956805</td>\n",
              "      <td>0-2</td>\n",
              "      <td>0</td>\n",
              "    </tr>\n",
              "    <tr>\n",
              "      <th>5</th>\n",
              "      <th>25</th>\n",
              "      <td>5</td>\n",
              "      <td>0</td>\n",
              "      <td>0</td>\n",
              "      <td>0</td>\n",
              "      <td>0.0</td>\n",
              "      <td>0.0</td>\n",
              "      <td>0.0</td>\n",
              "      <td>0.0</td>\n",
              "      <td>0.0</td>\n",
              "      <td>0.0</td>\n",
              "      <td>...</td>\n",
              "      <td>-0.247863</td>\n",
              "      <td>-0.826087</td>\n",
              "      <td>-0.754601</td>\n",
              "      <td>-0.984733</td>\n",
              "      <td>-1.000000</td>\n",
              "      <td>-0.976190</td>\n",
              "      <td>-0.979798</td>\n",
              "      <td>-0.986481</td>\n",
              "      <td>0-2</td>\n",
              "      <td>0</td>\n",
              "    </tr>\n",
              "    <tr>\n",
              "      <th>...</th>\n",
              "      <th>...</th>\n",
              "      <td>...</td>\n",
              "      <td>...</td>\n",
              "      <td>...</td>\n",
              "      <td>...</td>\n",
              "      <td>...</td>\n",
              "      <td>...</td>\n",
              "      <td>...</td>\n",
              "      <td>...</td>\n",
              "      <td>...</td>\n",
              "      <td>...</td>\n",
              "      <td>...</td>\n",
              "      <td>...</td>\n",
              "      <td>...</td>\n",
              "      <td>...</td>\n",
              "      <td>...</td>\n",
              "      <td>...</td>\n",
              "      <td>...</td>\n",
              "      <td>...</td>\n",
              "      <td>...</td>\n",
              "      <td>...</td>\n",
              "      <td>...</td>\n",
              "    </tr>\n",
              "    <tr>\n",
              "      <th>380</th>\n",
              "      <th>1900</th>\n",
              "      <td>380</td>\n",
              "      <td>0</td>\n",
              "      <td>3</td>\n",
              "      <td>1</td>\n",
              "      <td>0.0</td>\n",
              "      <td>0.0</td>\n",
              "      <td>0.0</td>\n",
              "      <td>0.0</td>\n",
              "      <td>0.0</td>\n",
              "      <td>0.0</td>\n",
              "      <td>...</td>\n",
              "      <td>-0.418803</td>\n",
              "      <td>-1.000000</td>\n",
              "      <td>-1.000000</td>\n",
              "      <td>-1.000000</td>\n",
              "      <td>-1.000000</td>\n",
              "      <td>-1.000000</td>\n",
              "      <td>-1.000000</td>\n",
              "      <td>-1.000000</td>\n",
              "      <td>0-2</td>\n",
              "      <td>1</td>\n",
              "    </tr>\n",
              "    <tr>\n",
              "      <th>381</th>\n",
              "      <th>1905</th>\n",
              "      <td>381</td>\n",
              "      <td>1</td>\n",
              "      <td>9</td>\n",
              "      <td>0</td>\n",
              "      <td>0.0</td>\n",
              "      <td>0.0</td>\n",
              "      <td>0.0</td>\n",
              "      <td>0.0</td>\n",
              "      <td>0.0</td>\n",
              "      <td>0.0</td>\n",
              "      <td>...</td>\n",
              "      <td>-0.589744</td>\n",
              "      <td>-1.000000</td>\n",
              "      <td>-1.000000</td>\n",
              "      <td>-1.000000</td>\n",
              "      <td>-1.000000</td>\n",
              "      <td>-0.619048</td>\n",
              "      <td>-1.000000</td>\n",
              "      <td>-1.000000</td>\n",
              "      <td>0-2</td>\n",
              "      <td>0</td>\n",
              "    </tr>\n",
              "    <tr>\n",
              "      <th>382</th>\n",
              "      <th>1910</th>\n",
              "      <td>382</td>\n",
              "      <td>0</td>\n",
              "      <td>4</td>\n",
              "      <td>0</td>\n",
              "      <td>0.0</td>\n",
              "      <td>0.0</td>\n",
              "      <td>0.0</td>\n",
              "      <td>0.0</td>\n",
              "      <td>0.0</td>\n",
              "      <td>0.0</td>\n",
              "      <td>...</td>\n",
              "      <td>-0.299145</td>\n",
              "      <td>-1.000000</td>\n",
              "      <td>-1.000000</td>\n",
              "      <td>-1.000000</td>\n",
              "      <td>-1.000000</td>\n",
              "      <td>-1.000000</td>\n",
              "      <td>-1.000000</td>\n",
              "      <td>-1.000000</td>\n",
              "      <td>0-2</td>\n",
              "      <td>1</td>\n",
              "    </tr>\n",
              "    <tr>\n",
              "      <th>383</th>\n",
              "      <th>1915</th>\n",
              "      <td>383</td>\n",
              "      <td>0</td>\n",
              "      <td>3</td>\n",
              "      <td>1</td>\n",
              "      <td>0.0</td>\n",
              "      <td>0.0</td>\n",
              "      <td>0.0</td>\n",
              "      <td>0.0</td>\n",
              "      <td>0.0</td>\n",
              "      <td>0.0</td>\n",
              "      <td>...</td>\n",
              "      <td>-0.247863</td>\n",
              "      <td>-1.000000</td>\n",
              "      <td>-1.000000</td>\n",
              "      <td>-1.000000</td>\n",
              "      <td>-1.000000</td>\n",
              "      <td>-1.000000</td>\n",
              "      <td>-1.000000</td>\n",
              "      <td>-1.000000</td>\n",
              "      <td>0-2</td>\n",
              "      <td>0</td>\n",
              "    </tr>\n",
              "    <tr>\n",
              "      <th>384</th>\n",
              "      <th>1920</th>\n",
              "      <td>384</td>\n",
              "      <td>0</td>\n",
              "      <td>4</td>\n",
              "      <td>1</td>\n",
              "      <td>0.0</td>\n",
              "      <td>0.0</td>\n",
              "      <td>0.0</td>\n",
              "      <td>0.0</td>\n",
              "      <td>0.0</td>\n",
              "      <td>0.0</td>\n",
              "      <td>...</td>\n",
              "      <td>-0.299145</td>\n",
              "      <td>-1.000000</td>\n",
              "      <td>-1.000000</td>\n",
              "      <td>-1.000000</td>\n",
              "      <td>-1.000000</td>\n",
              "      <td>-1.000000</td>\n",
              "      <td>-1.000000</td>\n",
              "      <td>-1.000000</td>\n",
              "      <td>0-2</td>\n",
              "      <td>0</td>\n",
              "    </tr>\n",
              "  </tbody>\n",
              "</table>\n",
              "<p>352 rows × 100 columns</p>\n",
              "</div>"
            ],
            "text/plain": [
              "                               PATIENT_VISIT_IDENTIFIER  AGE_ABOVE65  \\\n",
              "PATIENT_VISIT_IDENTIFIER                                               \n",
              "0                        0                            0            1   \n",
              "2                        10                           2            0   \n",
              "3                        15                           3            0   \n",
              "4                        20                           4            0   \n",
              "5                        25                           5            0   \n",
              "...                                                 ...          ...   \n",
              "380                      1900                       380            0   \n",
              "381                      1905                       381            1   \n",
              "382                      1910                       382            0   \n",
              "383                      1915                       383            0   \n",
              "384                      1920                       384            0   \n",
              "\n",
              "                               AGE_PERCENTIL  GENDER  DISEASE GROUPING 1  \\\n",
              "PATIENT_VISIT_IDENTIFIER                                                   \n",
              "0                        0                 5       0                 0.0   \n",
              "2                        10                0       0                 0.0   \n",
              "3                        15                3       1                 0.0   \n",
              "4                        20                0       0                 0.0   \n",
              "5                        25                0       0                 0.0   \n",
              "...                                      ...     ...                 ...   \n",
              "380                      1900              3       1                 0.0   \n",
              "381                      1905              9       0                 0.0   \n",
              "382                      1910              4       0                 0.0   \n",
              "383                      1915              3       1                 0.0   \n",
              "384                      1920              4       1                 0.0   \n",
              "\n",
              "                               DISEASE GROUPING 2  DISEASE GROUPING 3  \\\n",
              "PATIENT_VISIT_IDENTIFIER                                                \n",
              "0                        0                    0.0                 0.0   \n",
              "2                        10                   0.0                 0.0   \n",
              "3                        15                   0.0                 0.0   \n",
              "4                        20                   0.0                 0.0   \n",
              "5                        25                   0.0                 0.0   \n",
              "...                                           ...                 ...   \n",
              "380                      1900                 0.0                 0.0   \n",
              "381                      1905                 0.0                 0.0   \n",
              "382                      1910                 0.0                 0.0   \n",
              "383                      1915                 0.0                 0.0   \n",
              "384                      1920                 0.0                 0.0   \n",
              "\n",
              "                               DISEASE GROUPING 4  DISEASE GROUPING 5  \\\n",
              "PATIENT_VISIT_IDENTIFIER                                                \n",
              "0                        0                    0.0                 1.0   \n",
              "2                        10                   0.0                 0.0   \n",
              "3                        15                   0.0                 0.0   \n",
              "4                        20                   0.0                 0.0   \n",
              "5                        25                   0.0                 0.0   \n",
              "...                                           ...                 ...   \n",
              "380                      1900                 0.0                 0.0   \n",
              "381                      1905                 0.0                 0.0   \n",
              "382                      1910                 0.0                 0.0   \n",
              "383                      1915                 0.0                 0.0   \n",
              "384                      1920                 0.0                 0.0   \n",
              "\n",
              "                               DISEASE GROUPING 6  ...  \\\n",
              "PATIENT_VISIT_IDENTIFIER                           ...   \n",
              "0                        0                    1.0  ...   \n",
              "2                        10                   0.0  ...   \n",
              "3                        15                   0.0  ...   \n",
              "4                        20                   0.0  ...   \n",
              "5                        25                   0.0  ...   \n",
              "...                                           ...  ...   \n",
              "380                      1900                 0.0  ...   \n",
              "381                      1905                 0.0  ...   \n",
              "382                      1910                 0.0  ...   \n",
              "383                      1915                 0.0  ...   \n",
              "384                      1920                 0.0  ...   \n",
              "\n",
              "                               BLOODPRESSURE_DIASTOLIC_MAX  \\\n",
              "PATIENT_VISIT_IDENTIFIER                                     \n",
              "0                        0                       -0.247863   \n",
              "2                        10                      -0.435897   \n",
              "3                        15                      -0.299145   \n",
              "4                        20                      -0.076923   \n",
              "5                        25                      -0.247863   \n",
              "...                                                    ...   \n",
              "380                      1900                    -0.418803   \n",
              "381                      1905                    -0.589744   \n",
              "382                      1910                    -0.299145   \n",
              "383                      1915                    -0.247863   \n",
              "384                      1920                    -0.299145   \n",
              "\n",
              "                               BLOODPRESSURE_DIASTOLIC_DIFF  \\\n",
              "PATIENT_VISIT_IDENTIFIER                                      \n",
              "0                        0                        -1.000000   \n",
              "2                        10                       -0.547826   \n",
              "3                        15                       -1.000000   \n",
              "4                        20                       -1.000000   \n",
              "5                        25                       -0.826087   \n",
              "...                                                     ...   \n",
              "380                      1900                     -1.000000   \n",
              "381                      1905                     -1.000000   \n",
              "382                      1910                     -1.000000   \n",
              "383                      1915                     -1.000000   \n",
              "384                      1920                     -1.000000   \n",
              "\n",
              "                               BLOODPRESSURE_SISTOLIC_DIFF  HEART_RATE_DIFF  \\\n",
              "PATIENT_VISIT_IDENTIFIER                                                      \n",
              "0                        0                       -1.000000        -1.000000   \n",
              "2                        10                      -0.533742        -0.603053   \n",
              "3                        15                      -1.000000        -1.000000   \n",
              "4                        20                      -0.877301        -0.923664   \n",
              "5                        25                      -0.754601        -0.984733   \n",
              "...                                                    ...              ...   \n",
              "380                      1900                    -1.000000        -1.000000   \n",
              "381                      1905                    -1.000000        -1.000000   \n",
              "382                      1910                    -1.000000        -1.000000   \n",
              "383                      1915                    -1.000000        -1.000000   \n",
              "384                      1920                    -1.000000        -1.000000   \n",
              "\n",
              "                               RESPIRATORY_RATE_DIFF  TEMPERATURE_DIFF  \\\n",
              "PATIENT_VISIT_IDENTIFIER                                                 \n",
              "0                        0                 -1.000000         -1.000000   \n",
              "2                        10                -0.764706         -1.000000   \n",
              "3                        15                -1.000000         -1.000000   \n",
              "4                        20                -0.882353         -0.952381   \n",
              "5                        25                -1.000000         -0.976190   \n",
              "...                                              ...               ...   \n",
              "380                      1900              -1.000000         -1.000000   \n",
              "381                      1905              -1.000000         -0.619048   \n",
              "382                      1910              -1.000000         -1.000000   \n",
              "383                      1915              -1.000000         -1.000000   \n",
              "384                      1920              -1.000000         -1.000000   \n",
              "\n",
              "                               OXYGEN_SATURATION_DIFF  HEART_RATE_DIFF_REL  \\\n",
              "PATIENT_VISIT_IDENTIFIER                                                     \n",
              "0                        0                  -1.000000            -1.000000   \n",
              "2                        10                 -0.959596            -0.747001   \n",
              "3                        15                 -1.000000            -1.000000   \n",
              "4                        20                 -0.979798            -0.956805   \n",
              "5                        25                 -0.979798            -0.986481   \n",
              "...                                               ...                  ...   \n",
              "380                      1900               -1.000000            -1.000000   \n",
              "381                      1905               -1.000000            -1.000000   \n",
              "382                      1910               -1.000000            -1.000000   \n",
              "383                      1915               -1.000000            -1.000000   \n",
              "384                      1920               -1.000000            -1.000000   \n",
              "\n",
              "                               WINDOW  ICU  \n",
              "PATIENT_VISIT_IDENTIFIER                    \n",
              "0                        0        0-2    1  \n",
              "2                        10       0-2    1  \n",
              "3                        15       0-2    0  \n",
              "4                        20       0-2    0  \n",
              "5                        25       0-2    0  \n",
              "...                               ...  ...  \n",
              "380                      1900     0-2    1  \n",
              "381                      1905     0-2    0  \n",
              "382                      1910     0-2    1  \n",
              "383                      1915     0-2    0  \n",
              "384                      1920     0-2    0  \n",
              "\n",
              "[352 rows x 100 columns]"
            ]
          },
          "metadata": {
            "tags": []
          },
          "execution_count": 111
        }
      ]
    },
    {
      "cell_type": "code",
      "metadata": {
        "id": "FyeGsVha7Rr0",
        "outputId": "75a81a12-b9c1-4b63-c1de-2ad9c69d4bc7"
      },
      "source": [
        "#Vamos comparar os resultados com a nosa base:\n",
        "modelo_floresta = RandomForestClassifier()\n",
        "roda_modelo_cv(modelo_floresta,dados_limpos, 5, 10)"
      ],
      "execution_count": null,
      "outputs": [
        {
          "output_type": "stream",
          "text": [
            "AUC Médio: 0.7939557739557739 e AUC Médio Treino: 1.0\n",
            "Intervalo do AUC de treino: 0.7055497813730257 ~ 0.882361766538522\n"
          ],
          "name": "stdout"
        },
        {
          "output_type": "execute_result",
          "data": {
            "text/plain": [
              "(0.7939557739557739, 1.0)"
            ]
          },
          "metadata": {
            "tags": []
          },
          "execution_count": 114
        }
      ]
    },
    {
      "cell_type": "code",
      "metadata": {
        "id": "uj24dSpM7Rr0",
        "outputId": "5d0b4d42-50b2-4399-c179-0afb3d220a29"
      },
      "source": [
        "roda_modelo_cv(modelo_floresta,dados_limpos_semcorr, 5, 10)"
      ],
      "execution_count": null,
      "outputs": [
        {
          "output_type": "stream",
          "text": [
            "AUC Médio: 0.8016087035001509 e AUC Médio Treino: 1.0\n",
            "Intervalo do AUC de treino: 0.713830327136296 ~ 0.8893870798640058\n"
          ],
          "name": "stdout"
        },
        {
          "output_type": "execute_result",
          "data": {
            "text/plain": [
              "(0.8016087035001509, 1.0)"
            ]
          },
          "metadata": {
            "tags": []
          },
          "execution_count": 115
        }
      ]
    },
    {
      "cell_type": "markdown",
      "metadata": {
        "id": "qYQB-59b7Rr1"
      },
      "source": [
        "A melhora aparentemente foi pequena, contudo, agora podemos explorar melhor certos hiperparâmetros com menor risco de ter overfiting pois temos menos colunas para treino!"
      ]
    },
    {
      "cell_type": "markdown",
      "metadata": {
        "id": "zOC-acS47Rr1"
      },
      "source": [
        "### Desafio 14: Ler no Sklearn sobre feature selection e feature importance.\n",
        "\n",
        "### Desafio 15: Plotar também a matriz de confusão\n",
        "\n",
        "Não estou conseguindo no momento.\n",
        "\n",
        "### Desafio 16: Repassar pelo desafio 12 agora com essa nova base de dados.\n",
        "\n",
        "O desafio 16 é basicamente o que farei na criação do projeto então vou pular ele agora e faze-lo de forma rebuscada no próprio projeto."
      ]
    },
    {
      "cell_type": "code",
      "metadata": {
        "id": "txUTlq2n7Rr1"
      },
      "source": [
        ""
      ],
      "execution_count": null,
      "outputs": []
    }
  ]
}